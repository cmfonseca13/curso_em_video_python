{
 "cells": [
  {
   "cell_type": "code",
   "execution_count": 6,
   "id": "6ca891d1",
   "metadata": {
    "ExecuteTime": {
     "end_time": "2021-05-18T22:12:44.790950Z",
     "start_time": "2021-05-18T22:12:42.411932Z"
    }
   },
   "outputs": [
    {
     "name": "stdout",
     "output_type": "stream",
     "text": [
      "Digite um número:3\n",
      "Digite mais um número:3\n",
      "A soma vale 6\n"
     ]
    }
   ],
   "source": [
    "n1 = int(input('Digite um número: '))\n",
    "n2 = int(input('Digite mais um número: '))\n",
    "s = (n1 + n2)\n",
    "print('A soma vale',s)"
   ]
  },
  {
   "cell_type": "code",
   "execution_count": 9,
   "id": "c26841da",
   "metadata": {
    "ExecuteTime": {
     "end_time": "2021-05-18T22:16:07.313693Z",
     "start_time": "2021-05-18T22:16:05.485915Z"
    }
   },
   "outputs": [
    {
     "name": "stdout",
     "output_type": "stream",
     "text": [
      "Digite um número: 3\n",
      "Digite mais um número: 3\n",
      "A soma vale 6\n"
     ]
    }
   ],
   "source": [
    "n1 = int(input('Digite um número: '))\n",
    "n2 = int(input('Digite mais um número: '))\n",
    "s = (n1 + n2)\n",
    "print('A soma vale {}'.format(s))"
   ]
  },
  {
   "cell_type": "code",
   "execution_count": 12,
   "id": "fc0fbd1e",
   "metadata": {
    "ExecuteTime": {
     "end_time": "2021-05-18T22:18:24.776392Z",
     "start_time": "2021-05-18T22:18:21.903405Z"
    }
   },
   "outputs": [
    {
     "name": "stdout",
     "output_type": "stream",
     "text": [
      "Digite um número: 3\n",
      "Digite outro: 3\n",
      "A soma vale 6\n"
     ]
    }
   ],
   "source": [
    "n1 = int(input('Digite um número: '))\n",
    "n2 = int(input('Digite outro: '))\n",
    "print('A soma vale', s)"
   ]
  },
  {
   "cell_type": "code",
   "execution_count": 13,
   "id": "7c1280cb",
   "metadata": {
    "ExecuteTime": {
     "end_time": "2021-05-18T22:18:43.570908Z",
     "start_time": "2021-05-18T22:18:40.403903Z"
    }
   },
   "outputs": [
    {
     "name": "stdout",
     "output_type": "stream",
     "text": [
      "Digite um número: 3\n",
      "Digite outro: 3\n",
      "A soma vale 6\n"
     ]
    }
   ],
   "source": [
    "n1 = input('Digite um número: ')\n",
    "n2 = input('Digite outro: ')\n",
    "print('A soma vale', s)"
   ]
  },
  {
   "cell_type": "code",
   "execution_count": 17,
   "id": "677cfc9b",
   "metadata": {
    "ExecuteTime": {
     "end_time": "2021-05-18T22:21:07.676940Z",
     "start_time": "2021-05-18T22:21:05.672892Z"
    },
    "scrolled": true
   },
   "outputs": [
    {
     "name": "stdout",
     "output_type": "stream",
     "text": [
      "Digite um número: 3\n",
      "Digite outro:3\n",
      "A soma entre 3 e 3 vale 6\n"
     ]
    }
   ],
   "source": [
    "n1 = int(input('Digite um número: '))\n",
    "n2 = int(input('Digite outro:'))\n",
    "#print('A soma entre', n1, 'e', n2, 'vale', s)\n",
    "print ('A soma entre {0} e {1} vale {2}'.format(n1, n2, s))"
   ]
  },
  {
   "cell_type": "code",
   "execution_count": 18,
   "id": "d1b2dec0",
   "metadata": {
    "ExecuteTime": {
     "end_time": "2021-05-18T22:23:32.698599Z",
     "start_time": "2021-05-18T22:23:31.295385Z"
    }
   },
   "outputs": [
    {
     "name": "stdout",
     "output_type": "stream",
     "text": [
      "Digite um valor:3\n",
      "3.0\n"
     ]
    }
   ],
   "source": [
    "n = float(input('Digite um valor:'))\n",
    "print(n)"
   ]
  },
  {
   "cell_type": "code",
   "execution_count": 19,
   "id": "36a51b64",
   "metadata": {
    "ExecuteTime": {
     "end_time": "2021-05-18T22:24:11.462887Z",
     "start_time": "2021-05-18T22:24:09.822271Z"
    }
   },
   "outputs": [
    {
     "name": "stdout",
     "output_type": "stream",
     "text": [
      "Digite um valor:3\n",
      "True\n"
     ]
    }
   ],
   "source": [
    "n = bool(input('Digite um valor:'))\n",
    "print(n)"
   ]
  },
  {
   "cell_type": "code",
   "execution_count": 20,
   "id": "641dc014",
   "metadata": {
    "ExecuteTime": {
     "end_time": "2021-05-18T22:25:18.581771Z",
     "start_time": "2021-05-18T22:25:16.297381Z"
    }
   },
   "outputs": [
    {
     "name": "stdout",
     "output_type": "stream",
     "text": [
      "Digite algo:3\n",
      "True\n"
     ]
    }
   ],
   "source": [
    "n = input('Digite algo:')\n",
    "print(n.isnumeric())"
   ]
  },
  {
   "cell_type": "code",
   "execution_count": 21,
   "id": "de34e603",
   "metadata": {
    "ExecuteTime": {
     "end_time": "2021-05-18T22:25:38.757627Z",
     "start_time": "2021-05-18T22:25:34.546166Z"
    }
   },
   "outputs": [
    {
     "name": "stdout",
     "output_type": "stream",
     "text": [
      "Digite algo:ola\n",
      "False\n"
     ]
    }
   ],
   "source": [
    "n = input('Digite algo:')\n",
    "print(n.isnumeric())"
   ]
  },
  {
   "cell_type": "code",
   "execution_count": 22,
   "id": "334eb99a",
   "metadata": {
    "ExecuteTime": {
     "end_time": "2021-05-18T22:25:45.916728Z",
     "start_time": "2021-05-18T22:25:41.715877Z"
    }
   },
   "outputs": [
    {
     "name": "stdout",
     "output_type": "stream",
     "text": [
      "Digite algo:3a\n",
      "False\n"
     ]
    }
   ],
   "source": [
    "n = input('Digite algo:')\n",
    "print(n.isnumeric())"
   ]
  },
  {
   "cell_type": "code",
   "execution_count": 23,
   "id": "fb91342e",
   "metadata": {
    "ExecuteTime": {
     "end_time": "2021-05-18T22:25:59.255871Z",
     "start_time": "2021-05-18T22:25:56.639081Z"
    }
   },
   "outputs": [
    {
     "name": "stdout",
     "output_type": "stream",
     "text": [
      "Digite algo:ola\n",
      "True\n"
     ]
    }
   ],
   "source": [
    "n = input('Digite algo:')\n",
    "print(n.isalpha())"
   ]
  },
  {
   "cell_type": "code",
   "execution_count": 24,
   "id": "7e28c252",
   "metadata": {
    "ExecuteTime": {
     "end_time": "2021-05-18T22:26:04.444002Z",
     "start_time": "2021-05-18T22:26:03.760651Z"
    }
   },
   "outputs": [
    {
     "name": "stdout",
     "output_type": "stream",
     "text": [
      "Digite algo:3\n",
      "False\n"
     ]
    }
   ],
   "source": [
    "n = input('Digite algo:')\n",
    "print(n.isalpha())"
   ]
  },
  {
   "cell_type": "code",
   "execution_count": 25,
   "id": "cee6b68f",
   "metadata": {
    "ExecuteTime": {
     "end_time": "2021-05-18T22:26:11.184591Z",
     "start_time": "2021-05-18T22:26:08.179868Z"
    }
   },
   "outputs": [
    {
     "name": "stdout",
     "output_type": "stream",
     "text": [
      "Digite algo:3a\n",
      "False\n"
     ]
    }
   ],
   "source": [
    "n = input('Digite algo:')\n",
    "print(n.isalpha())"
   ]
  },
  {
   "cell_type": "code",
   "execution_count": 27,
   "id": "038d6c92",
   "metadata": {
    "ExecuteTime": {
     "end_time": "2021-05-18T22:26:47.536162Z",
     "start_time": "2021-05-18T22:26:45.115000Z"
    }
   },
   "outputs": [
    {
     "name": "stdout",
     "output_type": "stream",
     "text": [
      "Digite algo:3a\n",
      "True\n"
     ]
    }
   ],
   "source": [
    "n = input('Digite algo:')\n",
    "print(n.isalnum())"
   ]
  },
  {
   "cell_type": "code",
   "execution_count": 30,
   "id": "69f45310",
   "metadata": {
    "ExecuteTime": {
     "end_time": "2021-05-18T22:29:29.495096Z",
     "start_time": "2021-05-18T22:29:26.873852Z"
    }
   },
   "outputs": [
    {
     "name": "stdout",
     "output_type": "stream",
     "text": [
      "Digite um número: 3\n",
      "Digite outro número: 5\n",
      "A soma de 3 e 5 é 8\n"
     ]
    }
   ],
   "source": [
    "n1 = int(input('Digite um número: '))\n",
    "n2 = int(input('Digite outro número: '))\n",
    "s = n1+n2\n",
    "print('A soma de {} e {} é {}'.format(n1, n2, s))"
   ]
  },
  {
   "cell_type": "code",
   "execution_count": 32,
   "id": "a7b565e2",
   "metadata": {
    "ExecuteTime": {
     "end_time": "2021-05-18T22:31:46.815628Z",
     "start_time": "2021-05-18T22:31:43.785841Z"
    }
   },
   "outputs": [
    {
     "name": "stdout",
     "output_type": "stream",
     "text": [
      "Digite algo:Carolina\n",
      "<class 'str'> False True True False False\n"
     ]
    }
   ],
   "source": [
    "n = input('Digite algo:')\n",
    "print(type(n), n.isnumeric(), n.isalpha(), n.isalnum(), n.isupper(), n.islower())"
   ]
  },
  {
   "cell_type": "code",
   "execution_count": 33,
   "id": "1f8cd37f",
   "metadata": {
    "ExecuteTime": {
     "end_time": "2021-05-18T22:33:43.713370Z",
     "start_time": "2021-05-18T22:33:40.654434Z"
    }
   },
   "outputs": [
    {
     "name": "stdout",
     "output_type": "stream",
     "text": [
      "Digite um valor:3\n",
      "Digite outro valor:6\n",
      "A soma entre 3 e 6 é igual a 9!\n"
     ]
    }
   ],
   "source": [
    "n1 = int(input('Digite um valor:'))\n",
    "n2 = int(input('Digite outro valor:'))\n",
    "s = n1+n2\n",
    "print('A soma entre {} e {} é igual a {}!'.format(n1, n2, s))"
   ]
  },
  {
   "cell_type": "code",
   "execution_count": 35,
   "id": "cb8d8739",
   "metadata": {
    "ExecuteTime": {
     "end_time": "2021-05-18T22:42:20.119579Z",
     "start_time": "2021-05-18T22:42:14.722295Z"
    }
   },
   "outputs": [
    {
     "name": "stdout",
     "output_type": "stream",
     "text": [
      "Digite algo: Carolina\n",
      "O tipo primitivo desse valor é <class 'str'>\n",
      "Só tem espaços? False\n",
      "É um número? False\n",
      "É alfabético? True\n",
      "É alfanumérico? True\n",
      "Está em maiúsculas? False\n",
      "Está em minúsculas? False\n",
      "Está capitalizada? True\n"
     ]
    }
   ],
   "source": [
    "n = input('Digite algo: ')\n",
    "print('O tipo primitivo desse valor é', type(n))\n",
    "print('Só tem espaços?', n.isspace())\n",
    "print('É um número?', n.isnumeric())\n",
    "print('É alfabético?', n.isalpha())\n",
    "print('É alfanumérico?', n.isalnum())\n",
    "print('Está em maiúsculas?', n.isupper())\n",
    "print('Está em minúsculas?', n.islower())\n",
    "print('Está capitalizada?', n.istitle())"
   ]
  }
 ],
 "metadata": {
  "kernelspec": {
   "display_name": "Python 3",
   "language": "python",
   "name": "python3"
  },
  "varInspector": {
   "cols": {
    "lenName": 16,
    "lenType": 16,
    "lenVar": 40
   },
   "kernels_config": {
    "python": {
     "delete_cmd_postfix": "",
     "delete_cmd_prefix": "del ",
     "library": "var_list.py",
     "varRefreshCmd": "print(var_dic_list())"
    },
    "r": {
     "delete_cmd_postfix": ") ",
     "delete_cmd_prefix": "rm(",
     "library": "var_list.r",
     "varRefreshCmd": "cat(var_dic_list()) "
    }
   },
   "types_to_exclude": [
    "module",
    "function",
    "builtin_function_or_method",
    "instance",
    "_Feature"
   ],
   "window_display": false
  }
 },
 "nbformat": 4,
 "nbformat_minor": 5
}
