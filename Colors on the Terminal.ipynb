{
 "cells": [
  {
   "cell_type": "code",
   "execution_count": 1,
   "id": "f58801fc",
   "metadata": {
    "ExecuteTime": {
     "end_time": "2021-05-21T11:21:12.461492Z",
     "start_time": "2021-05-21T11:21:12.450284Z"
    }
   },
   "outputs": [
    {
     "name": "stdout",
     "output_type": "stream",
     "text": [
      "\u001b[31mOlá Mundo!\n"
     ]
    }
   ],
   "source": [
    "print('\\033[31mOlá Mundo!')"
   ]
  },
  {
   "cell_type": "code",
   "execution_count": 2,
   "id": "a65a9b87",
   "metadata": {
    "ExecuteTime": {
     "end_time": "2021-05-21T11:21:28.156174Z",
     "start_time": "2021-05-21T11:21:28.139265Z"
    }
   },
   "outputs": [
    {
     "name": "stdout",
     "output_type": "stream",
     "text": [
      "\u001b[43mOlá Mundo!\n"
     ]
    }
   ],
   "source": [
    "print('\\033[43mOlá Mundo!')"
   ]
  },
  {
   "cell_type": "code",
   "execution_count": 3,
   "id": "dee135a8",
   "metadata": {
    "ExecuteTime": {
     "end_time": "2021-05-21T11:22:11.436735Z",
     "start_time": "2021-05-21T11:22:11.426232Z"
    }
   },
   "outputs": [
    {
     "name": "stdout",
     "output_type": "stream",
     "text": [
      "\u001b[1;31;43mOlá Mundo!\n"
     ]
    }
   ],
   "source": [
    "print('\\033[1;31;43mOlá Mundo!')"
   ]
  },
  {
   "cell_type": "code",
   "execution_count": 5,
   "id": "14218077",
   "metadata": {
    "ExecuteTime": {
     "end_time": "2021-05-21T11:22:45.127527Z",
     "start_time": "2021-05-21T11:22:45.114513Z"
    }
   },
   "outputs": [
    {
     "name": "stdout",
     "output_type": "stream",
     "text": [
      "\u001b[1;31;43mOlá Mundo!\u001b[m\n"
     ]
    }
   ],
   "source": [
    "print('\\033[1;31;43mOlá Mundo!\\033[m')"
   ]
  },
  {
   "cell_type": "code",
   "execution_count": 12,
   "id": "bcd356e8",
   "metadata": {
    "ExecuteTime": {
     "end_time": "2021-05-21T11:24:45.264270Z",
     "start_time": "2021-05-21T11:24:45.252643Z"
    }
   },
   "outputs": [
    {
     "name": "stdout",
     "output_type": "stream",
     "text": [
      "\u001b[4;37;45mOlá Mundo!\u001b[m\n"
     ]
    }
   ],
   "source": [
    "print('\\033[4;37;45mOlá Mundo!\\033[m')"
   ]
  },
  {
   "cell_type": "code",
   "execution_count": 9,
   "id": "33c1f336",
   "metadata": {
    "ExecuteTime": {
     "end_time": "2021-05-21T11:24:18.060981Z",
     "start_time": "2021-05-21T11:24:18.047971Z"
    }
   },
   "outputs": [
    {
     "name": "stdout",
     "output_type": "stream",
     "text": [
      "\u001b[30mOlá Mundo!\u001b[m\n"
     ]
    }
   ],
   "source": [
    "print('\\033[30mOlá Mundo!\\033[m')"
   ]
  },
  {
   "cell_type": "code",
   "execution_count": 28,
   "id": "efd990a7",
   "metadata": {
    "ExecuteTime": {
     "end_time": "2021-05-21T11:42:10.738180Z",
     "start_time": "2021-05-21T11:42:10.727668Z"
    }
   },
   "outputs": [
    {
     "name": "stdout",
     "output_type": "stream",
     "text": [
      "\u001b[37mOlá Mundo!\u001b[m\n"
     ]
    }
   ],
   "source": [
    "print('\\033[37mOlá Mundo!\\033[m')"
   ]
  },
  {
   "cell_type": "code",
   "execution_count": 30,
   "id": "88528093",
   "metadata": {
    "ExecuteTime": {
     "end_time": "2021-05-21T11:42:29.271973Z",
     "start_time": "2021-05-21T11:42:29.265032Z"
    }
   },
   "outputs": [
    {
     "name": "stdout",
     "output_type": "stream",
     "text": [
      "\u001b[7;30mOlá Mundo!\u001b[m\n"
     ]
    }
   ],
   "source": [
    "print('\\033[7;30mOlá Mundo!\\033[m')"
   ]
  },
  {
   "cell_type": "code",
   "execution_count": 15,
   "id": "967a8a1a",
   "metadata": {
    "ExecuteTime": {
     "end_time": "2021-05-21T11:25:50.048448Z",
     "start_time": "2021-05-21T11:25:50.045446Z"
    }
   },
   "outputs": [
    {
     "name": "stdout",
     "output_type": "stream",
     "text": [
      "\u001b[0;33;44mOlá Mundo!\u001b[m\n"
     ]
    }
   ],
   "source": [
    "print('\\033[0;33;44mOlá Mundo!\\033[m')"
   ]
  },
  {
   "cell_type": "code",
   "execution_count": 16,
   "id": "08796dcb",
   "metadata": {
    "ExecuteTime": {
     "end_time": "2021-05-21T11:25:57.726238Z",
     "start_time": "2021-05-21T11:25:57.723243Z"
    }
   },
   "outputs": [
    {
     "name": "stdout",
     "output_type": "stream",
     "text": [
      "\u001b[7;33;44mOlá Mundo!\u001b[m\n"
     ]
    }
   ],
   "source": [
    "print('\\033[7;33;44mOlá Mundo!\\033[m')"
   ]
  },
  {
   "cell_type": "code",
   "execution_count": 21,
   "id": "b84a8af7",
   "metadata": {
    "ExecuteTime": {
     "end_time": "2021-05-21T11:29:47.470646Z",
     "start_time": "2021-05-21T11:29:47.459794Z"
    }
   },
   "outputs": [
    {
     "name": "stdout",
     "output_type": "stream",
     "text": [
      "Os valores são \u001b[32m3 \u001b[me \u001b[31m5\u001b[m!!!\n"
     ]
    }
   ],
   "source": [
    "a = 3\n",
    "b = 5\n",
    "print(f'Os valores são \\033[32m{a} \\033[me \\033[31m{b}\\033[m!!!')"
   ]
  }
 ],
 "metadata": {
  "kernelspec": {
   "display_name": "Python 3",
   "language": "python",
   "name": "python3"
  },
  "language_info": {
   "codemirror_mode": {
    "name": "ipython",
    "version": 3
   },
   "file_extension": ".py",
   "mimetype": "text/x-python",
   "name": "python",
   "nbconvert_exporter": "python",
   "pygments_lexer": "ipython3",
   "version": "3.8.10"
  },
  "varInspector": {
   "cols": {
    "lenName": 16,
    "lenType": 16,
    "lenVar": 40
   },
   "kernels_config": {
    "python": {
     "delete_cmd_postfix": "",
     "delete_cmd_prefix": "del ",
     "library": "var_list.py",
     "varRefreshCmd": "print(var_dic_list())"
    },
    "r": {
     "delete_cmd_postfix": ") ",
     "delete_cmd_prefix": "rm(",
     "library": "var_list.r",
     "varRefreshCmd": "cat(var_dic_list()) "
    }
   },
   "types_to_exclude": [
    "module",
    "function",
    "builtin_function_or_method",
    "instance",
    "_Feature"
   ],
   "window_display": false
  }
 },
 "nbformat": 4,
 "nbformat_minor": 5
}
