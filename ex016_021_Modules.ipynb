{
 "cells": [
  {
   "cell_type": "code",
   "execution_count": 7,
   "id": "fabd1393",
   "metadata": {
    "ExecuteTime": {
     "end_time": "2021-05-19T14:28:47.984593Z",
     "start_time": "2021-05-19T14:28:46.416263Z"
    },
    "scrolled": true
   },
   "outputs": [
    {
     "name": "stdout",
     "output_type": "stream",
     "text": [
      "Digite um número: 29\n",
      "A raiz de 29 é igual a 5.39\n"
     ]
    }
   ],
   "source": [
    "#import math\n",
    "num = int(input('Digite um número: '))\n",
    "sqrt = math.sqrt(num)\n",
    "print(f'A raiz de {num} é igual a {sqrt:.2f}')\n"
   ]
  },
  {
   "cell_type": "code",
   "execution_count": 10,
   "id": "bb9c6bc8",
   "metadata": {
    "ExecuteTime": {
     "end_time": "2021-05-19T14:30:30.433510Z",
     "start_time": "2021-05-19T14:30:28.873922Z"
    }
   },
   "outputs": [
    {
     "name": "stdout",
     "output_type": "stream",
     "text": [
      "Digite um número: 29\n",
      "A raiz de 29 é igual a 5.39\n"
     ]
    }
   ],
   "source": [
    "from math import sqrt\n",
    "num = int(input('Digite um número: '))\n",
    "rq = sqrt(num)\n",
    "print(f'A raiz de {num} é igual a {rq:.2f}')"
   ]
  },
  {
   "cell_type": "code",
   "execution_count": 13,
   "id": "825ca521",
   "metadata": {
    "ExecuteTime": {
     "end_time": "2021-05-19T14:31:19.445546Z",
     "start_time": "2021-05-19T14:31:17.678566Z"
    }
   },
   "outputs": [
    {
     "name": "stdout",
     "output_type": "stream",
     "text": [
      "Digite um número: 29\n",
      "A raiz de 29 é igual a 5\n"
     ]
    }
   ],
   "source": [
    "from math import sqrt, floor\n",
    "num = int(input('Digite um número: '))\n",
    "rq = sqrt(num)\n",
    "print(f'A raiz de {num} é igual a {floor(rq)}')"
   ]
  },
  {
   "cell_type": "code",
   "execution_count": 16,
   "id": "6117b95f",
   "metadata": {
    "ExecuteTime": {
     "end_time": "2021-05-19T14:35:33.592498Z",
     "start_time": "2021-05-19T14:35:33.583491Z"
    }
   },
   "outputs": [
    {
     "name": "stdout",
     "output_type": "stream",
     "text": [
      "0.7595557505499791\n"
     ]
    }
   ],
   "source": [
    "import random\n",
    "num = random.random()\n",
    "print(num)"
   ]
  },
  {
   "cell_type": "code",
   "execution_count": 17,
   "id": "1b3bc6b4",
   "metadata": {
    "ExecuteTime": {
     "end_time": "2021-05-19T14:35:41.552003Z",
     "start_time": "2021-05-19T14:35:41.534898Z"
    }
   },
   "outputs": [
    {
     "name": "stdout",
     "output_type": "stream",
     "text": [
      "3\n"
     ]
    }
   ],
   "source": [
    "import random\n",
    "num = random.randint(1, 10)\n",
    "print(num)"
   ]
  },
  {
   "cell_type": "code",
   "execution_count": 26,
   "id": "e436fb2e",
   "metadata": {
    "ExecuteTime": {
     "end_time": "2021-05-19T14:45:41.837356Z",
     "start_time": "2021-05-19T14:45:41.830351Z"
    }
   },
   "outputs": [
    {
     "name": "stdout",
     "output_type": "stream",
     "text": [
      "Olá, Mundo 😎\n",
      "Olá, Mundo 🌎\n"
     ]
    }
   ],
   "source": [
    "import emoji\n",
    "print(emoji.emojize('Olá, Mundo :sunglasses:', use_aliases=True))\n",
    "print(emoji.emojize('Olá, Mundo :earth_americas:', use_aliases=True))"
   ]
  },
  {
   "cell_type": "markdown",
   "id": "8df03a90",
   "metadata": {},
   "source": [
    "# Desafios"
   ]
  },
  {
   "cell_type": "code",
   "execution_count": 28,
   "id": "67f99cb6",
   "metadata": {
    "ExecuteTime": {
     "end_time": "2021-05-19T14:50:33.230558Z",
     "start_time": "2021-05-19T14:50:29.914327Z"
    }
   },
   "outputs": [
    {
     "name": "stdout",
     "output_type": "stream",
     "text": [
      "Digite um número: 6.127\n",
      "O número 6.127 tem a parte inteira 6.\n"
     ]
    }
   ],
   "source": [
    "# 16. Crie um programa que leia um número Real qualquer pelo teclado e mostre na tela a sua porção inteira.\n",
    "from math import trunc\n",
    "\n",
    "n = float(input('Digite um número: '))\n",
    "print(f'O número {n:.3f} tem a parte inteira {trunc(n)}.')"
   ]
  },
  {
   "cell_type": "code",
   "execution_count": 74,
   "id": "2946c1c3",
   "metadata": {
    "ExecuteTime": {
     "end_time": "2021-05-19T17:39:19.131828Z",
     "start_time": "2021-05-19T17:39:11.147580Z"
    }
   },
   "outputs": [
    {
     "name": "stdout",
     "output_type": "stream",
     "text": [
      "Qual o comprimento do cateto oposto? 2.5\n",
      "E do cateto adjecente? 5\n",
      "Se o comprimento do cateto oposto é 2.5 e do cateto adjacente é 5.0, a hipotenusa mede 5.59\n"
     ]
    }
   ],
   "source": [
    "# 17. Faça um programa que leia o comprimento do cateto oposto e do cateto adjacente de um triângulo retângulo. Calcule e mostre o comprimento da hipotenusa.\n",
    "import math\n",
    "\n",
    "co = float(input('Qual o comprimento do cateto oposto? '))\n",
    "ca = float(input('E do cateto adjecente? '))\n",
    "print (f'Se o comprimento do cateto oposto é {co} e do cateto adjacente é {ca}, a hipotenusa mede {math.sqrt(math.pow(co,2)+math.pow(ca,2)):.2f}')"
   ]
  },
  {
   "cell_type": "code",
   "execution_count": 60,
   "id": "f70b5b16",
   "metadata": {
    "ExecuteTime": {
     "end_time": "2021-05-19T15:28:42.379206Z",
     "start_time": "2021-05-19T15:28:41.607144Z"
    }
   },
   "outputs": [
    {
     "name": "stdout",
     "output_type": "stream",
     "text": [
      "Digite um ângulo: 30\n",
      "O valor do seno do ângulo 30º é 0.50, o valor do cosseno é 0.87 e o valor da tangente é 0.58.\n"
     ]
    }
   ],
   "source": [
    "# 18. Faça um programa que leia um ângulo qualquer e mostre na tela o valor do seno, cosseno e tangente desse ângulo.\n",
    "\n",
    "an = int(input('Digite um ângulo: '))\n",
    "print(f'O valor do seno do ângulo {an}º é {math.sin(math.radians(an)):.2f}, o valor do cosseno é {math.cos(math.radians(an)):.2f} e o valor da tangente é {math.tan(math.radians(an)):.2f}.')"
   ]
  },
  {
   "cell_type": "code",
   "execution_count": 62,
   "id": "86edd141",
   "metadata": {
    "ExecuteTime": {
     "end_time": "2021-05-19T15:31:09.195424Z",
     "start_time": "2021-05-19T15:31:00.356688Z"
    }
   },
   "outputs": [
    {
     "name": "stdout",
     "output_type": "stream",
     "text": [
      "Primeiro aluno: João\n",
      "Segundo aluno: Mário\n",
      "Terceiro aluno: Marcelo\n",
      "Quarto aluno: Paulo\n",
      "Entre os alunos João, Mário, Marcelo e Paulo, quem vem apagar o quadro é o Mário.\n"
     ]
    }
   ],
   "source": [
    "# 19. Um professor quer sortear um dos seus quatro alunos para apagar o quadro. Faça um programa que ajude ele, lendo o nome deles e escrevendo o nome do escolhido.\n",
    "import random\n",
    "\n",
    "a1 = str(input('Primeiro aluno: '))\n",
    "a2 = str(input('Segundo aluno: '))\n",
    "a3 = str(input('Terceiro aluno: '))\n",
    "a4 = str(input('Quarto aluno: '))\n",
    "lista = [a1, a2, a3, a4]\n",
    "print(f'Entre os alunos {a1}, {a2}, {a3} e {a4}, quem vem apagar o quadro é o {random.choice(lista)}.')"
   ]
  },
  {
   "cell_type": "code",
   "execution_count": 64,
   "id": "0f0ed1f0",
   "metadata": {
    "ExecuteTime": {
     "end_time": "2021-05-19T15:33:51.180623Z",
     "start_time": "2021-05-19T15:33:39.735612Z"
    }
   },
   "outputs": [
    {
     "name": "stdout",
     "output_type": "stream",
     "text": [
      "Primeiro aluno: Ana\n",
      "Segundo aluno: José\n",
      "Terceiro aluno: Paula\n",
      "Quarto aluno: Pedro\n",
      "A ordem de apresentação é a seguinte: \n",
      "['Paula', 'Ana', 'José', 'Pedro']\n"
     ]
    }
   ],
   "source": [
    "# 20. O mesmo professor do desafio anterior quer sortear a ordem de apresentação de trabalhos dos alunos. Faça um programa que leia o nome dos quatro alunos e mostre a ordem sorteada.\n",
    "import random\n",
    "\n",
    "a1 = str(input('Primeiro aluno: '))\n",
    "a2 = str(input('Segundo aluno: '))\n",
    "a3 = str(input('Terceiro aluno: '))\n",
    "a4 = str(input('Quarto aluno: '))\n",
    "lista = [a1, a2, a3, a4]\n",
    "random.shuffle(lista)\n",
    "print(f'A ordem de apresentação é a seguinte: \\n{lista}')"
   ]
  },
  {
   "cell_type": "code",
   "execution_count": 73,
   "id": "165d46c1",
   "metadata": {
    "ExecuteTime": {
     "end_time": "2021-05-19T15:47:56.840734Z",
     "start_time": "2021-05-19T15:47:56.836238Z"
    }
   },
   "outputs": [
    {
     "ename": "TypeError",
     "evalue": "'module' object is not callable",
     "output_type": "error",
     "traceback": [
      "\u001b[1;31m---------------------------------------------------------------------------\u001b[0m",
      "\u001b[1;31mTypeError\u001b[0m                                 Traceback (most recent call last)",
      "\u001b[1;32m<ipython-input-73-7945cc8c12cc>\u001b[0m in \u001b[0;36m<module>\u001b[1;34m\u001b[0m\n\u001b[0;32m      3\u001b[0m \u001b[1;32mimport\u001b[0m \u001b[0mpygame\u001b[0m\u001b[1;33m\u001b[0m\u001b[1;33m\u001b[0m\u001b[0m\n\u001b[0;32m      4\u001b[0m \u001b[0mpygame\u001b[0m\u001b[1;33m.\u001b[0m\u001b[0minit\u001b[0m\u001b[1;33m(\u001b[0m\u001b[1;33m)\u001b[0m\u001b[1;33m\u001b[0m\u001b[1;33m\u001b[0m\u001b[0m\n\u001b[1;32m----> 5\u001b[1;33m \u001b[0mpygame\u001b[0m\u001b[1;33m.\u001b[0m\u001b[0mmixer\u001b[0m\u001b[1;33m.\u001b[0m\u001b[0mmusic\u001b[0m\u001b[1;33m(\u001b[0m\u001b[1;34m'Prima_musica.mp4'\u001b[0m\u001b[1;33m)\u001b[0m\u001b[1;33m\u001b[0m\u001b[1;33m\u001b[0m\u001b[0m\n\u001b[0m\u001b[0;32m      6\u001b[0m \u001b[0mpygame\u001b[0m\u001b[1;33m.\u001b[0m\u001b[0mmixer\u001b[0m\u001b[1;33m.\u001b[0m\u001b[0mmusic\u001b[0m\u001b[1;33m.\u001b[0m\u001b[0mplay\u001b[0m\u001b[1;33m(\u001b[0m\u001b[1;33m)\u001b[0m\u001b[1;33m\u001b[0m\u001b[1;33m\u001b[0m\u001b[0m\n\u001b[0;32m      7\u001b[0m \u001b[0mpygame\u001b[0m\u001b[1;33m.\u001b[0m\u001b[0mevent\u001b[0m\u001b[1;33m.\u001b[0m\u001b[0mwait\u001b[0m\u001b[1;33m(\u001b[0m\u001b[1;33m)\u001b[0m\u001b[1;33m\u001b[0m\u001b[1;33m\u001b[0m\u001b[0m\n",
      "\u001b[1;31mTypeError\u001b[0m: 'module' object is not callable"
     ]
    }
   ],
   "source": [
    "# 21. Faça um programa em Python que abra e reproduza o áudio de um arquivo MP3.\n",
    "\n",
    "import pygame\n",
    "pygame.init()\n",
    "pygame.mixer.music('....')\n",
    "pygame.mixer.music.play()\n",
    "pygame.event.wait()"
   ]
  }
 ],
 "metadata": {
  "kernelspec": {
   "display_name": "Python 3",
   "language": "python",
   "name": "python3"
  },
  "language_info": {
   "codemirror_mode": {
    "name": "ipython",
    "version": 3
   },
   "file_extension": ".py",
   "mimetype": "text/x-python",
   "name": "python",
   "nbconvert_exporter": "python",
   "pygments_lexer": "ipython3",
   "version": "3.8.10"
  },
  "varInspector": {
   "cols": {
    "lenName": 16,
    "lenType": 16,
    "lenVar": 40
   },
   "kernels_config": {
    "python": {
     "delete_cmd_postfix": "",
     "delete_cmd_prefix": "del ",
     "library": "var_list.py",
     "varRefreshCmd": "print(var_dic_list())"
    },
    "r": {
     "delete_cmd_postfix": ") ",
     "delete_cmd_prefix": "rm(",
     "library": "var_list.r",
     "varRefreshCmd": "cat(var_dic_list()) "
    }
   },
   "types_to_exclude": [
    "module",
    "function",
    "builtin_function_or_method",
    "instance",
    "_Feature"
   ],
   "window_display": false
  }
 },
 "nbformat": 4,
 "nbformat_minor": 5
}
