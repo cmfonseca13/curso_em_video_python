{
 "cells": [
  {
   "cell_type": "code",
   "execution_count": null,
   "id": "984166a6",
   "metadata": {
    "ExecuteTime": {
     "end_time": "2021-05-24T15:59:57.715443Z",
     "start_time": "2021-05-24T15:59:57.699929Z"
    }
   },
   "outputs": [],
   "source": [
    "#for c in range (1, 10):\n",
    "    #print(c)\n",
    "#print('FIM')\n",
    "\n",
    "c = 1\n",
    "while c < 10:\n",
    "    print(c)\n",
    "    c += 1\n",
    "print('FIM')"
   ]
  },
  {
   "cell_type": "code",
   "execution_count": null,
   "id": "04024c6d",
   "metadata": {
    "ExecuteTime": {
     "end_time": "2021-05-24T16:02:49.387613Z",
     "start_time": "2021-05-24T16:02:45.415632Z"
    }
   },
   "outputs": [],
   "source": [
    "#for c in range (1, 5):\n",
    "    #n = int(input('Digite um valor: '))\n",
    "#print('FIM')\n",
    "\n",
    "n = 1\n",
    "while n != 0:\n",
    "    n = int(input('Digite um valor: '))\n",
    "print('FIM')\n",
    "\n"
   ]
  },
  {
   "cell_type": "code",
   "execution_count": null,
   "id": "e236a99b",
   "metadata": {
    "ExecuteTime": {
     "end_time": "2021-05-24T17:49:12.700626Z",
     "start_time": "2021-05-24T17:48:51.682099Z"
    }
   },
   "outputs": [],
   "source": [
    "r = 'S'\n",
    "while r == 'S':\n",
    "    n = int(input('Digite um valor: '))\n",
    "    r = str(input('Quer continuar? [S/N] ')).upper()\n",
    "print('FIM')\n"
   ]
  },
  {
   "cell_type": "code",
   "execution_count": null,
   "id": "7d6c822d",
   "metadata": {
    "ExecuteTime": {
     "end_time": "2021-05-24T16:10:06.050417Z",
     "start_time": "2021-05-24T16:10:00.898153Z"
    },
    "scrolled": true
   },
   "outputs": [],
   "source": [
    "n = 1\n",
    "par = impar = 0\n",
    "while n != 0:\n",
    "    n = int(input('Digite um valor: '))\n",
    "    if n != 0:\n",
    "        if n % 2 == 0:\n",
    "            par += 1\n",
    "        else:\n",
    "            impar += 1\n",
    "print(f'Você digitou {par} números pares e {impar} números ímpares.')"
   ]
  },
  {
   "cell_type": "markdown",
   "id": "1ae43ad0",
   "metadata": {},
   "source": [
    "# Desafios"
   ]
  },
  {
   "cell_type": "code",
   "execution_count": null,
   "id": "bb68a87f",
   "metadata": {
    "ExecuteTime": {
     "end_time": "2021-05-24T18:02:09.753615Z",
     "start_time": "2021-05-24T18:02:03.931094Z"
    }
   },
   "outputs": [],
   "source": [
    "# 57. Faça um programa que leia o sexo de uma pessoa, mas só aceite os valores 'M' ou 'F'.\n",
    "## Caso esteja errado, peça a digitação novamente até ter um valor correto.\n",
    "\n",
    "sexo = str(input('Informe seu sexo [F/M] ')).strip().upper()[0]\n",
    "while sexo not in 'FM':\n",
    "    sexo = str(input('Dados inválidos. Por favor, informe seu sexo [F/M] ')).strip().upper()[0]\n",
    "print(f'Sexo {sexo} registado com sucesso.')\n",
    "    \n"
   ]
  },
  {
   "cell_type": "code",
   "execution_count": null,
   "id": "fcb73f67",
   "metadata": {
    "ExecuteTime": {
     "end_time": "2021-05-24T18:07:08.661646Z",
     "start_time": "2021-05-24T18:06:55.813374Z"
    }
   },
   "outputs": [],
   "source": [
    "# 58. Melhore o jogo do desafio 028 onde o computador vai 'pensar' em um número de 0 a 10.\n",
    "## Só que agora o jogador vai tentar adivinhar até acertar, mostrando no final quantos papites foram necessários para vencer.\n",
    "## Eu vou pensar num número, tenta adivinhar... \n",
    "## Parabéns, acertou!\n",
    "## Tenta de novo!\n",
    "## usar randint entre 0 e 10\n",
    "\n",
    "from random import randint\n",
    "from time import sleep\n",
    "\n",
    "n_pc = randint(0,10) #Faz o computador \"PENSAR\"\n",
    "print('-=-'*20)\n",
    "print('Vou pensar em um número entre 0 e 10. Tente adivinhar...')\n",
    "print('-=-'*20)\n",
    "n_user = int(input('Em que número eu pensei? '))\n",
    "print('PROCESSANDO...')\n",
    "sleep(3)\n",
    "while n_user != n_pc:\n",
    "    n_user = int(input('Errado! Tenta outra vez! Em que número eu pensei? '))\n",
    "    print('PROCESSANDO...')\n",
    "    sleep(3)\n",
    "print('Parabéns! Você venceu!')"
   ]
  },
  {
   "cell_type": "code",
   "execution_count": null,
   "id": "be1c419f",
   "metadata": {
    "ExecuteTime": {
     "end_time": "2021-05-24T22:03:53.245245Z",
     "start_time": "2021-05-24T22:03:42.917387Z"
    }
   },
   "outputs": [],
   "source": [
    "from random import randint\n",
    "computador = randint(0, 10)\n",
    "print('Sou seu computador... Acabei de pensar em um número entre 0 e 10.')\n",
    "print('Será que você consegue adivinhar qual foi? ')\n",
    "acertou = False\n",
    "palpite = 0\n",
    "while not acertou:\n",
    "    jogador = int(input('Qual é o seu palpite? '))\n",
    "    palpite += 1\n",
    "    if jogador == computador:\n",
    "        acertou = True\n",
    "    else:\n",
    "        if jogador < computador:\n",
    "            print('Mais... Tente mais uma vez.')\n",
    "        else:\n",
    "            print('Menos... Tente mais uma vez.')\n",
    "print (f'Acertou ao fim de {palpite} palpites!')"
   ]
  },
  {
   "cell_type": "code",
   "execution_count": null,
   "id": "49daef00",
   "metadata": {
    "ExecuteTime": {
     "end_time": "2021-05-24T22:17:39.091764Z",
     "start_time": "2021-05-24T22:17:07.706452Z"
    }
   },
   "outputs": [],
   "source": [
    "# 59. Crie um programa que leia dois valores e mostre um menu na tela:\n",
    "## Que operação quer realizar?   ### programa em loop até digitar 5\n",
    "## [1] somar\n",
    "## [2] multiplicar\n",
    "## [3] maior      ## qual o mair valor\n",
    "## [4] novos números      ## digitar nos números\n",
    "## [5] sair do programa\n",
    "## Seu programa deverá realizar a operação solicitada em cada caso.\n",
    "from time import sleep\n",
    "\n",
    "n1 = float(input('Digite um número: '))\n",
    "n2 = float(input('Digite outro número: '))\n",
    "option = 0\n",
    "s = n1 + n2\n",
    "mlt = n1*n2\n",
    "while option != 5:\n",
    "    option = int(input('''\n",
    "        [1] somar\n",
    "        [2] multiplicar\n",
    "        [3] maior\n",
    "        [4] novos números\n",
    "        [5] sair do programa\n",
    "    >>> Que operação quer realizar? '''))\n",
    "    if option == 1:\n",
    "        print(f'A soma entre {n1} e {n2} é {s}.')\n",
    "        print('-=='*20)\n",
    "    elif option == 2:\n",
    "        print(f'A múltiplicação entre {n1} e {n2} é {mlt}.')\n",
    "        print('-=='*20)\n",
    "    elif option == 3:\n",
    "        if n1 > n2:\n",
    "            print(f'O número {n1} é maior que o número {n2}.')\n",
    "            print('-=='*20)\n",
    "        elif n2> n1:\n",
    "            print(f'O número {n2} é maior que o número {n1}.')\n",
    "            print('-=='*20)\n",
    "        elif n2==n1:\n",
    "            print('Os dois números são iguais.')\n",
    "            print('-=='*20)\n",
    "    elif option == 4:\n",
    "        n1 = float(input('Digite um número: '))\n",
    "        n2 = float(input('Digite outro número: '))\n",
    "        print('-=='*20)\n",
    "    elif option > 5:\n",
    "        print('Opção inválida. Tente novamente')\n",
    "        print('-=='*20)\n",
    "print('Finalizando...')\n",
    "sleep(1)\n",
    "print('-='*20)\n",
    "print('Fim do programa! Volte sempre!')\n"
   ]
  },
  {
   "cell_type": "code",
   "execution_count": 1,
   "id": "407fba2a",
   "metadata": {
    "ExecuteTime": {
     "end_time": "2021-06-10T19:35:49.412644Z",
     "start_time": "2021-06-10T19:35:48.077001Z"
    },
    "scrolled": true
   },
   "outputs": [
    {
     "name": "stdout",
     "output_type": "stream",
     "text": [
      "Digite um número para calcular o seu fatorial: 3\n",
      "Calculando 3! = 3 x 2 x 1 = 6.\n"
     ]
    }
   ],
   "source": [
    "# 60. Faça um programa que leia um número qualquer e mostre o seu fatorial.\n",
    "## ex: 5! = 5x4x3x2x1 = 120\n",
    "## Fazer um while e for\n",
    "## A factorial is a function that multiplies a number by every number below it.\n",
    "## Terá de multiplicar o n por todos os números entre 1 e n.\n",
    "\n",
    "n = int(input('Digite um número para calcular o seu fatorial: '))\n",
    "c = n\n",
    "f = 1\n",
    "print(f'Calculando {n}! = ', end='')\n",
    "while c > 0:\n",
    "    print(f'{c}', end='')\n",
    "    print(' x ' if c > 1 else ' = ', end='')\n",
    "    f = f*c\n",
    "    c -= 1\n",
    "print(f'{f}.')\n"
   ]
  },
  {
   "cell_type": "code",
   "execution_count": null,
   "id": "2c726f5f",
   "metadata": {
    "ExecuteTime": {
     "end_time": "2021-05-24T22:22:27.398510Z",
     "start_time": "2021-05-24T22:22:25.800159Z"
    }
   },
   "outputs": [],
   "source": [
    "from math import factorial\n",
    "n = int(input('Digite um número para calcular o seu fatorial: '))\n",
    "f = factorial(n)        \n",
    "print(f'O factorial de {n} é {f}.')\n",
    "        "
   ]
  },
  {
   "cell_type": "code",
   "execution_count": null,
   "id": "df44317a",
   "metadata": {
    "ExecuteTime": {
     "end_time": "2021-05-24T22:32:22.231835Z",
     "start_time": "2021-05-24T22:32:21.626737Z"
    }
   },
   "outputs": [],
   "source": [
    "n = int(input('Digite um número:'))\n",
    "f = 1\n",
    "for c in range (1 , n+1):\n",
    "    f = f * c\n",
    "    c -= 1\n",
    "print(f'O factorial do número {n} é {f}.')"
   ]
  },
  {
   "cell_type": "code",
   "execution_count": null,
   "id": "c06afbcf",
   "metadata": {
    "ExecuteTime": {
     "end_time": "2021-05-27T12:09:38.820303Z",
     "start_time": "2021-05-27T12:09:34.723361Z"
    },
    "scrolled": true
   },
   "outputs": [],
   "source": [
    "# 61. Refaça o desafio 051, lendo o primeiro termo e a razão de uma progressão aritmética,\n",
    "## mostrando os 10 primeiros termos da progressão usando a estrutura while.\n",
    "\n",
    "print('Gerador de PA')\n",
    "print('-='*10)\n",
    "first = int(input('Primeiro termo: '))\n",
    "ratio = int(input('Razão: '))\n",
    "decimo = first + (10-1)* ratio\n",
    "c=0\n",
    "n=1\n",
    "while c != 10 :\n",
    "    t = first + (n-1)*ratio\n",
    "    n += 1\n",
    "    c += 1\n",
    "    print(f'{t}', end=' -> ')\n",
    "print('FIM')\n",
    "\n"
   ]
  },
  {
   "cell_type": "code",
   "execution_count": null,
   "id": "317c44c8",
   "metadata": {
    "ExecuteTime": {
     "end_time": "2021-05-27T12:13:12.422446Z",
     "start_time": "2021-05-27T12:13:11.303698Z"
    }
   },
   "outputs": [],
   "source": [
    "print('Gerador de PA')\n",
    "print('-='*10)\n",
    "first = int(input('Primeiro termo: '))\n",
    "ratio = int(input('Razão: '))\n",
    "t = first\n",
    "c=1\n",
    "while c <= 10 :\n",
    "    print(f'{t}', end=' -> ')\n",
    "    t += ratio\n",
    "    c += 1\n",
    "print('FIM')"
   ]
  },
  {
   "cell_type": "code",
   "execution_count": null,
   "id": "c198590f",
   "metadata": {
    "ExecuteTime": {
     "end_time": "2021-05-27T11:07:35.216973Z",
     "start_time": "2021-05-27T11:07:07.508420Z"
    },
    "scrolled": true
   },
   "outputs": [],
   "source": [
    "# 62. Melhora o desafio 061, perguntando para o usuário se ele quer mostrar mais alguns termos.\n",
    "# O programa encerra quando ele disser que quer mostrar 0 termos.\n",
    "\n",
    "print('Gerador de PA')\n",
    "print('-='*10)\n",
    "first = int(input('Primeiro termo:'))\n",
    "ratio = int(input('Razão: '))\n",
    "decimo = first + (10-1)* ratio\n",
    "n = 1\n",
    "c = 0\n",
    "while c != 10: \n",
    "    t = first + (n-1) * ratio\n",
    "    n += 1\n",
    "    c += 1\n",
    "    print(f'{t}', end=' -> ')\n",
    "print('FIM')\n",
    "termo = 1\n",
    "while termo != 0: \n",
    "    termo = int(input('Quantos mais termos quer? '))\n",
    "    a = 0\n",
    "    while a != termo:\n",
    "        t = first + (n-1) * ratio\n",
    "        n += 1\n",
    "        a += 1\n",
    "        print(f'{t}', end=' -> ')\n",
    "print('FIM')"
   ]
  },
  {
   "cell_type": "code",
   "execution_count": null,
   "id": "2cde7f2b",
   "metadata": {
    "ExecuteTime": {
     "end_time": "2021-05-27T12:21:46.722636Z",
     "start_time": "2021-05-27T12:21:34.435188Z"
    }
   },
   "outputs": [],
   "source": [
    "print('Gerador de PA')\n",
    "print('-='*10)\n",
    "first = int(input('Primeiro termo:'))\n",
    "ratio = int(input('Razão: '))\n",
    "t = first\n",
    "c = 1\n",
    "total = 0\n",
    "termo = 10\n",
    "while termo != 0: \n",
    "    total = total + termo\n",
    "    while c <= total: \n",
    "        print(f'{t}', end=' -> ')\n",
    "        t += ratio\n",
    "        c += 1\n",
    "    print('PAUSA')\n",
    "    termo = int(input('Quantos mais termos quer? '))\n",
    "print('FIM')"
   ]
  },
  {
   "cell_type": "code",
   "execution_count": null,
   "id": "e0414dbd",
   "metadata": {
    "ExecuteTime": {
     "end_time": "2021-05-27T12:33:50.317822Z",
     "start_time": "2021-05-27T12:33:49.636818Z"
    }
   },
   "outputs": [],
   "source": [
    "# 63. Escreva um programa que leia um número n inteiro qualquer e mostre na tela os n primeiros elementos de uma Sequência Fibonacci.\n",
    "## ex: 0 -> 1 -> 1 -> 2 -> 3 -> 5 -> 8\n",
    "## Primeiro termo = 0\n",
    "## Segundo termo = primeiro termo +1\n",
    "## Terceiro termo = primeiro + segundo\n",
    "## Quarto termo = terceiro + segundo\n",
    "## Termo n = termo(n-1) + termo (n-2)\n",
    "\n",
    "print('-'*30)\n",
    "print('Sequência de Fibonnaci')\n",
    "print('-'*30)\n",
    "t1 = 0\n",
    "t2 = 1\n",
    "t = int(input('Quantos termos que mostrar? '))\n",
    "print('~'*30)\n",
    "print(f'{t1} -> {t2}', end='')\n",
    "c = 3\n",
    "while c <= t:\n",
    "    t3 = t1 + t2\n",
    "    print(f'-> {t3}', end='')\n",
    "    c += 1\n",
    "    t1 = t2\n",
    "    t2 = t3\n",
    "print ('-> FIM')\n",
    "print('~'*30)\n"
   ]
  },
  {
   "cell_type": "code",
   "execution_count": null,
   "id": "4a52be53",
   "metadata": {
    "ExecuteTime": {
     "end_time": "2021-05-27T12:32:56.988383Z",
     "start_time": "2021-05-27T12:32:50.509886Z"
    }
   },
   "outputs": [],
   "source": [
    "# 64. Crie um programa que leia vários números inteiros pelo teclado. \n",
    "## O programa só vai parar quando o usuário digitar o valor 999, que é a condição de parada.\n",
    "## No final, mostre quantos números foram digitados e qual foi a soma entre eles\n",
    "## Desconsiderando o flag.\n",
    "\n",
    "n = count = s = 0\n",
    "while n != 999:\n",
    "    n = int(input('Digite um número [999 para parar]: '))\n",
    "    if n != 999:\n",
    "        s += n\n",
    "        count += 1\n",
    "print(f'Foram digitados {count} números, e a soma entre eles é {s}.')\n",
    "\n"
   ]
  },
  {
   "cell_type": "code",
   "execution_count": null,
   "id": "8f9a2d53",
   "metadata": {
    "ExecuteTime": {
     "end_time": "2021-05-27T13:28:55.550623Z",
     "start_time": "2021-05-27T13:28:31.692011Z"
    }
   },
   "outputs": [],
   "source": [
    "# 65. Crie um programa que leia vários números inteiros pelo teclado.\n",
    "## No final da execução, mostre a média entre todos os valores e qual foi o maior e o menor valores lidos.\n",
    "## O programa deve perguntar ao usuário se ele quer ou não continuar a digitar valores.\n",
    "\n",
    "s = count = avg = maior = menor = 0\n",
    "d = 'Y'\n",
    "while d not in 'N':\n",
    "    n = int(input('Digite um número: '))\n",
    "    s += n \n",
    "    count += 1\n",
    "    if count ==1:\n",
    "        maior = menor = n\n",
    "    else:\n",
    "        if n > maior:\n",
    "            maior = n\n",
    "        if n < menor:\n",
    "            menor = n\n",
    "    d = str(input('Quer continuar a digitar valores? [Y/N] ')).strip().upper()[0]\n",
    "avg = s/count  \n",
    "print(f'Você digitou {count} números. A média entre eles foi {avg}.\\nO maior valor foi {maior}, enquanto que o menor valor foi {menor}.')"
   ]
  },
  {
   "cell_type": "code",
   "execution_count": null,
   "id": "8171fc3d",
   "metadata": {},
   "outputs": [],
   "source": []
  },
  {
   "cell_type": "code",
   "execution_count": null,
   "id": "a5567ab6",
   "metadata": {},
   "outputs": [],
   "source": []
  },
  {
   "cell_type": "code",
   "execution_count": null,
   "id": "abd371fe",
   "metadata": {
    "ExecuteTime": {
     "end_time": "2021-05-27T13:44:57.114486Z",
     "start_time": "2021-05-27T13:44:57.098972Z"
    }
   },
   "outputs": [],
   "source": [
    "count = 1\n",
    "while count <= 10:\n",
    "    print(count, ' -> ', end='')\n",
    "    count +=1 \n",
    "print('Acabou')"
   ]
  },
  {
   "cell_type": "code",
   "execution_count": null,
   "id": "71315625",
   "metadata": {
    "ExecuteTime": {
     "end_time": "2021-05-27T13:52:37.941312Z",
     "start_time": "2021-05-27T13:52:34.672174Z"
    },
    "scrolled": true
   },
   "outputs": [],
   "source": [
    "n = s = 0\n",
    "while True:\n",
    "    n = int(input('Digite um número: '))\n",
    "    if n == 999:\n",
    "        break\n",
    "    s += n\n",
    "print(f'A soma vale {s}.')"
   ]
  },
  {
   "cell_type": "markdown",
   "id": "36b84e1a",
   "metadata": {},
   "source": [
    "# Desafios"
   ]
  },
  {
   "cell_type": "code",
   "execution_count": null,
   "id": "9bcf944d",
   "metadata": {
    "ExecuteTime": {
     "end_time": "2021-05-27T14:17:52.368476Z",
     "start_time": "2021-05-27T14:17:45.563387Z"
    }
   },
   "outputs": [],
   "source": [
    "# 66. Crie um programa que leia vários números inteiros pelo teclado.\n",
    "## O programa só vai parar quando o usuário digitar o valor 999, que é a condição de parada.\n",
    "## No final, mostre quantos números foram digitados e qual foi a soma entre eles\n",
    "## desconsiderando o flag\n",
    "\n",
    "count = s = 0\n",
    "while True:\n",
    "    n = int(input('Digite um valor (999 para parar): '))\n",
    "    if n == 999:\n",
    "        break\n",
    "    count += 1\n",
    "    s += n\n",
    "print(f'A soma dos {count} valores foi {s}!')\n"
   ]
  },
  {
   "cell_type": "code",
   "execution_count": null,
   "id": "4a243e77",
   "metadata": {
    "ExecuteTime": {
     "end_time": "2021-05-27T14:24:24.531539Z",
     "start_time": "2021-05-27T14:24:15.928398Z"
    }
   },
   "outputs": [],
   "source": [
    "# 67. Faça um programa que mostre a tabuada de vários números, um de cada vez, para cada valor digitado pelo usuário.\n",
    "## O programa será interrompido quando o número solicitado for negativo.\n",
    "\n",
    "while True:\n",
    "    n = int(input('Quer ver a tabuada de qual valor? '))\n",
    "    print('='*30)\n",
    "    if n > 0:\n",
    "        for c in range (1 , 11):\n",
    "            print(f'{n} x {c} = {n*c}')\n",
    "    if n < 0:\n",
    "        break\n",
    "print('PROGRAMA TABUADA ENCERRADO. Volte sempre!')"
   ]
  },
  {
   "cell_type": "code",
   "execution_count": 15,
   "id": "a931307f",
   "metadata": {
    "ExecuteTime": {
     "end_time": "2021-05-27T16:17:22.703455Z",
     "start_time": "2021-05-27T16:17:19.491379Z"
    }
   },
   "outputs": [
    {
     "name": "stdout",
     "output_type": "stream",
     "text": [
      "-=-=-=-=-=-=-=-=-=-=-=-=-=-=-=-=-=-=-=-=-=-=-=-=-=-=-=-=-=-=\n",
      "VAMOS JOGAR PAR OU ÍMPAR\n",
      "-=-=-=-=-=-=-=-=-=-=-=-=-=-=-=-=-=-=-=-=-=-=-=-=-=-=-=-=-=-=\n",
      "Diga um valor: 6\n",
      "Par ou Ímpar? [P/I]p\n",
      "Você jogou 6 e o computador 9. Total de 15.\n",
      "Você PERDEU!\n",
      "GAME OVER! Você venceu 0 vezes.\n"
     ]
    }
   ],
   "source": [
    "# 68. Faça um programa que jogue par ou ímpar com o computador.\n",
    "## O jogo só será interrompido quando o jogador perder\n",
    "## mostre o total de vitórias consecutivas que ele conquistou no final do jogo.\n",
    "from random import randint\n",
    "\n",
    "print('-='*30)\n",
    "print('VAMOS JOGAR PAR OU ÍMPAR')\n",
    "print('-='*30)\n",
    "s = w = 0\n",
    "while True:\n",
    "    player = int(input('Diga um valor: '))\n",
    "    computer = randint(0, 10)\n",
    "    condition = ' '\n",
    "    while condition not in 'PpIi':\n",
    "        condition = str(input('Par ou Ímpar? [P/I]')).strip().upper()[0]\n",
    "    s = player + computer\n",
    "    print(f'Você jogou {player} e o computador {computer}. Total de {s}.')\n",
    "    if condition == 'P':\n",
    "        if s%2 == 0:\n",
    "            w += 1\n",
    "            print('Você VENCEU!')\n",
    "        else:\n",
    "            print('Você PERDEU!')\n",
    "            break\n",
    "    elif condition == 'I':  \n",
    "        if s%2 == 1:\n",
    "            w += 1\n",
    "            print('Você VENCEU!')\n",
    "        else:   \n",
    "            print('Você PERDEU!')\n",
    "            break\n",
    "        print('Vamos jogar novamente...')      \n",
    "print(f'GAME OVER! Você venceu {w} vezes.')\n"
   ]
  },
  {
   "cell_type": "code",
   "execution_count": 17,
   "id": "2f5425ba",
   "metadata": {
    "ExecuteTime": {
     "end_time": "2021-05-27T16:25:06.051771Z",
     "start_time": "2021-05-27T16:24:42.723306Z"
    }
   },
   "outputs": [
    {
     "name": "stdout",
     "output_type": "stream",
     "text": [
      "=======FIM DO PROGRAMA=======\n",
      "================================\n",
      "    CADASTRE UMA PESSOA\n",
      "================================\n",
      "Idade:22\n",
      "Sexo: [M/F] m\n",
      "================================\n",
      "Quer continuar? [S/N] s\n",
      "================================\n",
      "    CADASTRE UMA PESSOA\n",
      "================================\n",
      "Idade:16\n",
      "Sexo: [M/F] f\n",
      "================================\n",
      "Quer continuar? [S/N] s\n",
      "================================\n",
      "    CADASTRE UMA PESSOA\n",
      "================================\n",
      "Idade:45\n",
      "Sexo: [M/F] f\n",
      "================================\n",
      "Quer continuar? [S/N] s\n",
      "================================\n",
      "    CADASTRE UMA PESSOA\n",
      "================================\n",
      "Idade:12\n",
      "Sexo: [M/F] m\n",
      "================================\n",
      "Quer continuar? [S/N] n\n",
      "=======FIM DO PROGRAMA=======\n",
      "Total de pessoas com mais de 18 anos 2\n",
      "Ao todo temos 2 homens cadastrados\n",
      "E temos 1 mulheres com menos de 20 anos\n"
     ]
    }
   ],
   "source": [
    "# 69. Crie um programa que leia a idade e o sexo de várioas pessoas.\n",
    "## A cada pessoa cadastrada, o programa deverá perguntar se o usuário quer ou não continuar.\n",
    "## No final, mostre:\n",
    "## a) quantas pessoas tem mais de 18 anos.\n",
    "## b) quantos homens foram cadastrados.\n",
    "## c) quantas mulheres tem menos de 20 anos.\n",
    "\n",
    "print('=======FIM DO PROGRAMA=======')\n",
    "\n",
    "women_20 = 0\n",
    "adults = 0\n",
    "men= 0\n",
    "while True:\n",
    "    print('='*32)\n",
    "    print('    CADASTRE UMA PESSOA')\n",
    "    print('='*32)\n",
    "    i = int(input('Idade:'))\n",
    "    s = ' '\n",
    "    while s not in 'mMFf':\n",
    "        s = str(input('Sexo: [M/F] ')).strip().upper()[0]\n",
    "    print('='*32)  \n",
    "    if i >= 18:\n",
    "        adults += 1\n",
    "    if s == 'M':\n",
    "        men += 1\n",
    "    if s == 'F' and i < 20:\n",
    "        women_20 += 1\n",
    "    c = ' '\n",
    "    while c not in 'SsNn':\n",
    "        c = str(input('Quer continuar? [S/N] ')).strip().upper()[0]\n",
    "    if c == 'N':\n",
    "        print('=======FIM DO PROGRAMA=======')\n",
    "        break\n",
    "print(f'Total de pessoas com mais de 18 anos {adults}')\n",
    "print(f'Ao todo temos {men} homens cadastrados')\n",
    "print(f'E temos {women_20} mulheres com menos de 20 anos')\n"
   ]
  },
  {
   "cell_type": "code",
   "execution_count": 19,
   "id": "e8775162",
   "metadata": {
    "ExecuteTime": {
     "end_time": "2021-05-27T16:31:15.404070Z",
     "start_time": "2021-05-27T16:30:51.948362Z"
    }
   },
   "outputs": [
    {
     "name": "stdout",
     "output_type": "stream",
     "text": [
      "==============================\n",
      "     LOJA SUPER BARATÃO\n",
      "==============================\n",
      "Nome do Produto:Borracha\n",
      "Preço: R$1\n",
      "Quer continuar? [S/N]s\n",
      "Nome do Produto:Caneta\n",
      "Preço: R$2\n",
      "Quer continuar? [S/N]s\n",
      "Nome do Produto:Celular\n",
      "Preço: R$1500\n",
      "Quer continuar? [S/N]n\n",
      "---------FIM DO PROGRAMA--------\n",
      "O total da compra foi R$1503.0.\n",
      "Temos 1 produtos custando mais de R$1000.00\n",
      "O produto mais barato foi Borracha que custa R$1.0\n"
     ]
    }
   ],
   "source": [
    "# 70. Crie um programa que leia o nome e o preço de vários produtos.\n",
    "## O programa deverá perguntar se o usuário vai continuar.\n",
    "## No final mostre:\n",
    "## a) qual é o total gasto na compra.\n",
    "## b) quantos produtos custam mais de R$1000\n",
    "## c) qual é o nome do produto mais barato.\n",
    "\n",
    "print('='*30)\n",
    "print('     LOJA SUPER BARATÃO')\n",
    "print('='*30)\n",
    "s = over_1000 = cheapest_price = count = 0\n",
    "cheapest_n = ' '\n",
    "while True:\n",
    "    n = str(input('Nome do Produto:'))\n",
    "    p = float(input('Preço: R$'))\n",
    "    count += 1\n",
    "    s += p\n",
    "    if p > 1000:\n",
    "        over_1000 += 1\n",
    "    if count == 1 or p < cheapest_price:\n",
    "        cheapest_price = p\n",
    "        cheapest_n = n\n",
    "    c = ' '\n",
    "    while c not in 'sSNn':\n",
    "        c = str(input('Quer continuar? [S/N]')).strip().upper()[0]\n",
    "    if c == 'N':\n",
    "        print('---------FIM DO PROGRAMA--------')\n",
    "        break\n",
    "print(f'O total da compra foi R${s}.')\n",
    "print(f'Temos {over_1000} produtos custando mais de R$1000.00')\n",
    "print(f'O produto mais barato foi {cheapest_n} que custa R${cheapest_price}')"
   ]
  },
  {
   "cell_type": "code",
   "execution_count": 31,
   "id": "c7cc9626",
   "metadata": {
    "ExecuteTime": {
     "end_time": "2021-05-27T16:44:04.491849Z",
     "start_time": "2021-05-27T16:44:03.543680Z"
    }
   },
   "outputs": [
    {
     "name": "stdout",
     "output_type": "stream",
     "text": [
      "==============================\n",
      "     BANCO CEV\n",
      "==============================\n",
      "Que valor você quer sacar? R$163\n",
      "Total de 3 cédulas de R$50\n",
      "Total de 1 cédulas de R$10\n",
      "Total de 3 cédulas de R$1\n",
      "==============================\n",
      "Volte sempre ao BANCO CEV! Tenha um bom dia!\n"
     ]
    }
   ],
   "source": [
    "# 71. Crie um prgrama que simule o funcionamento de um multibanco.\n",
    "## No início, pergunta ao usuário qual será o valor a ser levantado (número inteiro)\n",
    "## e o programa vai informar quantas cédulas de cada valor serão entregues.\n",
    "## Considere que o caixa possui cédulas de R$50, R$20, R$10 e R$1.\n",
    "\n",
    "print('='*30)\n",
    "print('     BANCO CEV')\n",
    "print('='*30)\n",
    "\n",
    "valor = int(input('Que valor você quer sacar? R$'))\n",
    "total = valor\n",
    "ced = 50\n",
    "totced = 0\n",
    "while True:\n",
    "    if total >= ced:\n",
    "        total -= ced\n",
    "        totced += 1\n",
    "    else:\n",
    "        if totced > 0:\n",
    "            print(f'Total de {totced} cédulas de R${ced}')\n",
    "        if ced == 50:\n",
    "            ced = 20\n",
    "        elif ced == 20:\n",
    "            ced = 10\n",
    "        elif ced == 10:\n",
    "            ced = 1\n",
    "        totced = 0\n",
    "        if total == 0:\n",
    "            break\n",
    "print('='*30)\n",
    "print('Volte sempre ao BANCO CEV! Tenha um bom dia!')\n"
   ]
  }
 ],
 "metadata": {
  "kernelspec": {
   "display_name": "Python 3",
   "language": "python",
   "name": "python3"
  },
  "varInspector": {
   "cols": {
    "lenName": 16,
    "lenType": 16,
    "lenVar": 40
   },
   "kernels_config": {
    "python": {
     "delete_cmd_postfix": "",
     "delete_cmd_prefix": "del ",
     "library": "var_list.py",
     "varRefreshCmd": "print(var_dic_list())"
    },
    "r": {
     "delete_cmd_postfix": ") ",
     "delete_cmd_prefix": "rm(",
     "library": "var_list.r",
     "varRefreshCmd": "cat(var_dic_list()) "
    }
   },
   "types_to_exclude": [
    "module",
    "function",
    "builtin_function_or_method",
    "instance",
    "_Feature"
   ],
   "window_display": false
  }
 },
 "nbformat": 4,
 "nbformat_minor": 5
}
