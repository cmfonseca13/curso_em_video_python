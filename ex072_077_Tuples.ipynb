{
 "cells": [
  {
   "cell_type": "code",
   "execution_count": 2,
   "id": "e2c215ca",
   "metadata": {
    "ExecuteTime": {
     "end_time": "2021-05-29T08:54:19.877562Z",
     "start_time": "2021-05-29T08:54:19.872558Z"
    }
   },
   "outputs": [
    {
     "name": "stdout",
     "output_type": "stream",
     "text": [
      "('Hamburguer', 'Suco', 'Pizza', 'Pudim')\n"
     ]
    }
   ],
   "source": [
    "lanche = 'Hamburguer', 'Suco', 'Pizza', 'Pudim'\n",
    "print(lanche)"
   ]
  },
  {
   "cell_type": "code",
   "execution_count": 3,
   "id": "5737a3db",
   "metadata": {
    "ExecuteTime": {
     "end_time": "2021-05-29T08:55:00.017768Z",
     "start_time": "2021-05-29T08:55:00.012763Z"
    }
   },
   "outputs": [
    {
     "name": "stdout",
     "output_type": "stream",
     "text": [
      "Suco\n"
     ]
    }
   ],
   "source": [
    "lanche = 'Hamburguer', 'Suco', 'Pizza', 'Pudim'\n",
    "print(lanche [1])"
   ]
  },
  {
   "cell_type": "code",
   "execution_count": 4,
   "id": "04d45ab0",
   "metadata": {
    "ExecuteTime": {
     "end_time": "2021-05-29T08:55:17.187900Z",
     "start_time": "2021-05-29T08:55:17.179143Z"
    }
   },
   "outputs": [
    {
     "name": "stdout",
     "output_type": "stream",
     "text": [
      "Pudim\n"
     ]
    }
   ],
   "source": [
    "lanche = 'Hamburguer', 'Suco', 'Pizza', 'Pudim'\n",
    "print(lanche [3])"
   ]
  },
  {
   "cell_type": "code",
   "execution_count": 5,
   "id": "6a7e00cf",
   "metadata": {
    "ExecuteTime": {
     "end_time": "2021-05-29T08:55:24.911623Z",
     "start_time": "2021-05-29T08:55:24.895142Z"
    }
   },
   "outputs": [
    {
     "name": "stdout",
     "output_type": "stream",
     "text": [
      "('Pizza', 'Pudim')\n"
     ]
    }
   ],
   "source": [
    "lanche = 'Hamburguer', 'Suco', 'Pizza', 'Pudim'\n",
    "print(lanche [2:])"
   ]
  },
  {
   "cell_type": "code",
   "execution_count": 6,
   "id": "e3e40721",
   "metadata": {
    "ExecuteTime": {
     "end_time": "2021-05-29T08:55:34.597628Z",
     "start_time": "2021-05-29T08:55:34.593124Z"
    }
   },
   "outputs": [
    {
     "name": "stdout",
     "output_type": "stream",
     "text": [
      "Pizza\n"
     ]
    }
   ],
   "source": [
    "lanche = 'Hamburguer', 'Suco', 'Pizza', 'Pudim'\n",
    "print(lanche [-2])"
   ]
  },
  {
   "cell_type": "code",
   "execution_count": 7,
   "id": "f4c4e6e6",
   "metadata": {
    "ExecuteTime": {
     "end_time": "2021-05-29T08:55:54.403109Z",
     "start_time": "2021-05-29T08:55:54.395602Z"
    }
   },
   "outputs": [
    {
     "name": "stdout",
     "output_type": "stream",
     "text": [
      "('Suco', 'Pizza')\n"
     ]
    }
   ],
   "source": [
    "lanche = 'Hamburguer', 'Suco', 'Pizza', 'Pudim'\n",
    "print(lanche [1:3])"
   ]
  },
  {
   "cell_type": "code",
   "execution_count": 8,
   "id": "9c1078cb",
   "metadata": {
    "ExecuteTime": {
     "end_time": "2021-05-29T08:56:41.132797Z",
     "start_time": "2021-05-29T08:56:41.122049Z"
    }
   },
   "outputs": [
    {
     "name": "stdout",
     "output_type": "stream",
     "text": [
      "('Hamburguer', 'Suco')\n"
     ]
    }
   ],
   "source": [
    "lanche = 'Hamburguer', 'Suco', 'Pizza', 'Pudim'\n",
    "print(lanche [:2])"
   ]
  },
  {
   "cell_type": "code",
   "execution_count": 10,
   "id": "a16cc17b",
   "metadata": {
    "ExecuteTime": {
     "end_time": "2021-05-29T08:57:21.300090Z",
     "start_time": "2021-05-29T08:57:21.287081Z"
    }
   },
   "outputs": [
    {
     "name": "stdout",
     "output_type": "stream",
     "text": [
      "('Suco', 'Pizza', 'Pudim')\n"
     ]
    }
   ],
   "source": [
    "lanche = 'Hamburguer', 'Suco', 'Pizza', 'Pudim'\n",
    "print(lanche [-3:])"
   ]
  },
  {
   "cell_type": "code",
   "execution_count": 11,
   "id": "4448e2aa",
   "metadata": {
    "ExecuteTime": {
     "end_time": "2021-05-29T08:58:29.534503Z",
     "start_time": "2021-05-29T08:58:29.429928Z"
    }
   },
   "outputs": [
    {
     "ename": "TypeError",
     "evalue": "'tuple' object does not support item assignment",
     "output_type": "error",
     "traceback": [
      "\u001b[1;31m---------------------------------------------------------------------------\u001b[0m",
      "\u001b[1;31mTypeError\u001b[0m                                 Traceback (most recent call last)",
      "\u001b[1;32m<ipython-input-11-036a965440ea>\u001b[0m in \u001b[0;36m<module>\u001b[1;34m\u001b[0m\n\u001b[0;32m      2\u001b[0m \u001b[1;33m\u001b[0m\u001b[0m\n\u001b[0;32m      3\u001b[0m \u001b[0mlanche\u001b[0m \u001b[1;33m=\u001b[0m \u001b[1;34m'Hamburguer'\u001b[0m\u001b[1;33m,\u001b[0m \u001b[1;34m'Suco'\u001b[0m\u001b[1;33m,\u001b[0m \u001b[1;34m'Pizza'\u001b[0m\u001b[1;33m,\u001b[0m \u001b[1;34m'Pudim'\u001b[0m\u001b[1;33m\u001b[0m\u001b[1;33m\u001b[0m\u001b[0m\n\u001b[1;32m----> 4\u001b[1;33m \u001b[0mlanche\u001b[0m\u001b[1;33m[\u001b[0m\u001b[1;36m1\u001b[0m\u001b[1;33m]\u001b[0m \u001b[1;33m=\u001b[0m \u001b[1;34m'Refrigerante'\u001b[0m\u001b[1;33m\u001b[0m\u001b[1;33m\u001b[0m\u001b[0m\n\u001b[0m\u001b[0;32m      5\u001b[0m \u001b[0mprint\u001b[0m\u001b[1;33m(\u001b[0m\u001b[0mlanche\u001b[0m \u001b[1;33m[\u001b[0m\u001b[1;36m1\u001b[0m\u001b[1;33m]\u001b[0m\u001b[1;33m)\u001b[0m\u001b[1;33m\u001b[0m\u001b[1;33m\u001b[0m\u001b[0m\n",
      "\u001b[1;31mTypeError\u001b[0m: 'tuple' object does not support item assignment"
     ]
    }
   ],
   "source": [
    "# Tuplas são IMUTÁVEIS!\n",
    "\n",
    "lanche = 'Hamburguer', 'Suco', 'Pizza', 'Pudim'\n",
    "lanche[1] = 'Refrigerante'\n",
    "print(lanche [1])"
   ]
  },
  {
   "cell_type": "code",
   "execution_count": 12,
   "id": "e63c0475",
   "metadata": {
    "ExecuteTime": {
     "end_time": "2021-05-29T08:59:35.430031Z",
     "start_time": "2021-05-29T08:59:35.413819Z"
    }
   },
   "outputs": [
    {
     "name": "stdout",
     "output_type": "stream",
     "text": [
      "Eu vou comer Hamburguer\n",
      "Eu vou comer Suco\n",
      "Eu vou comer Pizza\n",
      "Eu vou comer Pudim\n",
      "Comi pra caramba!\n"
     ]
    }
   ],
   "source": [
    "lanche = 'Hamburguer', 'Suco', 'Pizza', 'Pudim'\n",
    "for comida in lanche:\n",
    "    print(f'Eu vou comer {comida}')\n",
    "print('Comi pra caramba!')"
   ]
  },
  {
   "cell_type": "code",
   "execution_count": 14,
   "id": "7dda2f2c",
   "metadata": {
    "ExecuteTime": {
     "end_time": "2021-05-29T09:01:00.333768Z",
     "start_time": "2021-05-29T09:01:00.322759Z"
    }
   },
   "outputs": [
    {
     "name": "stdout",
     "output_type": "stream",
     "text": [
      "5\n"
     ]
    }
   ],
   "source": [
    "lanche = 'Hamburguer', 'Suco', 'Pizza', 'Pudim', 'Batata Frita'\n",
    "print (len(lanche))\n"
   ]
  },
  {
   "cell_type": "code",
   "execution_count": 17,
   "id": "d820abe1",
   "metadata": {
    "ExecuteTime": {
     "end_time": "2021-05-29T09:03:05.620122Z",
     "start_time": "2021-05-29T09:03:05.616619Z"
    }
   },
   "outputs": [
    {
     "name": "stdout",
     "output_type": "stream",
     "text": [
      "Eu vou comer Hamburguer\n",
      "Eu vou comer Suco\n",
      "Eu vou comer Pizza\n",
      "Eu vou comer Pudim\n",
      "Eu vou comer Batata Frita\n",
      "Comi pra caramba!\n"
     ]
    }
   ],
   "source": [
    "lanche = 'Hamburguer', 'Suco', 'Pizza', 'Pudim', 'Batata Frita'\n",
    "\n",
    "for c in range (0, len(lanche)):\n",
    "    print(f'Eu vou comer {lanche[c]}')\n",
    "print('Comi pra caramba!')"
   ]
  },
  {
   "cell_type": "code",
   "execution_count": 18,
   "id": "05ea0f36",
   "metadata": {
    "ExecuteTime": {
     "end_time": "2021-05-29T09:04:24.551534Z",
     "start_time": "2021-05-29T09:04:24.547530Z"
    }
   },
   "outputs": [
    {
     "name": "stdout",
     "output_type": "stream",
     "text": [
      "Eu vou comer Hamburguer na posição 0\n",
      "Eu vou comer Suco na posição 1\n",
      "Eu vou comer Pizza na posição 2\n",
      "Eu vou comer Pudim na posição 3\n",
      "Eu vou comer Batata Frita na posição 4\n",
      "Comi pra caramba!\n"
     ]
    }
   ],
   "source": [
    "lanche = 'Hamburguer', 'Suco', 'Pizza', 'Pudim', 'Batata Frita'\n",
    "\n",
    "for c in range (0, len(lanche)):\n",
    "    print(f'Eu vou comer {lanche[c]} na posição {c}')\n",
    "print('Comi pra caramba!')"
   ]
  },
  {
   "cell_type": "code",
   "execution_count": 19,
   "id": "57829f2a",
   "metadata": {
    "ExecuteTime": {
     "end_time": "2021-05-29T09:05:13.086979Z",
     "start_time": "2021-05-29T09:05:13.071976Z"
    },
    "scrolled": true
   },
   "outputs": [
    {
     "name": "stdout",
     "output_type": "stream",
     "text": [
      "Eu vou comer Hamburguer na posição 0\n",
      "Eu vou comer Suco na posição 1\n",
      "Eu vou comer Pizza na posição 2\n",
      "Eu vou comer Pudim na posição 3\n",
      "Eu vou comer Batata Frita na posição 4\n",
      "Comi pra caramba!\n"
     ]
    }
   ],
   "source": [
    "lanche = 'Hamburguer', 'Suco', 'Pizza', 'Pudim', 'Batata Frita'\n",
    "\n",
    "for pos, comida in enumerate(lanche):\n",
    "    print(f'Eu vou comer {comida} na posição {pos}')\n",
    "print('Comi pra caramba!')"
   ]
  },
  {
   "cell_type": "code",
   "execution_count": 22,
   "id": "add54f8e",
   "metadata": {
    "ExecuteTime": {
     "end_time": "2021-05-29T09:07:43.898312Z",
     "start_time": "2021-05-29T09:07:43.881307Z"
    }
   },
   "outputs": [
    {
     "name": "stdout",
     "output_type": "stream",
     "text": [
      "['Batata Frita', 'Hamburguer', 'Pizza', 'Pudim', 'Suco']\n",
      "('Hamburguer', 'Suco', 'Pizza', 'Pudim', 'Batata Frita')\n"
     ]
    }
   ],
   "source": [
    "lanche = 'Hamburguer', 'Suco', 'Pizza', 'Pudim', 'Batata Frita'\n",
    "\n",
    "print(sorted(lanche)) # Não altera a tupla, só coloca em ordem\n",
    "print(lanche)"
   ]
  },
  {
   "cell_type": "code",
   "execution_count": 25,
   "id": "eac9c12f",
   "metadata": {
    "ExecuteTime": {
     "end_time": "2021-05-29T09:08:40.762255Z",
     "start_time": "2021-05-29T09:08:40.749512Z"
    }
   },
   "outputs": [
    {
     "name": "stdout",
     "output_type": "stream",
     "text": [
      "(2, 5, 4, 5, 8, 1, 2)\n"
     ]
    }
   ],
   "source": [
    "a = (2, 5, 4)\n",
    "b = (5, 8, 1, 2)\n",
    "c = a + b\n",
    "print(c)"
   ]
  },
  {
   "cell_type": "code",
   "execution_count": 26,
   "id": "61cb1234",
   "metadata": {
    "ExecuteTime": {
     "end_time": "2021-05-29T09:09:36.898695Z",
     "start_time": "2021-05-29T09:09:36.882181Z"
    }
   },
   "outputs": [
    {
     "name": "stdout",
     "output_type": "stream",
     "text": [
      "7\n"
     ]
    }
   ],
   "source": [
    "a = (2, 5, 4)\n",
    "b = (5, 8, 1, 2)\n",
    "c = a + b\n",
    "print(len(c))"
   ]
  },
  {
   "cell_type": "code",
   "execution_count": 27,
   "id": "a0d6cf9e",
   "metadata": {
    "ExecuteTime": {
     "end_time": "2021-05-29T09:10:07.639510Z",
     "start_time": "2021-05-29T09:10:07.626665Z"
    }
   },
   "outputs": [
    {
     "name": "stdout",
     "output_type": "stream",
     "text": [
      "2\n"
     ]
    }
   ],
   "source": [
    "a = (2, 5, 4)\n",
    "b = (5, 8, 1, 2)\n",
    "c = a + b\n",
    "print(c.count(5)) # Quantas vezes aparece o número 5 em c"
   ]
  },
  {
   "cell_type": "code",
   "execution_count": 29,
   "id": "436adb54",
   "metadata": {
    "ExecuteTime": {
     "end_time": "2021-05-29T09:11:06.564900Z",
     "start_time": "2021-05-29T09:11:06.547396Z"
    }
   },
   "outputs": [
    {
     "name": "stdout",
     "output_type": "stream",
     "text": [
      "(2, 5, 4, 5, 8, 1, 2)\n",
      "4\n"
     ]
    }
   ],
   "source": [
    "a = (2, 5, 4)\n",
    "b = (5, 8, 1, 2)\n",
    "c = a + b\n",
    "print(c)\n",
    "print(c.index(8)) # Em que posição aparece o número 8 em c"
   ]
  },
  {
   "cell_type": "code",
   "execution_count": 32,
   "id": "03545c3d",
   "metadata": {
    "ExecuteTime": {
     "end_time": "2021-05-29T09:12:19.129364Z",
     "start_time": "2021-05-29T09:12:19.115363Z"
    }
   },
   "outputs": [
    {
     "name": "stdout",
     "output_type": "stream",
     "text": [
      "(5, 8, 1, 2, 2, 5, 4)\n",
      "3\n"
     ]
    }
   ],
   "source": [
    "a = (2, 5, 4)\n",
    "b = (5, 8, 1, 2)\n",
    "c = b + a\n",
    "print(c)\n",
    "print(c.index(2)) # Em que posição aparece a primeira ocorrência do número 2 em c"
   ]
  },
  {
   "cell_type": "code",
   "execution_count": 34,
   "id": "7477069c",
   "metadata": {
    "ExecuteTime": {
     "end_time": "2021-05-29T09:13:13.664947Z",
     "start_time": "2021-05-29T09:13:13.655939Z"
    }
   },
   "outputs": [
    {
     "name": "stdout",
     "output_type": "stream",
     "text": [
      "(5, 8, 1, 2, 2, 5, 4)\n",
      "5\n"
     ]
    }
   ],
   "source": [
    "a = (2, 5, 4)\n",
    "b = (5, 8, 1, 2)\n",
    "c = b + a\n",
    "print(c)\n",
    "print(c.index(5, 1)) # Em que posição aparece a primeira ocorrência do número 5 a partir da posição 1 em c"
   ]
  },
  {
   "cell_type": "code",
   "execution_count": 35,
   "id": "63a142cd",
   "metadata": {
    "ExecuteTime": {
     "end_time": "2021-05-29T09:15:27.145804Z",
     "start_time": "2021-05-29T09:15:27.138307Z"
    }
   },
   "outputs": [
    {
     "name": "stdout",
     "output_type": "stream",
     "text": [
      "('Gustavo', 39, 'M', 99.88)\n"
     ]
    }
   ],
   "source": [
    "#Posso ter tipos de dados diferentes dentro da mesma tupla.\n",
    "pessoa = ('Gustavo', 39, 'M', 99.88)\n",
    "print(pessoa)"
   ]
  },
  {
   "cell_type": "code",
   "execution_count": 36,
   "id": "982cc96e",
   "metadata": {
    "ExecuteTime": {
     "end_time": "2021-05-29T09:16:05.395753Z",
     "start_time": "2021-05-29T09:16:05.388246Z"
    }
   },
   "outputs": [
    {
     "ename": "NameError",
     "evalue": "name 'pessoa' is not defined",
     "output_type": "error",
     "traceback": [
      "\u001b[1;31m---------------------------------------------------------------------------\u001b[0m",
      "\u001b[1;31mNameError\u001b[0m                                 Traceback (most recent call last)",
      "\u001b[1;32m<ipython-input-36-01b1e4be594d>\u001b[0m in \u001b[0;36m<module>\u001b[1;34m\u001b[0m\n\u001b[0;32m      2\u001b[0m \u001b[0mpessoa\u001b[0m \u001b[1;33m=\u001b[0m \u001b[1;33m(\u001b[0m\u001b[1;34m'Gustavo'\u001b[0m\u001b[1;33m,\u001b[0m \u001b[1;36m39\u001b[0m\u001b[1;33m,\u001b[0m \u001b[1;34m'M'\u001b[0m\u001b[1;33m,\u001b[0m \u001b[1;36m99.88\u001b[0m\u001b[1;33m)\u001b[0m\u001b[1;33m\u001b[0m\u001b[1;33m\u001b[0m\u001b[0m\n\u001b[0;32m      3\u001b[0m \u001b[1;32mdel\u001b[0m\u001b[1;33m(\u001b[0m\u001b[0mpessoa\u001b[0m\u001b[1;33m)\u001b[0m\u001b[1;33m\u001b[0m\u001b[1;33m\u001b[0m\u001b[0m\n\u001b[1;32m----> 4\u001b[1;33m \u001b[0mprint\u001b[0m\u001b[1;33m(\u001b[0m\u001b[0mpessoa\u001b[0m\u001b[1;33m)\u001b[0m\u001b[1;33m\u001b[0m\u001b[1;33m\u001b[0m\u001b[0m\n\u001b[0m",
      "\u001b[1;31mNameError\u001b[0m: name 'pessoa' is not defined"
     ]
    }
   ],
   "source": [
    "#Pode-se apagar a tupla, mas só a tupla inteira, não se pode apagar um item específico.\n",
    "pessoa = ('Gustavo', 39, 'M', 99.88)\n",
    "del(pessoa)\n",
    "print(pessoa)"
   ]
  },
  {
   "cell_type": "markdown",
   "id": "41d844e6",
   "metadata": {},
   "source": [
    "# Desafios"
   ]
  },
  {
   "cell_type": "code",
   "execution_count": 59,
   "id": "c2637073",
   "metadata": {
    "ExecuteTime": {
     "end_time": "2021-05-29T19:17:19.480047Z",
     "start_time": "2021-05-29T19:17:08.104384Z"
    }
   },
   "outputs": [
    {
     "name": "stdout",
     "output_type": "stream",
     "text": [
      "Digite um número entre 0 e 20: 21\n",
      "Tente novamente. Digite um número entre 0 e 20: 30\n",
      "Tente novamente. Digite um número entre 0 e 20: -5\n",
      "Tente novamente. Digite um número entre 0 e 20: 20\n",
      "Você digitou o número vinte.\n"
     ]
    }
   ],
   "source": [
    "# 72. Crie um programa que tenha uma tupla totalmente preenchida com uma contagem por extenso, de zero até vinte.\n",
    "## Seu programa deverá ler um número pelo teclado (entre 0 e 20) e mostrá-lo por extenso.\n",
    "\n",
    "num = ('zero', 'um', 'dois', 'três', 'quatro',\n",
    "       'cinco', 'seis', 'sete', 'oito', 'nove',\n",
    "       'dez', 'onze', 'doze', 'treze', 'quatorze',\n",
    "       'quinze', 'dezasseis', 'dezasete', 'dezoito',\n",
    "       'dezanove', 'vinte')\n",
    "\n",
    "while True:\n",
    "    n = int(input('Digite um número entre 0 e 20: '))\n",
    "    if 0 <= n <=20:\n",
    "        break\n",
    "    print('Tente novamente. ', end='')  \n",
    "print(f'Você digitou o número {num[n]}.')   \n"
   ]
  },
  {
   "cell_type": "code",
   "execution_count": 20,
   "id": "ccb862e0",
   "metadata": {
    "ExecuteTime": {
     "end_time": "2021-05-29T18:35:49.965262Z",
     "start_time": "2021-05-29T18:35:49.955754Z"
    }
   },
   "outputs": [
    {
     "name": "stdout",
     "output_type": "stream",
     "text": [
      "-=-=-=-=-=-=-=-=-=-=-=-=-=-=-=-=-=-=-=-=-=-=-=-=-=-=-=-=-=-=\n",
      "Tabela de times do Brasileirão: ('Corinthians', 'Palmeiras', 'Santos', 'Grêmio', 'Cruzeiro', 'Flamengo', 'Vasco', 'Chapecoense', 'Atlético', 'Botafogo', 'Atlético-PR', 'Bahia', 'São Paulo', 'Fluminense', 'Sport Recife', 'EC Vitória', 'Coritiba', 'Avaí', 'Ponte Petra', 'Atlético-GO')\n",
      "-=-=-=-=-=-=-=-=-=-=-=-=-=-=-=-=-=-=-=-=-=-=-=-=-=-=-=-=-=-=\n",
      "Os 5 primeiros são ('Corinthians', 'Palmeiras', 'Santos', 'Grêmio', 'Cruzeiro')\n",
      "-=-=-=-=-=-=-=-=-=-=-=-=-=-=-=-=-=-=-=-=-=-=-=-=-=-=-=-=-=-=\n",
      "Os 4 últimos são ('Coritiba', 'Avaí', 'Ponte Petra', 'Atlético-GO')\n",
      "-=-=-=-=-=-=-=-=-=-=-=-=-=-=-=-=-=-=-=-=-=-=-=-=-=-=-=-=-=-=\n",
      "Times em ordem alfabética: ['Atlético', 'Atlético-GO', 'Atlético-PR', 'Avaí', 'Bahia', 'Botafogo', 'Chapecoense', 'Corinthians', 'Coritiba', 'Cruzeiro', 'EC Vitória', 'Flamengo', 'Fluminense', 'Grêmio', 'Palmeiras', 'Ponte Petra', 'Santos', 'Sport Recife', 'São Paulo', 'Vasco']\n",
      "-=-=-=-=-=-=-=-=-=-=-=-=-=-=-=-=-=-=-=-=-=-=-=-=-=-=-=-=-=-=\n",
      "O Chapecoense está na 8ª posição\n"
     ]
    }
   ],
   "source": [
    "# 73. Crie uma tupla preenchida com os 20 primeiros colocados da Tabela do Campeonato Brasileiro de Futebol, na ordem de colocação.\n",
    "## Depois mostre:\n",
    "## a) apenas os 5 primeiros colocados.\n",
    "## b) os últimos 4 colocados da tabela.\n",
    "## c) uma lista com os times em ordem alfabética.\n",
    "## d) em que posição na tabela está o time da Chapecoense.\n",
    "\n",
    "tabela = ('Corinthians', 'Palmeiras', 'Santos', 'Grêmio',\n",
    "          'Cruzeiro', 'Flamengo', 'Vasco', 'Chapecoense',\n",
    "          'Atlético', 'Botafogo', 'Atlético-PR', 'Bahia',\n",
    "          'São Paulo', 'Fluminense', 'Sport Recife',\n",
    "          'EC Vitória', 'Coritiba', 'Avaí', 'Ponte Petra',\n",
    "          'Atlético-GO')\n",
    "print('-='*30)\n",
    "print(f'Tabela de times do Brasileirão: {tabela}')\n",
    "print('-='*30)\n",
    "print(f'Os 5 primeiros são {tabela[0:5]}')\n",
    "print('-='*30)\n",
    "print(f'Os 4 últimos são {tabela[-4:]}')\n",
    "print('-='*30)\n",
    "print(f'Times em ordem alfabética: {sorted(tabela)}')\n",
    "print('-='*30)\n",
    "print('O Chapecoense está na {}ª posição'.format(tabela.index('Chapecoense')+1))"
   ]
  },
  {
   "cell_type": "code",
   "execution_count": 65,
   "id": "79df1a5c",
   "metadata": {
    "ExecuteTime": {
     "end_time": "2021-05-29T19:25:33.360434Z",
     "start_time": "2021-05-29T19:25:33.350926Z"
    },
    "scrolled": true
   },
   "outputs": [
    {
     "name": "stdout",
     "output_type": "stream",
     "text": [
      "Os valores sorteados foram: 6 10 3 6 10 \n",
      "O maior valor sorteado foi 10\n",
      "O menor valor sorteado foi 3\n"
     ]
    }
   ],
   "source": [
    "# 74. Crie um programa que vai gerar cinco números aleatótios e colocar em uma tupla.\n",
    "## Depois disso, mostre a listagem de números gerados e também indique o menor e o maior valor que estão na tupla.\n",
    "from random import randint\n",
    "n = (randint(1, 10), randint(1, 10), randint(1, 10),\n",
    "     randint(1, 10), randint(1, 10))\n",
    "print(f'Os valores sorteados foram: ', end='')\n",
    "for c in n:\n",
    "    print(f'{c} ', end='')\n",
    "\n",
    "print(f'\\nO maior valor sorteado foi {max(n)}')\n",
    "print(f'O menor valor sorteado foi {min(n)}')"
   ]
  },
  {
   "cell_type": "code",
   "execution_count": 73,
   "id": "426a746a",
   "metadata": {
    "ExecuteTime": {
     "end_time": "2021-05-29T19:32:34.655211Z",
     "start_time": "2021-05-29T19:32:31.390960Z"
    }
   },
   "outputs": [
    {
     "name": "stdout",
     "output_type": "stream",
     "text": [
      "Digite um número: 2\n",
      "Digite outro número: 9\n",
      "Digite mais um número: 4\n",
      "Digite o último número: 8\n",
      "Você digitou os valores (2, 9, 4, 8)\n",
      "O valor 9 apareceu 1 vezes\n",
      "O valor 3 não foi digitado em nenhuma posição\n",
      "Os valores pares digitados foram 2 4 8 "
     ]
    }
   ],
   "source": [
    "# 75. Desenvolva um programa que leia quatro valores pelo teclado e guarde-os em uma tupla.\n",
    "## No final, mostre:\n",
    "## a) Quantas vezes apareceu o valor 9.\n",
    "## b) Em que posição foi digitado o primeiro valor 3.\n",
    "## c) Quais foram os números pares.\n",
    "\n",
    "pares = 0\n",
    "n = (int(input('Digite um número: ')),\n",
    "     int(input('Digite outro número: ')),\n",
    "     int(input('Digite mais um número: ')),\n",
    "     int(input('Digite o último número: ')))\n",
    "print(f'Você digitou os valores {n}')\n",
    "print(f'O valor 9 apareceu {n.count(9)} vezes')\n",
    "if 3 in n:\n",
    "    print(f'O valor 3 apareceu na {n.index(3)+1}ª posição')\n",
    "else:\n",
    "    print('O valor 3 não foi digitado em nenhuma posição')\n",
    "print('Os valores pares digitados foram ', end='')\n",
    "for c in n:\n",
    "    if c%2 == 0:\n",
    "        print(f'{c} ', end='')"
   ]
  },
  {
   "cell_type": "code",
   "execution_count": 109,
   "id": "36348a3b",
   "metadata": {
    "ExecuteTime": {
     "end_time": "2021-05-29T19:52:47.977632Z",
     "start_time": "2021-05-29T19:52:47.968625Z"
    }
   },
   "outputs": [
    {
     "name": "stdout",
     "output_type": "stream",
     "text": [
      "========================================\n",
      "           LISTAGEM DE PREÇOS           \n",
      "========================================\n",
      "Lápis.........................$R   1.75\n",
      "Borracha......................$R   2.00\n",
      "Caderno.......................$R  15.90\n",
      "Estojo........................$R  25.00\n",
      "Transferidor..................$R   4.20\n",
      "Compasso......................$R   9.99\n",
      "Mochila.......................$R 120.32\n",
      "Canetas.......................$R  22.30\n",
      "Livro.........................$R  34.90\n",
      "========================================\n"
     ]
    }
   ],
   "source": [
    "# 76. Crie um programa que tenha uma tupla única com nomes de produtos e seus respetivos preços, na sequência.\n",
    "## No final, mostre uma listagem de preços, organizando os dados em forma tabular.\n",
    "\n",
    "produtos = ('Lápis', 1.75,\n",
    "            'Borracha', 2.00,\n",
    "            'Caderno', 15.90,\n",
    "            'Estojo', 25.00,\n",
    "            'Transferidor', 4.20,\n",
    "            'Compasso', 9.99,\n",
    "            'Mochila', 120.32,\n",
    "            'Canetas', 22.30,\n",
    "            'Livro', 34.90)\n",
    "print('='*40)\n",
    "print(f'{\"LISTAGEM DE PREÇOS\":^40}')\n",
    "print('='*40)\n",
    "for p in range(0, len(produtos)):\n",
    "    if p%2 == 0:\n",
    "        print(f'{produtos[p]:.<30}', end='')\n",
    "    if p%2 == 1:\n",
    "        print(f'$R{produtos[p]:>7.2f}')\n",
    "print('='*40)\n"
   ]
  },
  {
   "cell_type": "code",
   "execution_count": 114,
   "id": "282d5e81",
   "metadata": {
    "ExecuteTime": {
     "end_time": "2021-05-29T20:10:14.074495Z",
     "start_time": "2021-05-29T20:10:14.069991Z"
    }
   },
   "outputs": [
    {
     "name": "stdout",
     "output_type": "stream",
     "text": [
      "\n",
      "Na palavra APRENDER temos a e e \n",
      "Na palavra PROGRAMAR temos o a a \n",
      "Na palavra LINGUAGEM temos i u a e \n",
      "Na palavra PYTHON temos o \n",
      "Na palavra CURSO temos u o \n",
      "Na palavra GRATIS temos a i \n",
      "Na palavra ESTUDAR temos e u a \n",
      "Na palavra PRATICAR temos a i a \n",
      "Na palavra TRABALHAR temos a a a \n",
      "Na palavra MERCADO temos e a o \n",
      "Na palavra PROGRAMADOR temos o a a o \n",
      "Na palavra FUTURO temos u u o "
     ]
    }
   ],
   "source": [
    "# 77. Crie uma tupla com várias palavras (não usar acentos).\n",
    "## Depois disso, você deve mostrar, para cada palavra, quais são as suas vogais.\n",
    "\n",
    "palavra = ('aprender', 'programar', 'linguagem', \n",
    "           'python', 'curso', 'gratis', 'estudar', \n",
    "           'praticar', 'trabalhar', 'mercado', \n",
    "           'programador', 'futuro')\n",
    "\n",
    "for c in palavra:\n",
    "    print(f'\\nNa palavra {c.upper()} temos ', end='')\n",
    "    for letra in c:\n",
    "        if letra.lower() in 'aeiou':\n",
    "            print(f'{letra}', end=' ')\n",
    "   "
   ]
  }
 ],
 "metadata": {
  "kernelspec": {
   "display_name": "Python 3",
   "language": "python",
   "name": "python3"
  },
  "language_info": {
   "codemirror_mode": {
    "name": "ipython",
    "version": 3
   },
   "file_extension": ".py",
   "mimetype": "text/x-python",
   "name": "python",
   "nbconvert_exporter": "python",
   "pygments_lexer": "ipython3",
   "version": "3.8.10"
  },
  "varInspector": {
   "cols": {
    "lenName": 16,
    "lenType": 16,
    "lenVar": 40
   },
   "kernels_config": {
    "python": {
     "delete_cmd_postfix": "",
     "delete_cmd_prefix": "del ",
     "library": "var_list.py",
     "varRefreshCmd": "print(var_dic_list())"
    },
    "r": {
     "delete_cmd_postfix": ") ",
     "delete_cmd_prefix": "rm(",
     "library": "var_list.r",
     "varRefreshCmd": "cat(var_dic_list()) "
    }
   },
   "types_to_exclude": [
    "module",
    "function",
    "builtin_function_or_method",
    "instance",
    "_Feature"
   ],
   "window_display": false
  }
 },
 "nbformat": 4,
 "nbformat_minor": 5
}
