{
 "cells": [
  {
   "cell_type": "code",
   "execution_count": 1,
   "id": "bb328bcc",
   "metadata": {
    "ExecuteTime": {
     "end_time": "2021-06-01T18:54:01.679505Z",
     "start_time": "2021-06-01T18:54:01.675001Z"
    }
   },
   "outputs": [
    {
     "name": "stdout",
     "output_type": "stream",
     "text": [
      "{'nome': 'Gustavo', 'sexo': 'M', 'idade': 22}\n"
     ]
    }
   ],
   "source": [
    "pessoas = {'nome': 'Gustavo', 'sexo':'M', 'idade':22}\n",
    "print(pessoas)"
   ]
  },
  {
   "cell_type": "code",
   "execution_count": 3,
   "id": "5f80300c",
   "metadata": {
    "ExecuteTime": {
     "end_time": "2021-06-01T18:54:17.457896Z",
     "start_time": "2021-06-01T18:54:17.446401Z"
    }
   },
   "outputs": [
    {
     "name": "stdout",
     "output_type": "stream",
     "text": [
      "Gustavo\n"
     ]
    }
   ],
   "source": [
    "pessoas = {'nome': 'Gustavo', 'sexo':'M', 'idade':22}\n",
    "print(pessoas['nome'])"
   ]
  },
  {
   "cell_type": "code",
   "execution_count": 4,
   "id": "8b48386f",
   "metadata": {
    "ExecuteTime": {
     "end_time": "2021-06-01T18:54:29.046685Z",
     "start_time": "2021-06-01T18:54:29.044182Z"
    }
   },
   "outputs": [
    {
     "name": "stdout",
     "output_type": "stream",
     "text": [
      "22\n"
     ]
    }
   ],
   "source": [
    "pessoas = {'nome': 'Gustavo', 'sexo':'M', 'idade':22}\n",
    "print(pessoas['idade'])"
   ]
  },
  {
   "cell_type": "code",
   "execution_count": 7,
   "id": "883ec628",
   "metadata": {
    "ExecuteTime": {
     "end_time": "2021-06-01T18:55:43.142746Z",
     "start_time": "2021-06-01T18:55:43.133246Z"
    }
   },
   "outputs": [
    {
     "name": "stdout",
     "output_type": "stream",
     "text": [
      "O Gustavo tem 22 anos.\n"
     ]
    }
   ],
   "source": [
    "pessoas = {'nome': 'Gustavo', 'sexo':'M', 'idade':22}\n",
    "print(f'O {pessoas[\"nome\"]} tem {pessoas[\"idade\"]} anos.')"
   ]
  },
  {
   "cell_type": "code",
   "execution_count": 8,
   "id": "6ddbf301",
   "metadata": {
    "ExecuteTime": {
     "end_time": "2021-06-01T18:55:59.047584Z",
     "start_time": "2021-06-01T18:55:59.045082Z"
    }
   },
   "outputs": [
    {
     "name": "stdout",
     "output_type": "stream",
     "text": [
      "dict_keys(['nome', 'sexo', 'idade'])\n"
     ]
    }
   ],
   "source": [
    "pessoas = {'nome': 'Gustavo', 'sexo':'M', 'idade':22}\n",
    "print(pessoas.keys())"
   ]
  },
  {
   "cell_type": "code",
   "execution_count": 9,
   "id": "ddaf931f",
   "metadata": {
    "ExecuteTime": {
     "end_time": "2021-06-01T18:56:11.935081Z",
     "start_time": "2021-06-01T18:56:11.920068Z"
    }
   },
   "outputs": [
    {
     "name": "stdout",
     "output_type": "stream",
     "text": [
      "dict_values(['Gustavo', 'M', 22])\n"
     ]
    }
   ],
   "source": [
    "pessoas = {'nome': 'Gustavo', 'sexo':'M', 'idade':22}\n",
    "print(pessoas.values())"
   ]
  },
  {
   "cell_type": "code",
   "execution_count": 10,
   "id": "338ef69d",
   "metadata": {
    "ExecuteTime": {
     "end_time": "2021-06-01T18:56:21.422318Z",
     "start_time": "2021-06-01T18:56:21.409804Z"
    }
   },
   "outputs": [
    {
     "name": "stdout",
     "output_type": "stream",
     "text": [
      "dict_items([('nome', 'Gustavo'), ('sexo', 'M'), ('idade', 22)])\n"
     ]
    }
   ],
   "source": [
    "pessoas = {'nome': 'Gustavo', 'sexo':'M', 'idade':22}\n",
    "print(pessoas.items())"
   ]
  },
  {
   "cell_type": "code",
   "execution_count": 12,
   "id": "2f46abcf",
   "metadata": {
    "ExecuteTime": {
     "end_time": "2021-06-01T18:57:20.666151Z",
     "start_time": "2021-06-01T18:57:20.650930Z"
    }
   },
   "outputs": [
    {
     "name": "stdout",
     "output_type": "stream",
     "text": [
      "nome\n",
      "sexo\n",
      "idade\n"
     ]
    }
   ],
   "source": [
    "pessoas = {'nome': 'Gustavo', 'sexo':'M', 'idade':22}\n",
    "for k in pessoas.keys():\n",
    "    print(f'{k}')"
   ]
  },
  {
   "cell_type": "code",
   "execution_count": 15,
   "id": "e4fb8aaf",
   "metadata": {
    "ExecuteTime": {
     "end_time": "2021-06-01T18:57:48.734894Z",
     "start_time": "2021-06-01T18:57:48.730391Z"
    }
   },
   "outputs": [
    {
     "name": "stdout",
     "output_type": "stream",
     "text": [
      "Gustavo\n",
      "M\n",
      "22\n"
     ]
    }
   ],
   "source": [
    "pessoas = {'nome': 'Gustavo', 'sexo':'M', 'idade':22}\n",
    "for v in pessoas.values():\n",
    "    print(f'{v}')"
   ]
  },
  {
   "cell_type": "code",
   "execution_count": 16,
   "id": "8e8d304e",
   "metadata": {
    "ExecuteTime": {
     "end_time": "2021-06-01T18:58:02.065080Z",
     "start_time": "2021-06-01T18:58:02.058082Z"
    }
   },
   "outputs": [
    {
     "name": "stdout",
     "output_type": "stream",
     "text": [
      "nome = Gustavo\n",
      "sexo = M\n",
      "idade = 22\n"
     ]
    }
   ],
   "source": [
    "pessoas = {'nome': 'Gustavo', 'sexo':'M', 'idade':22}\n",
    "for k, v in pessoas.items():\n",
    "    print(f'{k} = {v}')"
   ]
  },
  {
   "cell_type": "code",
   "execution_count": 17,
   "id": "dac9858f",
   "metadata": {
    "ExecuteTime": {
     "end_time": "2021-06-01T18:58:38.667796Z",
     "start_time": "2021-06-01T18:58:38.650049Z"
    }
   },
   "outputs": [
    {
     "name": "stdout",
     "output_type": "stream",
     "text": [
      "nome = Gustavo\n",
      "idade = 22\n"
     ]
    }
   ],
   "source": [
    "pessoas = {'nome': 'Gustavo', 'sexo':'M', 'idade':22}\n",
    "del pessoas['sexo']\n",
    "for k, v in pessoas.items():\n",
    "    print(f'{k} = {v}')"
   ]
  },
  {
   "cell_type": "code",
   "execution_count": 18,
   "id": "9665ad53",
   "metadata": {
    "ExecuteTime": {
     "end_time": "2021-06-01T18:59:03.494388Z",
     "start_time": "2021-06-01T18:59:03.479875Z"
    }
   },
   "outputs": [
    {
     "name": "stdout",
     "output_type": "stream",
     "text": [
      "nome = Leandro\n",
      "sexo = M\n",
      "idade = 22\n"
     ]
    }
   ],
   "source": [
    "pessoas = {'nome': 'Gustavo', 'sexo':'M', 'idade':22}\n",
    "pessoas['nome'] = 'Leandro'\n",
    "for k, v in pessoas.items():\n",
    "    print(f'{k} = {v}')"
   ]
  },
  {
   "cell_type": "code",
   "execution_count": 19,
   "id": "9fd2bba8",
   "metadata": {
    "ExecuteTime": {
     "end_time": "2021-06-01T18:59:27.033486Z",
     "start_time": "2021-06-01T18:59:27.027990Z"
    }
   },
   "outputs": [
    {
     "name": "stdout",
     "output_type": "stream",
     "text": [
      "nome = Gustavo\n",
      "sexo = M\n",
      "idade = 22\n",
      "peso = 98.5\n"
     ]
    }
   ],
   "source": [
    "pessoas = {'nome': 'Gustavo', 'sexo':'M', 'idade':22}\n",
    "pessoas['peso'] = 98.5\n",
    "for k, v in pessoas.items():\n",
    "    print(f'{k} = {v}')"
   ]
  },
  {
   "cell_type": "code",
   "execution_count": 23,
   "id": "25da6069",
   "metadata": {
    "ExecuteTime": {
     "end_time": "2021-06-01T19:01:56.897586Z",
     "start_time": "2021-06-01T19:01:56.883574Z"
    }
   },
   "outputs": [
    {
     "name": "stdout",
     "output_type": "stream",
     "text": [
      "[{'uf': 'Rio de Janeiro', 'sigla': 'RJ'}, {'uf': 'São Paulo', 'sigla': 'SP'}]\n"
     ]
    }
   ],
   "source": [
    "# Criar dicionário dentro de uma lista\n",
    "\n",
    "brasil = []\n",
    "estado1 = {'uf': 'Rio de Janeiro', 'sigla': 'RJ'}\n",
    "estado2 = {'uf': 'São Paulo', 'sigla': 'SP'}\n",
    "brasil.append(estado1)\n",
    "brasil.append(estado2)\n",
    "\n",
    "print(brasil)"
   ]
  },
  {
   "cell_type": "code",
   "execution_count": 24,
   "id": "53f78bd6",
   "metadata": {
    "ExecuteTime": {
     "end_time": "2021-06-01T19:02:21.255076Z",
     "start_time": "2021-06-01T19:02:21.240563Z"
    }
   },
   "outputs": [
    {
     "name": "stdout",
     "output_type": "stream",
     "text": [
      "{'uf': 'Rio de Janeiro', 'sigla': 'RJ'}\n"
     ]
    }
   ],
   "source": [
    "# Criar dicionário dentro de uma lista\n",
    "\n",
    "brasil = []\n",
    "estado1 = {'uf': 'Rio de Janeiro', 'sigla': 'RJ'}\n",
    "estado2 = {'uf': 'São Paulo', 'sigla': 'SP'}\n",
    "brasil.append(estado1)\n",
    "brasil.append(estado2)\n",
    "\n",
    "print(brasil[0])"
   ]
  },
  {
   "cell_type": "code",
   "execution_count": 25,
   "id": "88e3bbef",
   "metadata": {
    "ExecuteTime": {
     "end_time": "2021-06-01T19:02:39.052805Z",
     "start_time": "2021-06-01T19:02:39.037791Z"
    }
   },
   "outputs": [
    {
     "name": "stdout",
     "output_type": "stream",
     "text": [
      "Rio de Janeiro\n"
     ]
    }
   ],
   "source": [
    "# Criar dicionário dentro de uma lista\n",
    "\n",
    "brasil = []\n",
    "estado1 = {'uf': 'Rio de Janeiro', 'sigla': 'RJ'}\n",
    "estado2 = {'uf': 'São Paulo', 'sigla': 'SP'}\n",
    "brasil.append(estado1)\n",
    "brasil.append(estado2)\n",
    "\n",
    "print(brasil[0]['uf'])"
   ]
  },
  {
   "cell_type": "code",
   "execution_count": 26,
   "id": "b03f66a2",
   "metadata": {
    "ExecuteTime": {
     "end_time": "2021-06-01T19:03:02.474480Z",
     "start_time": "2021-06-01T19:03:02.465472Z"
    }
   },
   "outputs": [
    {
     "name": "stdout",
     "output_type": "stream",
     "text": [
      "SP\n"
     ]
    }
   ],
   "source": [
    "# Criar dicionário dentro de uma lista\n",
    "\n",
    "brasil = []\n",
    "estado1 = {'uf': 'Rio de Janeiro', 'sigla': 'RJ'}\n",
    "estado2 = {'uf': 'São Paulo', 'sigla': 'SP'}\n",
    "brasil.append(estado1)\n",
    "brasil.append(estado2)\n",
    "\n",
    "print(brasil[1]['sigla'])"
   ]
  },
  {
   "cell_type": "code",
   "execution_count": 30,
   "id": "cc7d1ef9",
   "metadata": {
    "ExecuteTime": {
     "end_time": "2021-06-01T19:10:26.285233Z",
     "start_time": "2021-06-01T19:10:16.195239Z"
    }
   },
   "outputs": [
    {
     "name": "stdout",
     "output_type": "stream",
     "text": [
      "Unidade Federativa: Rio\n",
      "Sigla do Estado: RJ\n",
      "Unidade Federativa: Sampa\n",
      "Sigla do Estado: SP\n",
      "Unidade Federativa: PAraná\n",
      "Sigla do Estado: PR\n",
      "{'uf': 'Rio', 'sigla': 'RJ'}\n",
      "{'uf': 'Sampa', 'sigla': 'SP'}\n",
      "{'uf': 'PAraná', 'sigla': 'PR'}\n"
     ]
    }
   ],
   "source": [
    "estado = {}\n",
    "brasil = []\n",
    "for c in range (0, 3):\n",
    "    estado['uf'] = str(input('Unidade Federativa: '))\n",
    "    estado['sigla'] = str(input('Sigla do Estado: '))\n",
    "    brasil.append(estado.copy())\n",
    "for e in brasil:\n",
    "    print(e)   \n"
   ]
  },
  {
   "cell_type": "code",
   "execution_count": 31,
   "id": "07647bfe",
   "metadata": {
    "ExecuteTime": {
     "end_time": "2021-06-01T19:11:40.729360Z",
     "start_time": "2021-06-01T19:11:14.981809Z"
    }
   },
   "outputs": [
    {
     "name": "stdout",
     "output_type": "stream",
     "text": [
      "Unidade Federativa: Rui de Janeiro\n",
      "Sigla do Estado: RJ\n",
      "Unidade Federativa: São Paulo\n",
      "Sigla do Estado: SP\n",
      "Unidade Federativa: Parané\n",
      "Sigla do Estado: PR\n",
      "O campo uf tem valor Rui de Janeiro.\n",
      "O campo sigla tem valor RJ.\n",
      "O campo uf tem valor São Paulo.\n",
      "O campo sigla tem valor SP.\n",
      "O campo uf tem valor Parané.\n",
      "O campo sigla tem valor PR.\n"
     ]
    }
   ],
   "source": [
    "estado = {}\n",
    "brasil = []\n",
    "for c in range (0, 3):\n",
    "    estado['uf'] = str(input('Unidade Federativa: '))\n",
    "    estado['sigla'] = str(input('Sigla do Estado: '))\n",
    "    brasil.append(estado.copy())\n",
    "for e in brasil:\n",
    "    for k, v in e.items():\n",
    "        print(f'O campo {k} tem valor {v}.')\n"
   ]
  },
  {
   "cell_type": "code",
   "execution_count": 33,
   "id": "9c21d5bc",
   "metadata": {
    "ExecuteTime": {
     "end_time": "2021-06-01T19:12:38.214935Z",
     "start_time": "2021-06-01T19:12:25.721280Z"
    },
    "scrolled": true
   },
   "outputs": [
    {
     "name": "stdout",
     "output_type": "stream",
     "text": [
      "Unidade Federativa: Acre\n",
      "Sigla do Estado: AC\n",
      "Unidade Federativa: Amazonas\n",
      "Sigla do Estado: AM\n",
      "Unidade Federativa: Pará\n",
      "Sigla do Estado: PA\n",
      "AcreAC\n",
      "AmazonasAM\n",
      "ParáPA\n"
     ]
    }
   ],
   "source": [
    "estado = {}\n",
    "brasil = []\n",
    "for c in range (0, 3):\n",
    "    estado['uf'] = str(input('Unidade Federativa: '))\n",
    "    estado['sigla'] = str(input('Sigla do Estado: '))\n",
    "    brasil.append(estado.copy())\n",
    "for e in brasil:\n",
    "    for v in e.values():\n",
    "        print(v, end=' ')\n",
    "    print()"
   ]
  },
  {
   "cell_type": "markdown",
   "id": "06676eb4",
   "metadata": {},
   "source": [
    "# Desafios"
   ]
  },
  {
   "cell_type": "code",
   "execution_count": 46,
   "id": "1655be70",
   "metadata": {
    "ExecuteTime": {
     "end_time": "2021-06-01T21:05:10.341590Z",
     "start_time": "2021-06-01T21:05:06.255706Z"
    }
   },
   "outputs": [
    {
     "name": "stdout",
     "output_type": "stream",
     "text": [
      "Nome: carol\n",
      "Média de carol: 2\n",
      "-=-=-=-=-=-=-=-=-=-=-=-=-=-=-=-=-=-=-=-=-=-=-=-=-=-=-=-=-=-=\n",
      "- nome é igual a carol\n",
      "- média é igual a 2.0\n",
      "- situação é igual a Reprovado\n"
     ]
    }
   ],
   "source": [
    "# 90. Faça um programa que leia nome e média de um aluno, guardando também a situação em um dicionário.\n",
    "## No final, mostre o conteúdo da estrutura na tela.\n",
    "## média >= 7 , situação == aprovado\n",
    "\n",
    "dados ={}\n",
    "dados['nome'] = str(input('Nome: '))\n",
    "dados['média'] = float(input(f'Média de {dados[\"nome\"]}: '))\n",
    "if dados['média'] >= 7:\n",
    "    dados['situação'] = 'Aprovado'\n",
    "elif 5 <= dados['média'] < 7:\n",
    "    dados['situação'] = 'Recuperação'\n",
    "else:\n",
    "    dados['situação'] = 'Reprovado'\n",
    "print('-='*30)\n",
    "for k, v in dados.items():\n",
    "        print(f'- {k} é igual a {v}')\n"
   ]
  },
  {
   "cell_type": "code",
   "execution_count": 67,
   "id": "040cf8d1",
   "metadata": {
    "ExecuteTime": {
     "end_time": "2021-06-01T21:42:06.953764Z",
     "start_time": "2021-06-01T21:41:57.830446Z"
    },
    "scrolled": true
   },
   "outputs": [
    {
     "name": "stdout",
     "output_type": "stream",
     "text": [
      "Valores sorteados:\n",
      "jogador0 tirou 3 no dado.\n",
      "jogador1 tirou 5 no dado.\n",
      "jogador2 tirou 1 no dado.\n",
      "jogador3 tirou 4 no dado.\n",
      "-=-=-=-=-=-=-=-=-=-=-=-=-=-=-=-=-=-=-=-=-=-=-=-=-=-=-=-=-=-=\n",
      "== RANKING DOS JOGADORES ==\n",
      "1º lugar: jogador2 com 1.\n",
      "2º lugar: jogador0 com 3.\n",
      "3º lugar: jogador3 com 4.\n",
      "4º lugar: jogador1 com 5.\n"
     ]
    }
   ],
   "source": [
    "# 91. Crie um programa onde 4 jogadores joguem um dado e tenham resultados aleatórios.\n",
    "## Guarde esses resultados em um dicionário.\n",
    "## No final, coloque esse dicionário em ordem, sabendo que o vencedor tirou o maior número no dado.\n",
    "\n",
    "from time import sleep\n",
    "from random import randint\n",
    "jogadas = {}\n",
    "print('Valores sorteados:')\n",
    "sleep(1)\n",
    "for c in range (0, 4):\n",
    "    jogadas[f'jogador{c}'] = randint(1, 6)\n",
    "for k, v in jogadas.items():\n",
    "    print(f'{k} tirou {v} no dado.')\n",
    "    sleep(1)\n",
    "print('-='*30)\n",
    "print(f'{\"== RANKING DOS JOGADORES ==\":>10}')\n",
    "d = sorted(jogadas, key = jogadas.get)\n",
    "c = 0\n",
    "for key in d:\n",
    "    print(f'{c+1}º lugar: {d[c]} com {jogadas[key]}.' )\n",
    "    c += 1\n",
    "    sleep(1)\n"
   ]
  },
  {
   "cell_type": "code",
   "execution_count": 8,
   "id": "d7e4da12",
   "metadata": {
    "ExecuteTime": {
     "end_time": "2021-06-02T19:21:42.689959Z",
     "start_time": "2021-06-02T19:21:34.579654Z"
    }
   },
   "outputs": [
    {
     "name": "stdout",
     "output_type": "stream",
     "text": [
      "Valores sorteados:\n",
      "jogador1 tirou 4 no dado.\n",
      "jogador2 tirou 5 no dado.\n",
      "jogador3 tirou 6 no dado.\n",
      "jogador4 tirou 3 no dado.\n",
      "-=-=-=-=-=-=-=-=-=-=-=-=-=-=-=-=-=-=-=-=-=-=-=-=-=-=-=-=-=-=\n",
      "  == RANKING DOS JOGADORES ==\n",
      "  1º lugar: jogador3 com 6.\n",
      "  2º lugar: jogador2 com 5.\n",
      "  3º lugar: jogador1 com 4.\n",
      "  4º lugar: jogador4 com 3.\n"
     ]
    }
   ],
   "source": [
    "from time import sleep\n",
    "from random import randint\n",
    "from operator import itemgetter\n",
    "\n",
    "jogadas = {'jogador1': randint(1, 6),\n",
    "          'jogador2': randint(1, 6),\n",
    "          'jogador3': randint(1, 6),\n",
    "          'jogador4': randint(1, 6),}\n",
    "ranking = []\n",
    "print('Valores sorteados:')\n",
    "for k, v in jogadas.items():\n",
    "    print(f'{k} tirou {v} no dado.')\n",
    "    sleep(1)\n",
    "print('-='*30)\n",
    "ranking = sorted(jogadas.items(), key=itemgetter(1), reverse=True)\n",
    "print(f'{\"  == RANKING DOS JOGADORES ==\":>10}')\n",
    "for i, v in enumerate(ranking):\n",
    "    print(f'  {i+1}º lugar: {v[0]} com {v[1]}.' )\n",
    "    sleep(1)\n"
   ]
  },
  {
   "cell_type": "code",
   "execution_count": 17,
   "id": "45b8a35e",
   "metadata": {
    "ExecuteTime": {
     "end_time": "2021-06-02T21:39:54.434974Z",
     "start_time": "2021-06-02T21:39:37.036355Z"
    }
   },
   "outputs": [
    {
     "name": "stdout",
     "output_type": "stream",
     "text": [
      "Nome: Gustavo\n",
      "Ano de Nascimento: 1978\n",
      "Carteira de Trabalho (0 não tem): 1234\n",
      "Ano de Contratação: 1994\n",
      "Salário: R$100\n",
      "-=-=-=-=-=-=-=-=-=-=-=-=-=-=-=-=-=-=-=-=-=-=-=-=-=-=-=-=-=-=\n",
      " - nome tem o valor Gustavo\n",
      " - idade tem o valor 43\n",
      " - ctps tem o valor 1234\n",
      " - contratação tem o valor 1994\n",
      " - salário tem o valor 100.0\n",
      " - aposentadoria tem o valor 51\n"
     ]
    }
   ],
   "source": [
    "# 92. Crie um programa que leia nome, ano de nascimento e carteira de trabalho e cadastre-os (com idade) em um dicionário\n",
    "## Se por acaso o CTPS for diferente de ZERO, o dicionário receberá também o ano de contratação e o salário.\n",
    "## Calcule e acrescente, além da idade, com quantos anos a pessoa vai se aposentar.\n",
    "## nome, idade, carteira de trabalho (CTPS).\n",
    "## aposentação depois de 35 anos de contribuição.\n",
    "\n",
    "import datetime\n",
    "registo = {}\n",
    "registo['nome'] = str(input('Nome: '))\n",
    "year = int(input('Ano de Nascimento: '))\n",
    "registo['idade'] = datetime.datetime.now().year-year\n",
    "registo['ctps'] = int(input('Carteira de Trabalho (0 não tem): '))\n",
    "if registo['ctps'] != 0:\n",
    "    registo['contratação'] = int(input('Ano de Contratação: '))\n",
    "    registo['salário'] = float(input('Salário: R$'))\n",
    "    registo['aposentadoria'] = registo['idade']+(35-(datetime.datetime.now().year-registo['contratação']))\n",
    "print('-='*30)\n",
    "for k, v in registo.items():\n",
    "    print(f' - {k} tem o valor {v}')"
   ]
  },
  {
   "cell_type": "code",
   "execution_count": 29,
   "id": "7d842ab9",
   "metadata": {
    "ExecuteTime": {
     "end_time": "2021-06-02T21:57:28.076195Z",
     "start_time": "2021-06-02T21:57:19.835699Z"
    }
   },
   "outputs": [
    {
     "name": "stdout",
     "output_type": "stream",
     "text": [
      "Nome do jogador: Mauro\n",
      "Quantas partidas Mauro jogou? 4\n",
      "Quantos golos na partida 0? 1\n",
      "Quantos golos na partida 1? 2\n",
      "Quantos golos na partida 2? 3\n",
      "Quantos golos na partida 3? 4\n",
      "-=-=-=-=-=-=-=-=-=-=-=-=-=-=-=-=-=-=-=-=-=-=-=-=-=-=-=-=-=-=\n",
      "{'nome': 'Mauro', 'golos': [1, 2, 3, 4], 'total': 10}\n",
      "-=-=-=-=-=-=-=-=-=-=-=-=-=-=-=-=-=-=-=-=-=-=-=-=-=-=-=-=-=-=\n",
      "O campo nome tem o valor Mauro\n",
      "O campo golos tem o valor [1, 2, 3, 4]\n",
      "O campo total tem o valor 10\n",
      "-=-=-=-=-=-=-=-=-=-=-=-=-=-=-=-=-=-=-=-=-=-=-=-=-=-=-=-=-=-=\n",
      "O jogadorMauro jogou 4 partidas.\n",
      " -> Na partida 0, fez 1 golos.\n",
      " -> Na partida 1, fez 2 golos.\n",
      " -> Na partida 2, fez 3 golos.\n",
      " -> Na partida 3, fez 4 golos.\n",
      "Foi um total de 10 golos.\n"
     ]
    }
   ],
   "source": [
    "# 93. Crie um programa que gerencie o aproveitamento de um jogador de futebol.\n",
    "## O programa vai ler o nome do jogador e quantas partidas ele jogou. \n",
    "## Depois vai ler a quantidade de golos feitos em cada partida.\n",
    "## No final, tudo isso será guardado em um dicionário, incluindo o total de golos feitos durante o campeonato.\n",
    "\n",
    "registo = {}\n",
    "golos = []\n",
    "registo['nome'] = str(input('Nome do jogador: '))\n",
    "n = int(input(f'Quantas partidas {registo[\"nome\"]} jogou? '))\n",
    "for c in range (0, n):\n",
    "    golos.append(int(input(f'Quantos golos na partida {c}? ')))\n",
    "registo['golos'] = golos[:]\n",
    "s = sum(golos)\n",
    "registo['total'] = s\n",
    "print('-='*30)\n",
    "print(registo)\n",
    "print('-='*30)\n",
    "for k, v in registo.items():\n",
    "    print(f'O campo {k} tem o valor {v}')\n",
    "print('-='*30)\n",
    "print(f'O jogador{registo[\"nome\"]} jogou {n} partidas.')\n",
    "for i, v in enumerate(golos):\n",
    "    print(f' -> Na partida {i}, fez {v} golos.')\n",
    "print(f'Foi um total de {s} golos.')"
   ]
  },
  {
   "cell_type": "code",
   "execution_count": 3,
   "id": "943bcf27",
   "metadata": {
    "ExecuteTime": {
     "end_time": "2021-06-03T10:19:12.802411Z",
     "start_time": "2021-06-03T10:18:50.133836Z"
    }
   },
   "outputs": [
    {
     "name": "stdout",
     "output_type": "stream",
     "text": [
      "Nome: Teo\n",
      "Sexo: [M/F] m\n",
      "Idade: 12\n",
      "Quer continuar? [S/N] s\n",
      "Nome: Maria\n",
      "Sexo: [M/F] f\n",
      "Idade: 22\n",
      "Quer continuar? [S/N] s\n",
      "Nome: Pedro\n",
      "Sexo: [M/F] m\n",
      "Idade: 18\n",
      "Quer continuar? [S/N] s\n",
      "Nome: Vanessa\n",
      "Sexo: [M/F] f\n",
      "Idade: 44\n",
      "Quer continuar? [S/N] n\n",
      "-=-=-=-=-=-=-=-=-=-=-=-=-=-=-=-=-=-=-=-=-=-=-=-=-=-=-=-=-=-=\n",
      "[{'nome': 'Teo', 'sexo': 'M', 'idade': 12}, {'nome': 'Maria', 'sexo': 'F', 'idade': 22}, {'nome': 'Pedro', 'sexo': 'M', 'idade': 18}, {'nome': 'Vanessa', 'sexo': 'F', 'idade': 44}]\n",
      "-=-=-=-=-=-=-=-=-=-=-=-=-=-=-=-=-=-=-=-=-=-=-=-=-=-=-=-=-=-=\n",
      "A) Ao todo temos 4 pessoas cadastradas\n",
      "B) A média de idade é de 24.00 anos\n",
      "C) As mulheres cadastradas foram \n",
      "Maria\n",
      "\n",
      "Vanessa\n",
      "D) Lista das pessoas que estão acima da média: \n",
      "   \n",
      "nome = Vanessa; sexo = F; idade = 44; \n",
      "<< ENCERRADO >>\n"
     ]
    }
   ],
   "source": [
    "# 94. Crie um programa que leia nome, sexo e idade de várias pessoas,\n",
    "## guardando os dados de cada pessoa em um dicionário e todos os dicionários em uma lista.\n",
    "## No final, mostre:\n",
    "## a) quantas pessoas foram cadastradas\n",
    "## b) a média de idade do grupo\n",
    "## c) uma lista com todas as mulheres\n",
    "## d) uma lista com todas as pessoas com idade acima da média\n",
    "\n",
    "registo = []\n",
    "pessoa = {}\n",
    "s = 0\n",
    "while True:\n",
    "    pessoa.clear()\n",
    "    pessoa['nome'] = str(input('Nome: '))\n",
    "    while True:\n",
    "        pessoa['sexo'] = str(input('Sexo: [M/F] ')).upper()[0]\n",
    "        if pessoa['sexo'] not in 'mMFf':\n",
    "            print('ERRO! Por favor, digite apenas M ou F.')\n",
    "        else:\n",
    "            break\n",
    "    pessoa['idade'] = int(input('Idade: '))\n",
    "    s += pessoa['idade']\n",
    "    registo.append(pessoa.copy())\n",
    "    while True:\n",
    "        cond = str(input('Quer continuar? [S/N] ')).upper()[0]\n",
    "        if cond not in 'nNsS':\n",
    "            print('ERRO! Por favor, digite apenas N ou S.')\n",
    "        else:\n",
    "            break\n",
    "    if cond in 'Nn':\n",
    "        break\n",
    "print('-='*30)\n",
    "print(registo)\n",
    "print('-='*30)\n",
    "print(f'A) Ao todo temos {len(registo)} pessoas cadastradas')\n",
    "avg = s/len(registo)\n",
    "print(f'B) A média de idade é de {avg:5.2f} anos')\n",
    "print(f'C) As mulheres cadastradas foram ', end='')\n",
    "for p in registo:\n",
    "    if p['sexo'] == 'F':\n",
    "            print(f'{p[\"nome\"]}', end='')\n",
    "print()\n",
    "print(f'D) Lista das pessoas que estão acima da média: ')\n",
    "for p in registo:\n",
    "    if p['idade'] >= avg:\n",
    "        print('   ')\n",
    "        for k, v in p.items():\n",
    "            print(f'{k} = {v}; ',end='')\n",
    "        print()\n",
    "print('<< ENCERRADO >>')"
   ]
  },
  {
   "cell_type": "code",
   "execution_count": 62,
   "id": "2b380041",
   "metadata": {
    "ExecuteTime": {
     "end_time": "2021-06-03T11:40:12.761364Z",
     "start_time": "2021-06-03T11:38:56.011155Z"
    }
   },
   "outputs": [
    {
     "name": "stdout",
     "output_type": "stream",
     "text": [
      "Nome do jogador: Helio\n",
      "Quantas partidas Helio jogou? 2\n",
      "Quantos golos na partida 1? 1\n",
      "Quantos golos na partida 2? 2\n",
      "Quer continuar? [S/N] s\n",
      "Nome do jogador: Iago\n",
      "Quantas partidas Iago jogou? 3\n",
      "Quantos golos na partida 1? 1\n",
      "Quantos golos na partida 2? 2\n",
      "Quantos golos na partida 3? 3\n",
      "Quer continuar? [S/N] s\n",
      "Nome do jogador: Ronaldo\n",
      "Quantas partidas Ronaldo jogou? 4\n",
      "Quantos golos na partida 1? 0\n",
      "Quantos golos na partida 2? 0\n",
      "Quantos golos na partida 3? 2\n",
      "Quantos golos na partida 4? 1\n",
      "Quer continuar? [S/N] s\n",
      "Nome do jogador: Osvaldo\n",
      "Quantas partidas Osvaldo jogou? 1\n",
      "Quantos golos na partida 1? 3\n",
      "Quer continuar? [S/N] n\n",
      "-=-=-=-=-=-=-=-=-=-=-=-=-=-=-=-=-=-=-=-=-=-=-=-=-=-=-=-=-=-=\n",
      "cod nome           golos          total          \n",
      "========================================\n",
      "  0 Helio          [1, 2]         3              \n",
      "  1 Iago           [1, 2, 3]      6              \n",
      "  2 Ronaldo        [0, 0, 2, 1]   3              \n",
      "  3 Osvaldo        [3]            3              \n",
      "----------------------------------------\n",
      "Mostrar dados de qual jogador? (999 para parar) 5\n",
      "ERRO! Não existe jogador com código 5\n",
      "----------------------------------------\n",
      "Mostrar dados de qual jogador? (999 para parar) 1\n",
      "-- LEVANTAMENTO DO JOGADOR Iago:\n",
      "   No jogo 1 fez 1 golos.\n",
      "   No jogo 2 fez 2 golos.\n",
      "   No jogo 3 fez 3 golos.\n",
      "----------------------------------------\n",
      "Mostrar dados de qual jogador? (999 para parar) 3\n",
      "-- LEVANTAMENTO DO JOGADOR Osvaldo:\n",
      "   No jogo 1 fez 3 golos.\n",
      "----------------------------------------\n",
      "Mostrar dados de qual jogador? (999 para parar) 2\n",
      "-- LEVANTAMENTO DO JOGADOR Ronaldo:\n",
      "   No jogo 1 fez 0 golos.\n",
      "   No jogo 2 fez 0 golos.\n",
      "   No jogo 3 fez 2 golos.\n",
      "   No jogo 4 fez 1 golos.\n",
      "----------------------------------------\n",
      "Mostrar dados de qual jogador? (999 para parar) 999\n",
      "<< VOLTE SEMPRE >>\n"
     ]
    }
   ],
   "source": [
    "# 95. Aprimore o DESAFIO 093 para que ele funcione com vários jogadores, incluindo um \n",
    "## sistema de visualização de detalhes do aproveitamento de cada jogador.\n",
    "\n",
    "team = []\n",
    "registo = {}\n",
    "golos = []\n",
    "while True:\n",
    "    registo.clear()\n",
    "    golos.clear()\n",
    "    registo['nome'] = str(input('Nome do jogador: '))\n",
    "    n = int(input(f'Quantas partidas {registo[\"nome\"]} jogou? '))\n",
    "    for c in range (0, n):\n",
    "        golos.append(int(input(f'Quantos golos na partida {c+1}? ')))\n",
    "    registo['golos'] = golos[:]\n",
    "    registo['total'] = sum(golos)\n",
    "    team.append(registo.copy())\n",
    "    while True:\n",
    "        cond = str(input('Quer continuar? [S/N] ')).upper()[0]\n",
    "        if cond not in ('sSNn'):\n",
    "            print('ERRO! Digite apenas S ou N')\n",
    "        else:\n",
    "            break \n",
    "    if cond in 'nN':\n",
    "        break\n",
    "print('-='*30)\n",
    "print('cod ', end='')\n",
    "for i in registo.keys():\n",
    "    print(f'{i:<15}', end='')\n",
    "print()\n",
    "print('='*40)\n",
    "for k, v in enumerate(team):\n",
    "    print(f'{k:>3}', end=' ')\n",
    "    for d in v.values():\n",
    "        print(f'{str(d):<15}', end='')\n",
    "    print()\n",
    "print('-'*40)\n",
    "while True:\n",
    "    busca = int(input('Mostrar dados de qual jogador? (999 para parar) '))\n",
    "    if busca == 999:\n",
    "        break\n",
    "    if busca >= len(team):\n",
    "        print(f'ERRO! Não existe jogador com código {busca}')\n",
    "    else:\n",
    "        print(f'-- LEVANTAMENTO DO JOGADOR {team[busca][\"nome\"]}:')\n",
    "        for i, g in enumerate(team[busca]['golos']):\n",
    "            print(f'   No jogo {i+1} fez {g} golos.')\n",
    "    print('-'*40)\n",
    "print('<< VOLTE SEMPRE >>')\n"
   ]
  }
 ],
 "metadata": {
  "kernelspec": {
   "display_name": "Python 3",
   "language": "python",
   "name": "python3"
  },
  "language_info": {
   "codemirror_mode": {
    "name": "ipython",
    "version": 3
   },
   "file_extension": ".py",
   "mimetype": "text/x-python",
   "name": "python",
   "nbconvert_exporter": "python",
   "pygments_lexer": "ipython3",
   "version": "3.8.10"
  },
  "varInspector": {
   "cols": {
    "lenName": 16,
    "lenType": 16,
    "lenVar": 40
   },
   "kernels_config": {
    "python": {
     "delete_cmd_postfix": "",
     "delete_cmd_prefix": "del ",
     "library": "var_list.py",
     "varRefreshCmd": "print(var_dic_list())"
    },
    "r": {
     "delete_cmd_postfix": ") ",
     "delete_cmd_prefix": "rm(",
     "library": "var_list.r",
     "varRefreshCmd": "cat(var_dic_list()) "
    }
   },
   "types_to_exclude": [
    "module",
    "function",
    "builtin_function_or_method",
    "instance",
    "_Feature"
   ],
   "window_display": false
  }
 },
 "nbformat": 4,
 "nbformat_minor": 5
}
