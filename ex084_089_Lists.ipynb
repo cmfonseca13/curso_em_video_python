{
 "cells": [
  {
   "cell_type": "code",
   "execution_count": 5,
   "id": "ae0ac434",
   "metadata": {
    "ExecuteTime": {
     "end_time": "2021-05-31T21:12:05.549733Z",
     "start_time": "2021-05-31T21:12:05.538732Z"
    }
   },
   "outputs": [
    {
     "name": "stdout",
     "output_type": "stream",
     "text": [
      "[['Gustavo', 40]]\n"
     ]
    }
   ],
   "source": [
    "teste = list()\n",
    "teste.append('Gustavo')\n",
    "teste.append(40)\n",
    "galera = list()\n",
    "galera.append(teste)\n",
    "print(galera)"
   ]
  },
  {
   "cell_type": "code",
   "execution_count": 6,
   "id": "96d6f2ea",
   "metadata": {
    "ExecuteTime": {
     "end_time": "2021-05-31T21:12:07.390018Z",
     "start_time": "2021-05-31T21:12:07.380510Z"
    }
   },
   "outputs": [
    {
     "name": "stdout",
     "output_type": "stream",
     "text": [
      "[['Maria', 22], ['Maria', 22]]\n"
     ]
    }
   ],
   "source": [
    "teste = list()\n",
    "teste.append('Gustavo')\n",
    "teste.append(40)\n",
    "galera = list()\n",
    "galera.append(teste)\n",
    "teste[0] = 'Maria'\n",
    "teste[1] = 22\n",
    "galera.append(teste) #As duas listas ficam ligadas e mudando em uma, muda na outra automaticamente\n",
    "print(galera)"
   ]
  },
  {
   "cell_type": "code",
   "execution_count": 7,
   "id": "4ce403aa",
   "metadata": {
    "ExecuteTime": {
     "end_time": "2021-05-31T21:12:23.742666Z",
     "start_time": "2021-05-31T21:12:23.730661Z"
    }
   },
   "outputs": [
    {
     "name": "stdout",
     "output_type": "stream",
     "text": [
      "[['Gustavo', 40], ['Maria', 22]]\n"
     ]
    }
   ],
   "source": [
    "teste = list()\n",
    "teste.append('Gustavo')\n",
    "teste.append(40)\n",
    "galera = list()\n",
    "galera.append(teste[:]) #Aqui é feita uma cópia dos elementos da lista teste.\n",
    "teste[0] = 'Maria'     ## As duas listas não ficam\n",
    "teste[1] = 22          ## Então não há alteração em na galera, quando se altera teste\n",
    "galera.append(teste[:])\n",
    "print(galera)"
   ]
  },
  {
   "cell_type": "code",
   "execution_count": 9,
   "id": "50360801",
   "metadata": {
    "ExecuteTime": {
     "end_time": "2021-05-31T21:25:19.939439Z",
     "start_time": "2021-05-31T21:25:19.932433Z"
    }
   },
   "outputs": [
    {
     "name": "stdout",
     "output_type": "stream",
     "text": [
      "['João', 19]\n"
     ]
    }
   ],
   "source": [
    "galera = [['João', 19], ['Ana', 33], ['Joaquim', 13], ['Maria', 45]]\n",
    "\n",
    "print(galera[0])\n"
   ]
  },
  {
   "cell_type": "code",
   "execution_count": 11,
   "id": "1d90f958",
   "metadata": {
    "ExecuteTime": {
     "end_time": "2021-05-31T21:25:37.933803Z",
     "start_time": "2021-05-31T21:25:37.928798Z"
    }
   },
   "outputs": [
    {
     "name": "stdout",
     "output_type": "stream",
     "text": [
      "João\n"
     ]
    }
   ],
   "source": [
    "galera = [['João', 19], ['Ana', 33], ['Joaquim', 13], ['Maria', 45]]\n",
    "\n",
    "print(galera[0][0])\n"
   ]
  },
  {
   "cell_type": "code",
   "execution_count": 12,
   "id": "fd2dffc2",
   "metadata": {
    "ExecuteTime": {
     "end_time": "2021-05-31T21:25:45.893526Z",
     "start_time": "2021-05-31T21:25:45.882517Z"
    }
   },
   "outputs": [
    {
     "name": "stdout",
     "output_type": "stream",
     "text": [
      "13\n"
     ]
    }
   ],
   "source": [
    "galera = [['João', 19], ['Ana', 33], ['Joaquim', 13], ['Maria', 45]]\n",
    "\n",
    "print(galera[2][1])\n"
   ]
  },
  {
   "cell_type": "code",
   "execution_count": 13,
   "id": "218f0083",
   "metadata": {
    "ExecuteTime": {
     "end_time": "2021-05-31T21:26:37.282655Z",
     "start_time": "2021-05-31T21:26:37.274648Z"
    }
   },
   "outputs": [
    {
     "name": "stdout",
     "output_type": "stream",
     "text": [
      "['João', 19]\n",
      "['Ana', 33]\n",
      "['Joaquim', 13]\n",
      "['Maria', 45]\n"
     ]
    }
   ],
   "source": [
    "galera = [['João', 19], ['Ana', 33], ['Joaquim', 13], ['Maria', 45]]\n",
    "for p in galera:\n",
    "    print(p)\n"
   ]
  },
  {
   "cell_type": "code",
   "execution_count": 14,
   "id": "e6f9b2ed",
   "metadata": {
    "ExecuteTime": {
     "end_time": "2021-05-31T21:26:58.744424Z",
     "start_time": "2021-05-31T21:26:58.728812Z"
    }
   },
   "outputs": [
    {
     "name": "stdout",
     "output_type": "stream",
     "text": [
      "João\n",
      "Ana\n",
      "Joaquim\n",
      "Maria\n"
     ]
    }
   ],
   "source": [
    "galera = [['João', 19], ['Ana', 33], ['Joaquim', 13], ['Maria', 45]]\n",
    "for p in galera:\n",
    "    print(p[0])\n"
   ]
  },
  {
   "cell_type": "code",
   "execution_count": 15,
   "id": "60cc5053",
   "metadata": {
    "ExecuteTime": {
     "end_time": "2021-05-31T21:27:05.615520Z",
     "start_time": "2021-05-31T21:27:05.607013Z"
    }
   },
   "outputs": [
    {
     "name": "stdout",
     "output_type": "stream",
     "text": [
      "19\n",
      "33\n",
      "13\n",
      "45\n"
     ]
    }
   ],
   "source": [
    "galera = [['João', 19], ['Ana', 33], ['Joaquim', 13], ['Maria', 45]]\n",
    "for p in galera:\n",
    "    print(p[1])\n"
   ]
  },
  {
   "cell_type": "code",
   "execution_count": 16,
   "id": "4b82a9de",
   "metadata": {
    "ExecuteTime": {
     "end_time": "2021-05-31T21:27:51.189112Z",
     "start_time": "2021-05-31T21:27:51.183607Z"
    }
   },
   "outputs": [
    {
     "name": "stdout",
     "output_type": "stream",
     "text": [
      "João tem 19 anos de idade.\n",
      "Ana tem 33 anos de idade.\n",
      "Joaquim tem 13 anos de idade.\n",
      "Maria tem 45 anos de idade.\n"
     ]
    }
   ],
   "source": [
    "galera = [['João', 19], ['Ana', 33], ['Joaquim', 13], ['Maria', 45]]\n",
    "for p in galera:\n",
    "    print(f'{p[0]} tem {p[1]} anos de idade.')\n"
   ]
  },
  {
   "cell_type": "code",
   "execution_count": 18,
   "id": "0c6f508b",
   "metadata": {
    "ExecuteTime": {
     "end_time": "2021-05-31T21:31:42.108307Z",
     "start_time": "2021-05-31T21:31:31.669429Z"
    }
   },
   "outputs": [
    {
     "name": "stdout",
     "output_type": "stream",
     "text": [
      "Nome: Pedro\n",
      "Idade: 22\n",
      "Nome: Maria\n",
      "Idade: 33\n",
      "Nome: Claudia\n",
      "Idade: 55\n",
      "[['Pedro', 22], ['Maria', 33], ['Claudia', 55]]\n"
     ]
    }
   ],
   "source": [
    "galera = list()\n",
    "dado = list()\n",
    "for c in range (0,3):\n",
    "    dado.append(str(input('Nome: ')))\n",
    "    dado.append(int(input('Idade: ')))\n",
    "    galera.append(dado[:])\n",
    "    dado.clear()\n",
    "print(galera)"
   ]
  },
  {
   "cell_type": "code",
   "execution_count": 20,
   "id": "bb5cce5a",
   "metadata": {
    "ExecuteTime": {
     "end_time": "2021-05-31T21:35:40.660559Z",
     "start_time": "2021-05-31T21:35:27.015767Z"
    }
   },
   "outputs": [
    {
     "name": "stdout",
     "output_type": "stream",
     "text": [
      "Nome: Cleiton\n",
      "Idade: 23\n",
      "Nome: Eliane\n",
      "Idade: 11\n",
      "Nome: Caio\n",
      "Idade: 35\n",
      "Cleiton é maior de idade.\n",
      "Eliane é menor de idade.\n",
      "Caio é maior de idade.\n",
      "Temos 2 maiores e 1 menores de idade\n"
     ]
    }
   ],
   "source": [
    "galera = list()\n",
    "dado = list()\n",
    "totmai = totmen = 0\n",
    "for c in range (0,3):\n",
    "    dado.append(str(input('Nome: ')))\n",
    "    dado.append(int(input('Idade: ')))\n",
    "    galera.append(dado[:])\n",
    "    dado.clear()\n",
    "for p in galera:\n",
    "    if p[1] >= 21:\n",
    "        print(f'{p[0]} é maior de idade.')\n",
    "        totmai += 1\n",
    "    else:\n",
    "        print(f'{p[0]} é menor de idade.')\n",
    "        totmen += 1\n",
    "print(f'Temos {totmai} maiores e {totmen} menores de idade')"
   ]
  },
  {
   "cell_type": "markdown",
   "id": "83f89cae",
   "metadata": {},
   "source": [
    "# Desafios"
   ]
  },
  {
   "cell_type": "code",
   "execution_count": 8,
   "id": "5a22d0fe",
   "metadata": {
    "ExecuteTime": {
     "end_time": "2021-06-01T14:27:25.729294Z",
     "start_time": "2021-06-01T14:26:38.759398Z"
    }
   },
   "outputs": [
    {
     "name": "stdout",
     "output_type": "stream",
     "text": [
      "Nome: Mario\n",
      "Peso: 90\n",
      "Quer continuar? [S/N] s\n",
      "Nome: Ana\n",
      "Peso: 75\n",
      "Quer continuar? [S/N] s\n",
      "Nome: Pedro\n",
      "Peso: 80\n",
      "Quer continuar? [S/N] s\n",
      "Nome: Maria\n",
      "Peso: 90\n",
      "Quer continuar? [S/N] s\n",
      "Nome: Clara\n",
      "Peso: 75\n",
      "Quer continuar? [S/N] n\n",
      "-=-=-=-=-=-=-=-=-=-=-=-=-=-=-=-=-=-=-=-=-=-=-=-=-=-=-=-=-=-=\n",
      "Ao todo, você cadastrou 5 pessoas.\n",
      "O maior peso foi de 90.0Kg. Peso de [Mario] [Maria] \n",
      "O menor peso foi de 75.0Kg. Peso de [Ana] [Clara] "
     ]
    }
   ],
   "source": [
    "# 84. Faça um programa que leia nome e peso de várias pessoas, guardando tudo em uma lista.\n",
    "## No final, mostre:\n",
    "## a) Quantas pessoas foram cadastradas.\n",
    "## b) Uma listagem com as pessoas mais pesadas.\n",
    "## c) Uma listagem com as pessoas mais leves.\n",
    "\n",
    "pessoas = []\n",
    "peso = []\n",
    "dados =[]\n",
    "cond = ' '\n",
    "while True:\n",
    "    dados.append(str(input('Nome: ')))\n",
    "    dados.append(float(input('Peso: ')))\n",
    "    pessoas.append(dados[:])\n",
    "    peso.append(dados[1])\n",
    "    dados.clear()\n",
    "    cond = str(input('Quer continuar? [S/N] '))\n",
    "    if cond in 'nN':\n",
    "        break\n",
    "print('-='*30)\n",
    "print(f'Ao todo, você cadastrou {len(pessoas)} pessoas.')\n",
    "pesada = max(peso)\n",
    "print(f'O maior peso foi de {pesada:.1f}Kg. Peso de ', end='')\n",
    "for p in pessoas:\n",
    "    if p[1] == pesada:\n",
    "        print(f'[{p[0]}] ', end='')\n",
    "leve = min(peso)\n",
    "print(f'\\nO menor peso foi de {leve:.1f}Kg. Peso de ', end='')\n",
    "for p in pessoas:\n",
    "    if p[1] == leve:\n",
    "        print(f'[{p[0]}] ', end='')"
   ]
  },
  {
   "cell_type": "code",
   "execution_count": 15,
   "id": "7ba2ac0d",
   "metadata": {
    "ExecuteTime": {
     "end_time": "2021-06-01T14:42:01.844057Z",
     "start_time": "2021-06-01T14:41:54.764457Z"
    }
   },
   "outputs": [
    {
     "name": "stdout",
     "output_type": "stream",
     "text": [
      "Digite o 1o. valor: 9\n",
      "Digite o 2o. valor: 1\n",
      "Digite o 3o. valor: 5\n",
      "Digite o 4o. valor: 6\n",
      "Digite o 5o. valor: 8\n",
      "Digite o 6o. valor: 3\n",
      "Digite o 7o. valor: 2\n",
      "-=-=-=-=-=-=-=-=-=-=-=-=-=-=-=-=-=-=-=-=-=-=-=-=-=-=-=-=-=-=\n",
      "Os valores pares digitados foram: [6, 8, 2]\n",
      "Os valores ímpares digitados foram: [9, 1, 5, 3]\n"
     ]
    }
   ],
   "source": [
    "# 85. Crie um programa onde o usuário possa digitar sete valores numéricos e cadastre-os em uma lista única \n",
    "## que mantenha separados os valores pares e impares.\n",
    "## No final, mostre os valores pares e impares em ordem crescente.\n",
    "\n",
    "num = [[], []]\n",
    "valor = 0\n",
    "for c in range (1, 8):\n",
    "    valor = int(input(f'Digite o {c}o. valor: '))\n",
    "    if valor%2 == 0:\n",
    "        num[0].append(valor)\n",
    "    else:\n",
    "        num[1].append(valor)\n",
    "print('-='*30)\n",
    "num[0].sort()\n",
    "num[1].sort()\n",
    "print(f'Os valores pares digitados foram: {num[0]}')\n",
    "print(f'Os valores ímpares digitados foram: {num[1]}')\n"
   ]
  },
  {
   "cell_type": "code",
   "execution_count": 30,
   "id": "c3fc82b7",
   "metadata": {
    "ExecuteTime": {
     "end_time": "2021-06-01T15:00:37.276557Z",
     "start_time": "2021-06-01T15:00:22.974911Z"
    }
   },
   "outputs": [
    {
     "name": "stdout",
     "output_type": "stream",
     "text": [
      "Digite um valor para [0, 0]: 123\n",
      "Digite um valor para [0, 1]: 111\n",
      "Digite um valor para [0, 2]: 32\n",
      "Digite um valor para [1, 0]: 6\n",
      "Digite um valor para [1, 1]: 0\n",
      "Digite um valor para [1, 2]: 999\n",
      "Digite um valor para [2, 0]: 1234\n",
      "Digite um valor para [2, 1]: 40\n",
      "Digite um valor para [2, 2]: 1\n",
      "-=-=-=-=-=-=-=-=-=-=-=-=-=-=-=-=-=-=-=-=-=-=-=-=-=-=-=-=-=-=\n",
      "[ 123 ][ 111 ][ 32  ]\n",
      "[  6  ][  0  ][ 999 ]\n",
      "[1234 ][ 40  ][  1  ]\n"
     ]
    }
   ],
   "source": [
    "# 86. Crie um programa que crie uma matriz de dimensão 3x3 e preencha com valores lidos pelo teclado.\n",
    "## No final, mostre a matriz na tela com a formatação correta.\n",
    "\n",
    "matrix =[[0, 0, 0], [0, 0, 0], [0, 0, 0]]\n",
    "for l in range (0, 3):\n",
    "    for c in range(0, 3):\n",
    "        matrix[l][c] = int(input(f'Digite um valor para [{l}, {c}]: '))\n",
    "print('-='*30)\n",
    "for l in range (0,3):\n",
    "    for c in range (0,3):\n",
    "        print(f'[{matrix[l][c]:^5}]', end='')\n",
    "    print()\n"
   ]
  },
  {
   "cell_type": "code",
   "execution_count": 45,
   "id": "da12a0bc",
   "metadata": {
    "ExecuteTime": {
     "end_time": "2021-06-01T15:23:01.528001Z",
     "start_time": "2021-06-01T15:22:52.541770Z"
    },
    "code_folding": []
   },
   "outputs": [
    {
     "name": "stdout",
     "output_type": "stream",
     "text": [
      "Digite um valor para [(0, 0)]: 3\n",
      "Digite um valor para [(0, 1)]: 2\n",
      "Digite um valor para [(0, 2)]: 6\n",
      "Digite um valor para [(1, 0)]: 5\n",
      "Digite um valor para [(1, 1)]: 1\n",
      "Digite um valor para [(1, 2)]: 9\n",
      "Digite um valor para [(2, 0)]: 7\n",
      "Digite um valor para [(2, 1)]: 4\n",
      "Digite um valor para [(2, 2)]: 2\n",
      "-=-=-=-=-=-=-=-=-=-=-=-=-=-=-=-=-=-=-=-=-=-=-=-=-=-=-=-=-=-=\n",
      "[  3  ][  2  ][  6  ]\n",
      "[  5  ][  1  ][  9  ]\n",
      "[  7  ][  4  ][  2  ]\n",
      "-=-=-=-=-=-=-=-=-=-=-=-=-=-=-=-=-=-=-=-=-=-=-=-=-=-=-=-=-=-=\n",
      "A soma dos valores pares é 14\n",
      "A soma dos valores da terceira coluna é 17\n",
      "O maior valor da segunda linha é 9\n"
     ]
    }
   ],
   "source": [
    "# 87. Aprimore o desafio anterior, mostrando no final:\n",
    "## a) A soma de todos os valores pares digitados\n",
    "## b) a soma dos valores da terceira coluna\n",
    "## c) O maior valor da segunda linha\n",
    "\n",
    "matrix = [[0, 0, 0], [0, 0, 0], [0, 0, 0]]\n",
    "sum_v = sum_col = 0\n",
    "for l in range (0, 3):\n",
    "    for c in range (0,3):\n",
    "        v = matrix[l][c] = int(input(f'Digite um valor para [{l, c}]: '))\n",
    "print('-='*30)\n",
    "for l in range (0,3):\n",
    "    for c in range (0,3):\n",
    "        print(f'[{matrix[l][c]:^5}]', end='')\n",
    "        if matrix[l][c] % 2 == 0:\n",
    "            sum_v += matrix[l][c]\n",
    "        if c == 2:\n",
    "            sum_col += matrix[l][c]\n",
    "    print()\n",
    "print('-='*30)\n",
    "print(f'A soma dos valores pares é {sum_v}.')\n",
    "print(f'A soma dos valores da terceira coluna é {sum_col}.')\n",
    "maior = max(matrix[1])\n",
    "print(f'O maior valor da segunda linha é {maior}.')"
   ]
  },
  {
   "cell_type": "code",
   "execution_count": 60,
   "id": "8bf39f18",
   "metadata": {
    "ExecuteTime": {
     "end_time": "2021-06-01T15:46:50.393158Z",
     "start_time": "2021-06-01T15:46:47.423980Z"
    },
    "scrolled": true
   },
   "outputs": [
    {
     "name": "stdout",
     "output_type": "stream",
     "text": [
      "==============================\n",
      "      JOGA NA MEGA SENA       \n",
      "==============================\n",
      "Quantos jogos você quer que eu sorteie? 2\n",
      "-=-=-=  SORTEANDO 2 JOGOS  -=-=-=\n",
      "Jogo 1: [7, 17, 43, 55, 56, 58]\n",
      "Jogo 2: [11, 27, 29, 31, 50, 52]\n",
      "-=-=-=-=-= < BOA SORTE! > -=-=-=-=-=\n"
     ]
    }
   ],
   "source": [
    "# 88. Faça um programa que ajude um jogador da MegaSena a criar palpites. O programa vai perguntar quantos jogos\n",
    "## serão gerados e vai sortear 6 números entre 1 e 60 para cada jogo, cadastrando tudo em uma lista composta.\n",
    "## Os números não se podem repetir dentro do mesmo palpite!\n",
    "\n",
    "from time import sleep\n",
    "from random import randint\n",
    "\n",
    "aposta = []\n",
    "print('='*30)\n",
    "print(f'{\"JOGA NA MEGA SENA\":^30}')\n",
    "print('='*30)\n",
    "\n",
    "n = int(input('Quantos jogos você quer que eu sorteie? '))\n",
    "\n",
    "print('-='*3, end='')\n",
    "print(f'  SORTEANDO {n} JOGOS  ', end='')\n",
    "print('-='*3)\n",
    "\n",
    "for c in range (1, n+1):\n",
    "    for a in range (0, 6):\n",
    "        valor = randint(1, 60)\n",
    "        if valor not in aposta:\n",
    "            aposta.append(valor)\n",
    "        elif valor in aposta:\n",
    "            while valor in aposta:\n",
    "                valor = randint(1, 60)\n",
    "                if valor not in aposta:\n",
    "                    aposta.append(valor)\n",
    "                    break\n",
    "    aposta.sort()\n",
    "    print(f'Jogo {c}: {aposta}')\n",
    "    aposta.clear()\n",
    "    sleep(1)\n",
    "print('-='*5, end='')\n",
    "print(' < BOA SORTE! > ', end='')\n",
    "print('-='*5)"
   ]
  },
  {
   "cell_type": "code",
   "execution_count": 64,
   "id": "5c32c023",
   "metadata": {
    "ExecuteTime": {
     "end_time": "2021-06-01T15:56:18.802150Z",
     "start_time": "2021-06-01T15:56:13.203340Z"
    }
   },
   "outputs": [
    {
     "name": "stdout",
     "output_type": "stream",
     "text": [
      "==============================\n",
      "      JOGA NA MEGA SENA       \n",
      "==============================\n",
      "Quantos jogos você quer que eu sorteie? 5\n",
      "-=-=-=  SORTEANDO 5 JOGOS  -=-=-=\n",
      "Jogo 1: [3, 14, 32, 33, 38, 39]\n",
      "Jogo 2: [7, 21, 39, 42, 47, 53]\n",
      "Jogo 3: [18, 20, 31, 41, 51, 54]\n",
      "Jogo 4: [6, 8, 13, 35, 38, 59]\n",
      "Jogo 5: [10, 22, 23, 36, 38, 60]\n",
      "-=-=-=-=-= < BOA SORTE! > -=-=-=-=-=\n"
     ]
    }
   ],
   "source": [
    "from time import sleep\n",
    "from random import randint\n",
    "\n",
    "aposta = []\n",
    "jogos = []\n",
    "print('='*30)\n",
    "print(f'{\"JOGA NA MEGA SENA\":^30}')\n",
    "print('='*30)\n",
    "\n",
    "n = int(input('Quantos jogos você quer que eu sorteie? '))\n",
    "tot = 1\n",
    "print('-='*3, end='')\n",
    "print(f'  SORTEANDO {n} JOGOS  ', end='')\n",
    "print('-='*3)\n",
    "\n",
    "while tot <= n:\n",
    "    cont = 0\n",
    "    while True:\n",
    "        valor = randint(1, 60)\n",
    "        if valor not in aposta:\n",
    "            aposta.append(valor)\n",
    "            cont += 1\n",
    "        if cont >=6:\n",
    "            break\n",
    "    aposta.sort()\n",
    "    jogos.append(aposta[:])\n",
    "    aposta.clear()\n",
    "    tot +=1\n",
    "for i, l in enumerate(jogos):\n",
    "    print(f'Jogo {i+1}: {l}')\n",
    "    sleep (1)\n",
    "print('-='*5, end='')\n",
    "print(' < BOA SORTE! > ', end='')\n",
    "print('-='*5)"
   ]
  },
  {
   "cell_type": "code",
   "execution_count": 99,
   "id": "f146ffc2",
   "metadata": {
    "ExecuteTime": {
     "end_time": "2021-06-01T17:46:19.116363Z",
     "start_time": "2021-06-01T17:45:15.153958Z"
    }
   },
   "outputs": [
    {
     "name": "stdout",
     "output_type": "stream",
     "text": [
      "Nome: Ana\n",
      "Nota 1: 10\n",
      "Nota 2: 9.5\n",
      "Quer continuar? [S/N] s\n",
      "Nome: Gustavo\n",
      "Nota 1: 2.5\n",
      "Nota 2: 4\n",
      "Quer continuar? [S/N] s\n",
      "Nome: Pedro\n",
      "Nota 1: 5.5\n",
      "Nota 2: 8\n",
      "Quer continuar? [S/N] s\n",
      "Nome: João\n",
      "Nota 1: 8\n",
      "Nota 2: 3\n",
      "Quer continuar? [S/N] n\n",
      "-=-=-=-=-=-=-=-=-=-=-=-=-=-=-=-=-=-=-=-=-=-=-=-=-=-=-=-=-=-=\n",
      "No. NOME          MÉDIA\n",
      "==========================\n",
      "0   Ana            9.8\n",
      "1   Gustavo        3.2\n",
      "2   Pedro          6.8\n",
      "3   João           5.5\n",
      "Mostrar notas de qual aluno? (999 interrompe): 0\n",
      "Notas de Ana são [10.0, 9.5]\n",
      "Mostrar notas de qual aluno? (999 interrompe): 1\n",
      "Notas de Gustavo são [2.5, 4.0]\n",
      "Mostrar notas de qual aluno? (999 interrompe): 3\n",
      "Notas de João são [8.0, 3.0]\n",
      "Mostrar notas de qual aluno? (999 interrompe): 999\n",
      "FINALIZANDO...\n",
      "<<<< VOLTE SEMPRE >>>>\n"
     ]
    }
   ],
   "source": [
    "# 89. Crie um programa que leia nome e duas notas de vários alunos e guarde tudo em uma lista composta.\n",
    "## No final, mostre um boletim contendo a média de cada um e permita que o usuário possa mostrar as notas \n",
    "## de cada aluno individualmente.\n",
    "## lista com todos os elementos, uma lista em que o nome é o primeiro elemento\n",
    "## e as duas notas são o segundo elemento, ou seja, as duas notas também são uma terceira lista.\n",
    "\n",
    "registo = []\n",
    "\n",
    "while True:\n",
    "    nome = (str(input('Nome: ')))\n",
    "    n1 = (float(input('Nota 1: ')))\n",
    "    n2 = (float(input('Nota 2: ')))\n",
    "    avg = (n1+n2)/2\n",
    "    registo.append([nome, [n1, n2], avg])\n",
    "    cond = str(input('Quer continuar? [S/N] '))\n",
    "    if cond in 'nN':\n",
    "        break\n",
    "print('-='*30)\n",
    "print(f'{\"No.\":<4}{\"NOME\":<10}{\"MÉDIA\":>9}')\n",
    "print('='*26)\n",
    "for i, a in enumerate(registo):\n",
    "    print(f'{i:<4}{a[0]:<10}{a[2]:>8.1f}')\n",
    "while True:\n",
    "    opc = int(input('Mostrar notas de qual aluno? (999 interrompe): '))\n",
    "    if opc == 999:\n",
    "        print('FINALIZANDO...')\n",
    "        break\n",
    "    if opc <= len(registo)-1:\n",
    "        print(f'Notas de {registo[opc][0]} são {registo[opc][1]}')\n",
    "print('<<<< VOLTE SEMPRE >>>>')\n",
    "    \n"
   ]
  }
 ],
 "metadata": {
  "kernelspec": {
   "display_name": "Python 3",
   "language": "python",
   "name": "python3"
  },
  "language_info": {
   "codemirror_mode": {
    "name": "ipython",
    "version": 3
   },
   "file_extension": ".py",
   "mimetype": "text/x-python",
   "name": "python",
   "nbconvert_exporter": "python",
   "pygments_lexer": "ipython3",
   "version": "3.8.10"
  },
  "varInspector": {
   "cols": {
    "lenName": 16,
    "lenType": 16,
    "lenVar": 40
   },
   "kernels_config": {
    "python": {
     "delete_cmd_postfix": "",
     "delete_cmd_prefix": "del ",
     "library": "var_list.py",
     "varRefreshCmd": "print(var_dic_list())"
    },
    "r": {
     "delete_cmd_postfix": ") ",
     "delete_cmd_prefix": "rm(",
     "library": "var_list.r",
     "varRefreshCmd": "cat(var_dic_list()) "
    }
   },
   "types_to_exclude": [
    "module",
    "function",
    "builtin_function_or_method",
    "instance",
    "_Feature"
   ],
   "window_display": false
  }
 },
 "nbformat": 4,
 "nbformat_minor": 5
}
