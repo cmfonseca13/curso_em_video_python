{
 "cells": [
  {
   "cell_type": "code",
   "execution_count": 1,
   "id": "b2468f8e",
   "metadata": {
    "ExecuteTime": {
     "end_time": "2021-05-23T13:49:07.757063Z",
     "start_time": "2021-05-23T13:49:07.751057Z"
    }
   },
   "outputs": [
    {
     "name": "stdout",
     "output_type": "stream",
     "text": [
      "Oi\n",
      "Oi\n",
      "Oi\n",
      "Oi\n",
      "Oi\n",
      "FIM\n"
     ]
    }
   ],
   "source": [
    "for c in range (1, 6):\n",
    "    print('Oi')\n",
    "print('FIM')"
   ]
  },
  {
   "cell_type": "code",
   "execution_count": 2,
   "id": "3c9979f3",
   "metadata": {
    "ExecuteTime": {
     "end_time": "2021-05-23T13:50:03.231594Z",
     "start_time": "2021-05-23T13:50:03.223587Z"
    }
   },
   "outputs": [
    {
     "name": "stdout",
     "output_type": "stream",
     "text": [
      "Oi\n",
      "FIM\n",
      "Oi\n",
      "FIM\n",
      "Oi\n",
      "FIM\n",
      "Oi\n",
      "FIM\n",
      "Oi\n",
      "FIM\n",
      "Oi\n",
      "FIM\n"
     ]
    }
   ],
   "source": [
    "for c in range (0, 6):\n",
    "    print('Oi')\n",
    "    print('FIM')"
   ]
  },
  {
   "cell_type": "code",
   "execution_count": 7,
   "id": "a7cbc2a3",
   "metadata": {
    "ExecuteTime": {
     "end_time": "2021-05-23T13:50:49.997685Z",
     "start_time": "2021-05-23T13:50:49.991180Z"
    }
   },
   "outputs": [
    {
     "name": "stdout",
     "output_type": "stream",
     "text": [
      "1\n",
      "2\n",
      "3\n",
      "4\n",
      "5\n",
      "6\n",
      "FIM\n"
     ]
    }
   ],
   "source": [
    "for c in range (1, 7):\n",
    "    print(c)\n",
    "print('FIM')"
   ]
  },
  {
   "cell_type": "code",
   "execution_count": 28,
   "id": "ce371f64",
   "metadata": {
    "ExecuteTime": {
     "end_time": "2021-05-23T14:23:02.942407Z",
     "start_time": "2021-05-23T14:23:02.933400Z"
    }
   },
   "outputs": [
    {
     "name": "stdout",
     "output_type": "stream",
     "text": [
      "6\n",
      "5\n",
      "4\n",
      "3\n",
      "2\n",
      "1\n",
      "FIM\n"
     ]
    }
   ],
   "source": [
    "for c in range (6, 0, -1):\n",
    "    print(c)\n",
    "print('FIM')"
   ]
  },
  {
   "cell_type": "code",
   "execution_count": 9,
   "id": "de7ab3fe",
   "metadata": {
    "ExecuteTime": {
     "end_time": "2021-05-23T13:51:39.216082Z",
     "start_time": "2021-05-23T13:51:39.204240Z"
    }
   },
   "outputs": [
    {
     "name": "stdout",
     "output_type": "stream",
     "text": [
      "0\n",
      "2\n",
      "4\n",
      "6\n",
      "FIM\n"
     ]
    }
   ],
   "source": [
    "for c in range (0, 7, 2):\n",
    "    print(c)\n",
    "print('FIM')"
   ]
  },
  {
   "cell_type": "code",
   "execution_count": 11,
   "id": "bf4bd98d",
   "metadata": {
    "ExecuteTime": {
     "end_time": "2021-05-23T13:53:21.611766Z",
     "start_time": "2021-05-23T13:53:20.700055Z"
    }
   },
   "outputs": [
    {
     "name": "stdout",
     "output_type": "stream",
     "text": [
      "Digite um número: 5\n",
      "0\n",
      "1\n",
      "2\n",
      "3\n",
      "4\n",
      "5\n",
      "FIM\n"
     ]
    }
   ],
   "source": [
    "n = int(input('Digite um número: '))\n",
    "for c in range (0,n+1):\n",
    "    print(c)\n",
    "print('FIM')"
   ]
  },
  {
   "cell_type": "code",
   "execution_count": 14,
   "id": "73c9f0a7",
   "metadata": {
    "ExecuteTime": {
     "end_time": "2021-05-23T14:00:28.397298Z",
     "start_time": "2021-05-23T14:00:21.433301Z"
    }
   },
   "outputs": [
    {
     "name": "stdout",
     "output_type": "stream",
     "text": [
      "Início: 1\n",
      "Fim: 100\n",
      "Passo: 10\n",
      "1\n",
      "11\n",
      "21\n",
      "31\n",
      "41\n",
      "51\n",
      "61\n",
      "71\n",
      "81\n",
      "91\n",
      "FIM\n"
     ]
    }
   ],
   "source": [
    "i = int(input('Início: '))\n",
    "f = int(input('Fim: '))\n",
    "p = int(input('Passo: '))\n",
    "for c in range (i,f+1, p):\n",
    "    print(c)\n",
    "print('FIM')"
   ]
  },
  {
   "cell_type": "code",
   "execution_count": 16,
   "id": "e749eee9",
   "metadata": {
    "ExecuteTime": {
     "end_time": "2021-05-23T14:01:39.092448Z",
     "start_time": "2021-05-23T14:01:35.574718Z"
    }
   },
   "outputs": [
    {
     "name": "stdout",
     "output_type": "stream",
     "text": [
      "Digite um valor: 0\n",
      "Digite um valor: 1\n",
      "Digite um valor: 2\n",
      "Digite um valor: 5\n",
      "Digite um valor: 974\n",
      "FIM\n"
     ]
    }
   ],
   "source": [
    "for c in range (0, 5):\n",
    "    n = int(input('Digite um valor: '))\n",
    "print('FIM')"
   ]
  },
  {
   "cell_type": "code",
   "execution_count": 17,
   "id": "94779377",
   "metadata": {
    "ExecuteTime": {
     "end_time": "2021-05-23T14:03:14.830184Z",
     "start_time": "2021-05-23T14:03:09.711635Z"
    }
   },
   "outputs": [
    {
     "name": "stdout",
     "output_type": "stream",
     "text": [
      "Digite um valor: 4\n",
      "Digite um valor: 2\n",
      "Digite um valor: 3\n",
      "Digite um valor: 1\n",
      "O somatório de todos os valores foi 10\n"
     ]
    }
   ],
   "source": [
    "s = 0\n",
    "for c in range (0, 4):\n",
    "    n = int(input('Digite um valor: '))\n",
    "    s = s + n\n",
    "print(f'O somatório de todos os valores foi {s}')"
   ]
  },
  {
   "cell_type": "markdown",
   "id": "4a0e8eeb",
   "metadata": {},
   "source": [
    "# Desafios"
   ]
  },
  {
   "cell_type": "code",
   "execution_count": 31,
   "id": "5578ff26",
   "metadata": {
    "ExecuteTime": {
     "end_time": "2021-05-23T14:24:24.022422Z",
     "start_time": "2021-05-23T14:24:12.882198Z"
    }
   },
   "outputs": [
    {
     "name": "stdout",
     "output_type": "stream",
     "text": [
      "10\n",
      "9\n",
      "8\n",
      "7\n",
      "6\n",
      "5\n",
      "4\n",
      "3\n",
      "2\n",
      "1\n",
      "0\n"
     ]
    }
   ],
   "source": [
    "# 46. Faça um programa que mostre na tela uma contagem regressiva para o astouro de fogos de artifício, inde de 10 até 0, com uma pausa de 1 segundo entre eles.\n",
    "\n",
    "from time import sleep\n",
    "for c in range (10, -1, -1):\n",
    "    print(c)\n",
    "    sleep(1)\n",
    "print('FIM')"
   ]
  },
  {
   "cell_type": "code",
   "execution_count": 69,
   "id": "8a7474e4",
   "metadata": {
    "ExecuteTime": {
     "end_time": "2021-05-23T14:56:17.894469Z",
     "start_time": "2021-05-23T14:56:17.884961Z"
    }
   },
   "outputs": [
    {
     "name": "stdout",
     "output_type": "stream",
     "text": [
      "Os números pares entre 1 e 50:\n",
      "2 4 6 8 10 12 14 16 18 20 22 24 26 28 30 32 34 36 38 40 42 44 46 48 50 FIM\n"
     ]
    }
   ],
   "source": [
    "# 47. Crie um programa que mostre na tela todos os números pares que estão no intervalo de 1 a 50.\n",
    "\n",
    "print('Os números pares entre 1 e 50:')\n",
    "for c in range (2, 51, 2):\n",
    "    print(c, end = ' ')\n",
    "print('FIM')\n"
   ]
  },
  {
   "cell_type": "code",
   "execution_count": 72,
   "id": "cb5d7258",
   "metadata": {
    "ExecuteTime": {
     "end_time": "2021-05-23T15:07:28.774612Z",
     "start_time": "2021-05-23T15:07:28.759292Z"
    }
   },
   "outputs": [
    {
     "name": "stdout",
     "output_type": "stream",
     "text": [
      "O somatório de todos os 83 valores solicitados é 20667.\n"
     ]
    }
   ],
   "source": [
    "# 48. Faça um programa que calcule a soma entre todos os números ímpares que são múltiplos de três e que se encontram no intervalo de até 500.\n",
    "## Intervalo -> 0 a 500\n",
    "## Ímpares -> (1, 500, 2)\n",
    "## Múltiplos de 3 -> n%3 == 0\n",
    "## Soma\n",
    "\n",
    "s = 0\n",
    "count = 0\n",
    "for c in range (1, 500, 2):\n",
    "    if c%3 == 0:\n",
    "        count += 1\n",
    "        s += c\n",
    "print(f'O somatório de todos os {count} valores solicitados é {s}.')\n"
   ]
  },
  {
   "cell_type": "code",
   "execution_count": 73,
   "id": "7d8cd965",
   "metadata": {
    "ExecuteTime": {
     "end_time": "2021-05-23T15:09:46.077144Z",
     "start_time": "2021-05-23T15:09:43.260141Z"
    }
   },
   "outputs": [
    {
     "name": "stdout",
     "output_type": "stream",
     "text": [
      "Digite um número para ver sua a tabuada: 7\n",
      "7 x  1 = 7\n",
      "7 x  2 = 14\n",
      "7 x  3 = 21\n",
      "7 x  4 = 28\n",
      "7 x  5 = 35\n",
      "7 x  6 = 42\n",
      "7 x  7 = 49\n",
      "7 x  8 = 56\n",
      "7 x  9 = 63\n",
      "7 x 10 = 70\n"
     ]
    }
   ],
   "source": [
    "# 49. Refaça o desafio 009, mostrando a tabuada de um número que o usuário escolher, só que agora utilizando um laço for.\n",
    "\n",
    "n = int(input('Digite um número para ver sua a tabuada: '))\n",
    "for c in range (1, 11):\n",
    "    print('{} x {:2} = {}'.format(n, c, c*n))\n"
   ]
  },
  {
   "cell_type": "code",
   "execution_count": 78,
   "id": "c48b3d77",
   "metadata": {
    "ExecuteTime": {
     "end_time": "2021-05-23T15:15:18.801793Z",
     "start_time": "2021-05-23T15:15:11.827276Z"
    }
   },
   "outputs": [
    {
     "name": "stdout",
     "output_type": "stream",
     "text": [
      "Digite um número: 4\n",
      "Digite um número: 4\n",
      "Digite um número: 5\n",
      "Digite um número: 5\n",
      "Digite um número: 4\n",
      "Digite um número: 2\n",
      "Você informou 4 números pares e somatório desses números é: 14\n"
     ]
    }
   ],
   "source": [
    "# 50. Desenvolva um programa que leia seis números inteiros e mostre a soma apenas daqueles que forem pares.\n",
    "## Se o valor digitado for ímpar, desconsidere-o.\n",
    "s = 0\n",
    "count = 0\n",
    "for c in range (1 , 7):\n",
    "    n = int(input('Digite um número: '))\n",
    "    if n%2 == 0:\n",
    "        s += n\n",
    "        count += 1\n",
    "   \n",
    "print(f'Você informou {count} números pares e somatório desses números é: {s}')\n"
   ]
  },
  {
   "cell_type": "code",
   "execution_count": 125,
   "id": "28b44b4e",
   "metadata": {
    "ExecuteTime": {
     "end_time": "2021-05-23T17:13:48.331892Z",
     "start_time": "2021-05-23T17:13:42.416701Z"
    }
   },
   "outputs": [
    {
     "name": "stdout",
     "output_type": "stream",
     "text": [
      "Primeiro termo: 1\n",
      "Razão: 2\n",
      "1 -> 3 -> 5 -> 7 -> 9 -> 11 -> 13 -> 15 -> 17 -> 19 -> FIM\n"
     ]
    }
   ],
   "source": [
    "# 51. Desenvolva um programa que leia o primeiro termo e a razão de uma progressão aritmética.\n",
    "## No final, mostre os 10 primeiros termos dessa progressão.\n",
    "## an = an-1 + r\n",
    "\n",
    "first = int(input('Primeiro termo: '))\n",
    "ratio = int(input('Razão: '))\n",
    "for c in range (0, 10):\n",
    "    n = first + c*ratio\n",
    "    print(n, end=' -> ')\n",
    "print('FIM')\n",
    "\n"
   ]
  },
  {
   "cell_type": "code",
   "execution_count": 129,
   "id": "20b47804",
   "metadata": {
    "ExecuteTime": {
     "end_time": "2021-05-23T17:17:29.975374Z",
     "start_time": "2021-05-23T17:17:28.169527Z"
    }
   },
   "outputs": [
    {
     "name": "stdout",
     "output_type": "stream",
     "text": [
      "Primeiro termo: 25\n",
      "Razão: 5\n",
      "25 -> 30 -> 35 -> 40 -> 45 -> 50 -> 55 -> 60 -> 65 -> 70 -> FIM\n"
     ]
    }
   ],
   "source": [
    "# 51. Desenvolva um programa que leia o primeiro termo e a razão de uma progressão aritmética.\n",
    "## No final, mostre os 10 primeiros termos dessa progressão.\n",
    "## an = an-1 + r\n",
    "\n",
    "first = int(input('Primeiro termo: '))\n",
    "ratio = int(input('Razão: '))\n",
    "decimo = first + (10-1)* ratio\n",
    "for c in range (first, decimo + ratio, ratio):\n",
    "    print(f'{c}', end=' -> ')\n",
    "print('FIM')\n"
   ]
  },
  {
   "cell_type": "code",
   "execution_count": 135,
   "id": "8c8b6c05",
   "metadata": {
    "ExecuteTime": {
     "end_time": "2021-05-23T17:23:26.414231Z",
     "start_time": "2021-05-23T17:23:25.904473Z"
    }
   },
   "outputs": [
    {
     "name": "stdout",
     "output_type": "stream",
     "text": [
      "Digite um número: 4\n",
      "4 não é um número primo!\n"
     ]
    }
   ],
   "source": [
    "# 52. Faça um programa que leia um número inteiro e diga se ele é ou não é um número primo.\n",
    "\n",
    "n = int(input('Digite um número: '))\n",
    "tot = 0\n",
    "for c in range (1, n+1):\n",
    "    if n%c == 0:\n",
    "        tot += 1\n",
    "if tot == 2:\n",
    "        print(f'{n} é um número primo!')\n",
    "else:\n",
    "        print(f'{n} não é um número primo!')"
   ]
  },
  {
   "cell_type": "code",
   "execution_count": null,
   "id": "7838c740",
   "metadata": {},
   "outputs": [],
   "source": []
  },
  {
   "cell_type": "code",
   "execution_count": 138,
   "id": "04d4006b",
   "metadata": {
    "ExecuteTime": {
     "end_time": "2021-05-23T18:01:43.111736Z",
     "start_time": "2021-05-23T18:01:27.926103Z"
    }
   },
   "outputs": [
    {
     "name": "stdout",
     "output_type": "stream",
     "text": [
      "Digite uma frase: a sacada da casa\n",
      "Esta frase é um palíndromo!\n"
     ]
    }
   ],
   "source": [
    "# 53. Crie um programa que leia uma frase qualquer e diga se ela é um palíndromo, desconsiderando os espaços.\n",
    "## palíndromo = dá para ler detrás para a frente.\n",
    "\n",
    "frase = str(input('Digite uma frase: ')).strip().upper()\n",
    "palavras = frase.split()\n",
    "junto = ''.join(palavras)\n",
    "inverso = ''\n",
    "for letra in range (len(junto)-1, -1, -1):  #vai da última letra até à primeira, em sentido inverso\n",
    "    inverso += junto[letra] #cria a variável com o inverso da frase\n",
    "if inverso == junto:\n",
    "    print('Esta frase é um palíndromo!')\n",
    "else:\n",
    "    print('Esta frase não é um palíndromo!')\n"
   ]
  },
  {
   "cell_type": "code",
   "execution_count": 145,
   "id": "990f9057",
   "metadata": {
    "ExecuteTime": {
     "end_time": "2021-05-23T18:12:04.070780Z",
     "start_time": "2021-05-23T18:11:37.965671Z"
    }
   },
   "outputs": [
    {
     "name": "stdout",
     "output_type": "stream",
     "text": [
      "Em que ano a 1ª pessoa nasceu? 210\n",
      "Em que ano a 2ª pessoa nasceu? 1960\n",
      "Em que ano a 3ª pessoa nasceu? 2011\n",
      "Em que ano a 4ª pessoa nasceu? 1970\n",
      "Em que ano a 5ª pessoa nasceu? 2015\n",
      "Em que ano a 6ª pessoa nasceu? 1940\n",
      "Em que ano a 7ª pessoa nasceu? 2016\n",
      "3 pessoas do grupo ainda são menores, enquanto 4 já são maiores.\n"
     ]
    }
   ],
   "source": [
    "# 54. Crie um programa que leia o ano de nascimento de sete pessoas.\n",
    "## No final, mostre quantas pessoas ainda não atingiram a maioridade e quantas já são maiores.\n",
    "## Maioridade = 21 anos\n",
    "\n",
    "import datetime\n",
    "now = datetime.date.today().year\n",
    "count_maior = 0\n",
    "count_menor = 0\n",
    "for c in range (1, 8):\n",
    "    year = int(input(f'Em que ano a {c}ª pessoa nasceu? '))\n",
    "    age = now - year\n",
    "    if age >= 21:\n",
    "        count_maior += 1\n",
    "    else:\n",
    "        count_menor += 1\n",
    "print(f'{count_menor} pessoas do grupo ainda são menores, enquanto {count_maior} já são maiores.')"
   ]
  },
  {
   "cell_type": "code",
   "execution_count": 151,
   "id": "d76829f4",
   "metadata": {
    "ExecuteTime": {
     "end_time": "2021-05-23T19:34:53.315852Z",
     "start_time": "2021-05-23T19:34:10.582723Z"
    }
   },
   "outputs": [
    {
     "name": "stdout",
     "output_type": "stream",
     "text": [
      "Peso da 1ª pessoa: 80\n",
      "Peso da 2ª pessoa: 65.5\n",
      "Peso da 3ª pessoa: 45.9\n",
      "Peso da 4ª pessoa: 55\n",
      "Peso da 5ª pessoa: 110.5\n",
      "O maior peso lido foi de 110.50kg, enquanto que o menor foi 45.90kg.\n"
     ]
    }
   ],
   "source": [
    "# 55. Faça um programa que leia o peso de cinco pessoas.\n",
    "## No final, mostre qual foi o maior e o menor peso lido.\n",
    "\n",
    "mais_pesado = 0\n",
    "menos_pesado = 0\n",
    "for c in range (1, 6):\n",
    "    peso = float(input(f'Peso da {c}ª pessoa: '))\n",
    "    if c == 1:\n",
    "        mais_pesado = peso\n",
    "        menos_pesado = peso\n",
    "    else:\n",
    "        if peso > mais_pesado:\n",
    "            mais_pesado = peso\n",
    "        if peso < menos_pesado:\n",
    "            menos_pesado = peso\n",
    "\n",
    "print(f'O maior peso lido foi de {mais_pesado:.1f}kg, enquanto que o menor foi {menos_pesado:.1f}kg.')\n"
   ]
  },
  {
   "cell_type": "code",
   "execution_count": 164,
   "id": "e95d6a5c",
   "metadata": {
    "ExecuteTime": {
     "end_time": "2021-05-23T21:45:47.600500Z",
     "start_time": "2021-05-23T21:45:21.600744Z"
    }
   },
   "outputs": [
    {
     "name": "stdout",
     "output_type": "stream",
     "text": [
      "-------- 1ª Pessoa --------\n",
      "Qual o seu nome? Jéssica\n",
      "Qual a sua idade? 23\n",
      "Qual o seu sexo (F/M)? F\n",
      "-------- 2ª Pessoa --------\n",
      "Qual o seu nome? Cláudio\n",
      "Qual a sua idade? 12\n",
      "Qual o seu sexo (F/M)? M\n",
      "-------- 3ª Pessoa --------\n",
      "Qual o seu nome? Pedro\n",
      "Qual a sua idade? 75\n",
      "Qual o seu sexo (F/M)? M\n",
      "-------- 4ª Pessoa --------\n",
      "Qual o seu nome? Maria\n",
      "Qual a sua idade? 15\n",
      "Qual o seu sexo (F/M)? F\n",
      "A média de idade do grupo é de 31.25 anos.\n",
      "O homem mais velho é o Pedro, com 75 anos.\n",
      "Há 1 mulheres com menos de 20 anos.\n"
     ]
    }
   ],
   "source": [
    "# 56. Desenvolva um programa que leia o nome, idade e sexo de 4 pessoas.\n",
    "## No final do programa, mostre:\n",
    "## A média de idade do grupo.\n",
    "## Qual o nome do homem mais velho.\n",
    "## Quantas mulheres têm menos de 20 anos.\n",
    "\n",
    "s = 0\n",
    "count = 0\n",
    "older_man = 0\n",
    "nome_velho = ''\n",
    "under_20 = 0\n",
    "for c in range (1, 5):\n",
    "    print(f'-------- {c}ª Pessoa --------')\n",
    "    nome = str(input('Qual o seu nome? ')).strip()\n",
    "    age = int(input('Qual a sua idade? '))\n",
    "    sexo = str(input('Qual o seu sexo (F/M)? ')).strip()\n",
    "    s += age\n",
    "    if c == 1 and sexo in 'Mm':\n",
    "            older_man = age\n",
    "            nome_velho = nome\n",
    "    if age > older_man and sexo in 'Mm':\n",
    "            older_man = age\n",
    "            nome_velho = nome            \n",
    "    if sexo in 'Ff' and age < 20:\n",
    "        under_20 += 1\n",
    "avg = s / 4\n",
    "\n",
    "print(f'''A média de idade do grupo é de {avg} anos.\n",
    "O homem mais velho é o {nome_velho}, com {older_man} anos.\n",
    "Há {under_20} mulheres com menos de 20 anos.''')\n",
    "        "
   ]
  }
 ],
 "metadata": {
  "kernelspec": {
   "display_name": "Python 3",
   "language": "python",
   "name": "python3"
  },
  "language_info": {
   "codemirror_mode": {
    "name": "ipython",
    "version": 3
   },
   "file_extension": ".py",
   "mimetype": "text/x-python",
   "name": "python",
   "nbconvert_exporter": "python",
   "pygments_lexer": "ipython3",
   "version": "3.8.10"
  },
  "varInspector": {
   "cols": {
    "lenName": 16,
    "lenType": 16,
    "lenVar": 40
   },
   "kernels_config": {
    "python": {
     "delete_cmd_postfix": "",
     "delete_cmd_prefix": "del ",
     "library": "var_list.py",
     "varRefreshCmd": "print(var_dic_list())"
    },
    "r": {
     "delete_cmd_postfix": ") ",
     "delete_cmd_prefix": "rm(",
     "library": "var_list.r",
     "varRefreshCmd": "cat(var_dic_list()) "
    }
   },
   "types_to_exclude": [
    "module",
    "function",
    "builtin_function_or_method",
    "instance",
    "_Feature"
   ],
   "window_display": false
  }
 },
 "nbformat": 4,
 "nbformat_minor": 5
}
