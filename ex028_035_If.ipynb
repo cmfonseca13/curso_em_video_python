{
 "cells": [
  {
   "cell_type": "code",
   "execution_count": 2,
   "id": "a234b2c1",
   "metadata": {
    "ExecuteTime": {
     "end_time": "2021-05-20T11:40:59.222781Z",
     "start_time": "2021-05-20T11:40:55.280753Z"
    }
   },
   "outputs": [
    {
     "name": "stdout",
     "output_type": "stream",
     "text": [
      "Qual é seu nome?Gustavo\n",
      "Que nome lindo você tem!\n",
      "Bom dia Gustavo!\n"
     ]
    }
   ],
   "source": [
    "nome = str(input('Qual é seu nome?'))\n",
    "if nome == 'Gustavo':\n",
    "    print('Que nome lindo você tem!')\n",
    "print(f'Bom dia {nome}!')"
   ]
  },
  {
   "cell_type": "code",
   "execution_count": 3,
   "id": "2a8c4768",
   "metadata": {
    "ExecuteTime": {
     "end_time": "2021-05-20T11:41:32.545661Z",
     "start_time": "2021-05-20T11:41:30.501928Z"
    }
   },
   "outputs": [
    {
     "name": "stdout",
     "output_type": "stream",
     "text": [
      "Qual é seu nome?Maria\n",
      "Seu nome é tão normal!\n",
      "Bom dia Maria!\n"
     ]
    }
   ],
   "source": [
    "nome = str(input('Qual é seu nome?'))\n",
    "if nome == 'Gustavo':\n",
    "    print('Que nome lindo você tem!')\n",
    "else:\n",
    "    print('Seu nome é tão normal!')\n",
    "print(f'Bom dia {nome}!')"
   ]
  },
  {
   "cell_type": "code",
   "execution_count": 9,
   "id": "07c464c7",
   "metadata": {
    "ExecuteTime": {
     "end_time": "2021-05-20T11:45:40.943090Z",
     "start_time": "2021-05-20T11:45:38.077249Z"
    }
   },
   "outputs": [
    {
     "name": "stdout",
     "output_type": "stream",
     "text": [
      "Digite a primeira nota:2.0\n",
      "Digite a segunda nota:2.0\n",
      "A sua média foi 2.0\n",
      "A sua média é ruim.ESTUDE MAIS!\n"
     ]
    }
   ],
   "source": [
    "n1 = float(input('Digite a primeira nota:'))\n",
    "n2 = float(input('Digite a segunda nota:'))\n",
    "m = (n1+n2)/2\n",
    "print(f'A sua média foi {m:.1f}')\n",
    "if m >= 6:\n",
    "    print('A sua média é boa! PARABÉNS!')\n",
    "else:\n",
    "    print('A sua média é ruim. ESTUDE MAIS!')"
   ]
  },
  {
   "cell_type": "code",
   "execution_count": 11,
   "id": "31f154a5",
   "metadata": {
    "ExecuteTime": {
     "end_time": "2021-05-20T11:47:33.436244Z",
     "start_time": "2021-05-20T11:47:31.704239Z"
    }
   },
   "outputs": [
    {
     "name": "stdout",
     "output_type": "stream",
     "text": [
      "Digite a primeira nota:2.5\n",
      "Digite a segunda nota:3\n",
      "ESTUDE MAIS!\n"
     ]
    }
   ],
   "source": [
    "n1 = float(input('Digite a primeira nota: '))\n",
    "n2 = float(input('Digite a segunda nota: '))\n",
    "m = (n1+n2)/2\n",
    "print('PARABÉNS!' if m >=6 else 'ESTUDE MAIS!')"
   ]
  },
  {
   "cell_type": "markdown",
   "id": "15cdef0c",
   "metadata": {},
   "source": [
    "# Desafios"
   ]
  },
  {
   "cell_type": "code",
   "execution_count": 4,
   "id": "d43e68ca",
   "metadata": {
    "ExecuteTime": {
     "end_time": "2021-05-21T10:39:01.060639Z",
     "start_time": "2021-05-21T10:38:59.773355Z"
    }
   },
   "outputs": [
    {
     "name": "stdout",
     "output_type": "stream",
     "text": [
      "Em que número o computador pensou? 4\n",
      "PROCESSANDO...\n",
      "Tenta de novo! O computador pensou no número 0\n"
     ]
    }
   ],
   "source": [
    "# 28. Escreva um programa que faça o computador \"pensar\" em um número inteiro entre 0 e 5 e peça para o usuário tentar descobrir qual foi o número escolhido pelo computador.\n",
    "## O programa deverá escrever na tela se o usuário venceu ou perdeu.\n",
    "from random import randint\n",
    "\n",
    "n_user = int(input('Em que número o computador pensou? '))\n",
    "n_pc = randint(0,5) #Faz o computador \"PENSAR\"\n",
    "print('PROCESSANDO...')\n",
    "if n_pc == n_user:\n",
    "    print(f'Parabéns! Você venceu! O computador pensou no número {n_pc}')\n",
    "else:\n",
    "    print(f'Tenta de novo! O computador pensou no número {n_pc}')"
   ]
  },
  {
   "cell_type": "code",
   "execution_count": 7,
   "id": "efdab396",
   "metadata": {
    "ExecuteTime": {
     "end_time": "2021-05-21T10:45:29.714917Z",
     "start_time": "2021-05-21T10:45:25.171991Z"
    }
   },
   "outputs": [
    {
     "name": "stdout",
     "output_type": "stream",
     "text": [
      "-=--=--=--=--=--=--=--=--=--=--=--=--=--=--=--=--=--=--=--=-\n",
      "Vou pensar em um número entre 0 e 5. Tente adivinhar...\n",
      "-=--=--=--=--=--=--=--=--=--=--=--=--=--=--=--=--=--=--=--=-\n",
      "Em que número eu pensei? 3\n",
      "PROCESSANDO...\n",
      "GANHEI! Eu pensei no número 5 e não no 3!\n"
     ]
    }
   ],
   "source": [
    "# 28. Escreva um programa que faça o computador \"pensar\" em um número inteiro entre 0 e 5 e peça para o usuário tentar descobrir qual foi o número escolhido pelo computador.\n",
    "## O programa deverá escrever na tela se o usuário venceu ou perdeu.\n",
    "from random import randint\n",
    "from time import sleep\n",
    "\n",
    "n_pc = randint(0,5) #Faz o computador \"PENSAR\"\n",
    "print('-=-'*20)\n",
    "print('Vou pensar em um número entre 0 e 5. Tente adivinhar...')\n",
    "print('-=-'*20)\n",
    "n_user = int(input('Em que número eu pensei? '))\n",
    "print('PROCESSANDO...')\n",
    "sleep(3)\n",
    "if n_pc == n_user:\n",
    "    print('Parabéns! Você venceu!')\n",
    "else:\n",
    "    print(f'GANHEI! Eu pensei no número {n_pc} e não no {n_user}!')\n",
    "    "
   ]
  },
  {
   "cell_type": "code",
   "execution_count": 9,
   "id": "9af39b3a",
   "metadata": {
    "ExecuteTime": {
     "end_time": "2021-05-21T10:52:13.084299Z",
     "start_time": "2021-05-21T10:52:10.488781Z"
    }
   },
   "outputs": [
    {
     "name": "stdout",
     "output_type": "stream",
     "text": [
      "A que velocidade ia o carro em km/h? 250\n",
      "MULTA! Você ia acima do limite de velocidade.\n",
      "Você irá ser multado em R$1190.00.\n"
     ]
    }
   ],
   "source": [
    "# 29. Escreva um programa que leia a velocidade de um carro.\n",
    "## Se ele ultrapassar 80 km/h, mostre uma mensagem dizendo que ele foi multado.\n",
    "## A multa vai custar R$7.00 por cada km acima do limite.\n",
    "\n",
    "vel = int(input('A que velocidade ia o carro em km/h? '))\n",
    "\n",
    "if vel > 80:\n",
    "    print(f'MULTA! Você ia acima do limite de velocidade.')\n",
    "    multa = float((vel-80)*7.00)\n",
    "    print(f'Você irá ser multado em R${multa:.2f}.')\n",
    "else:\n",
    "    print('Pode seguir. Boa viagem!')"
   ]
  },
  {
   "cell_type": "code",
   "execution_count": 36,
   "id": "50b4f6e5",
   "metadata": {
    "ExecuteTime": {
     "end_time": "2021-05-20T15:19:51.489807Z",
     "start_time": "2021-05-20T15:19:48.927733Z"
    }
   },
   "outputs": [
    {
     "name": "stdout",
     "output_type": "stream",
     "text": [
      "Digite um número inteiro: 63\n",
      "O número 63 é ímpar.\n"
     ]
    }
   ],
   "source": [
    "# 30. Crie um programa que leia um número inteiro e mostre na tela se é PAR ou ÍMPAR.\n",
    "## Digite um número n\n",
    "## Determinar resto da divisão de n por 2 na variável n_divide\n",
    "## Se n_divide for igual a 0, o número é par\n",
    "## Senão o número é ímpar\n",
    "\n",
    "n = int(input('Digite um número inteiro: '))\n",
    "n_divide = n%2\n",
    "if n_divide == 0:\n",
    "    print(f'O número {n} é par.')\n",
    "else:\n",
    "    print(f'O número {n} é ímpar.')\n"
   ]
  },
  {
   "cell_type": "code",
   "execution_count": 13,
   "id": "b7151cc2",
   "metadata": {
    "ExecuteTime": {
     "end_time": "2021-05-21T10:55:41.326109Z",
     "start_time": "2021-05-21T10:55:38.368146Z"
    },
    "scrolled": true
   },
   "outputs": [
    {
     "name": "stdout",
     "output_type": "stream",
     "text": [
      "De quantos km foi a viagem? 210\n",
      "Então a sua viagem custará R$94.50.\n"
     ]
    }
   ],
   "source": [
    "# 31. Desenvolva um programa que pergunte a distância de uma viagem em km.\n",
    "## Calcule o preço da passagem, cobrando R$0.50 por km para viagens de até 200km e R$0.45 para viagens mais longas.\n",
    "## Perguntar de quantos km foi a viagem.\n",
    "## Se a viagem for até 200km, calcular o preço cobrando R$0.50 por km\n",
    "## Se a viagem for superior a 200km, calcular o preço cobrando R$0.45 por km\n",
    "\n",
    "km = int(input('De quantos km foi a viagem? '))\n",
    "\n",
    "if km <= 200:\n",
    "    price = float(km*0.50)\n",
    "else:\n",
    "    price = float(km*0.45)\n",
    "    \n",
    "print(f'Então a sua viagem custará R${price:.2f}.')"
   ]
  },
  {
   "cell_type": "code",
   "execution_count": 15,
   "id": "ec040528",
   "metadata": {
    "ExecuteTime": {
     "end_time": "2021-05-21T10:59:00.492720Z",
     "start_time": "2021-05-21T10:58:59.262147Z"
    }
   },
   "outputs": [
    {
     "name": "stdout",
     "output_type": "stream",
     "text": [
      "Digite um ano: 1700\n",
      "O ano 1700 não é Bissexto.\n"
     ]
    }
   ],
   "source": [
    "# 32. Faça um programa que leia um ano qualquer e mostre se ele é BISSEXTO.\n",
    "## Perguntar qual é o ano, como número inteiro.\n",
    "## Para ser bissexto:\n",
    "## O ano tem de ser divisível por 4, com resto 0.\n",
    "## A divisão do ano por 100 deixa resto diferente de zero;\n",
    "\n",
    "ano = int(input('Digite um ano: '))\n",
    "\n",
    "if ano%4 == 0 and ano%100 !=0 or ano%400 == 0:\n",
    "    print(f'O ano {ano} é Bissexto.')\n",
    "else:\n",
    "    print(f'O ano {ano} não é Bissexto.')"
   ]
  },
  {
   "cell_type": "code",
   "execution_count": 49,
   "id": "270bdc52",
   "metadata": {
    "ExecuteTime": {
     "end_time": "2021-05-20T15:58:02.527211Z",
     "start_time": "2021-05-20T15:57:59.688615Z"
    }
   },
   "outputs": [
    {
     "name": "stdout",
     "output_type": "stream",
     "text": [
      "Digite um número: 5\n",
      "Digite outro número: 9\n",
      "Digite outro número: 4\n",
      "O maior número é 9.\n",
      "O menor número é 4.\n"
     ]
    }
   ],
   "source": [
    "# 33. Faça um programa que leia três números e mostre qual é o maior e qual é o menor.\n",
    "## Pedir os três números\n",
    "## maior = primeiro\n",
    "## Se o segundo for maior que o primeiro, a variável 'maior' agora vai receber o valor da variável 'segundo'\n",
    "## Se não for maior, então 'maior' ainda está com o valor da variável 'primeira', que definimos no começo.\n",
    "## Se for, o novo valor de 'maior' vai ser o terceiro número.\n",
    "\n",
    "n1 = int(input('Digite um número: '))\n",
    "n2 = int(input('Digite outro número: '))\n",
    "n3 = int(input('Digite outro número: '))\n",
    "\n",
    "maior = n1\n",
    "if n2>n1:\n",
    "    maior = n2\n",
    "else:\n",
    "    maior = n1\n",
    "if n3>n2:\n",
    "    maior = n3\n",
    "else:\n",
    "    maior = n2\n",
    "\n",
    "print(f'O maior número é {maior}.')\n",
    "\n",
    "menor = n1\n",
    "if n2<n1:\n",
    "    menor = n2\n",
    "else:\n",
    "    menor = n1\n",
    "if n3<n2:\n",
    "    menor = n3\n",
    "else:\n",
    "    menor = n2\n",
    "\n",
    "print(f'O menor número é {menor}.')"
   ]
  },
  {
   "cell_type": "code",
   "execution_count": 45,
   "id": "290475be",
   "metadata": {
    "ExecuteTime": {
     "end_time": "2021-05-20T15:41:26.738606Z",
     "start_time": "2021-05-20T15:41:25.002200Z"
    },
    "scrolled": true
   },
   "outputs": [
    {
     "name": "stdout",
     "output_type": "stream",
     "text": [
      "Qual é o seu salário? 1254\n",
      "Então terá direito a um aumento de 125.40€ e ficará a ganhar 1379.40€\n"
     ]
    }
   ],
   "source": [
    "# 34. Escreva um programa que pergunte o salário de um funcionário e calcule o valor do seu aumento.\n",
    "## Para salários superiores a R$1.250,00, calcule um aumento de 10%.\n",
    "## Para os inferiores ou iguais, o aumento é de 15%.\n",
    "\n",
    "salary = float(input('Qual é o seu salário? '))\n",
    "if salary >1250:\n",
    "    print(f'Então terá direito a um aumento de {salary*0.10:.2f}€ e ficará a ganhar {salary*1.10:.2f}€')\n",
    "else:\n",
    "    print(f'Então terá direito a um aumento de {salary*0.15:.2f}€ e ficará a ganhar {salary*1.15:.2f}€')"
   ]
  },
  {
   "cell_type": "code",
   "execution_count": 19,
   "id": "5a419571",
   "metadata": {
    "ExecuteTime": {
     "end_time": "2021-05-21T11:03:24.435508Z",
     "start_time": "2021-05-21T11:03:23.044177Z"
    }
   },
   "outputs": [
    {
     "name": "stdout",
     "output_type": "stream",
     "text": [
      "Qual é o seu salário? 5000\n",
      "Então terá direito a um aumento e ficará a ganhar 5500.00€\n"
     ]
    }
   ],
   "source": [
    "# 34. Escreva um programa que pergunte o salário de um funcionário e calcule o valor do seu aumento.\n",
    "## Para salários superiores a R$1.250,00, calcule um aumento de 10%.\n",
    "## Para os inferiores ou iguais, o aumento é de 15%.\n",
    "salary = float(input('Qual é o seu salário? '))\n",
    "if salary >1250:\n",
    "    salary = salary*1.10\n",
    "else:\n",
    "    salary = salary*1.15\n",
    "    \n",
    "print(f'Então terá direito a um aumento e ficará a ganhar {salary:.2f}€')"
   ]
  },
  {
   "cell_type": "code",
   "execution_count": 23,
   "id": "f3d4e0e2",
   "metadata": {
    "ExecuteTime": {
     "end_time": "2021-05-21T11:06:23.123766Z",
     "start_time": "2021-05-21T11:06:17.875609Z"
    },
    "scrolled": true
   },
   "outputs": [
    {
     "name": "stdout",
     "output_type": "stream",
     "text": [
      "-=--=--=--=--=--=--=--=--=--=--=--=--=--=--=--=--=--=--=--=-\n",
      "Analisador de Triângulos\n",
      "-=--=--=--=--=--=--=--=--=--=--=--=--=--=--=--=--=--=--=--=-\n",
      "Primeiro segmento: 3.5\n",
      "Segundo segmento: 2.75\n",
      "Terceito segmento: 4\n",
      "Então os três segmentos podem formar um triângulo\n"
     ]
    }
   ],
   "source": [
    "# 35. Desenvolva um programa que leia o comprimento de três retas e diga ao usuário se elas podem ou não formar um triângulo.\n",
    "## Condição de existência de um triângulo\n",
    "## A soma das medidas de dois lados é sempre maior que a medida do terceiro.\n",
    "print('-=-'*20)\n",
    "print('Analisador de Triângulos')\n",
    "print('-=-'*20)\n",
    "\n",
    "l1 = float(input('Primeiro segmento: '))\n",
    "l2 = float(input('Segundo segmento: '))\n",
    "l3 = float(input('Terceito segmento: '))\n",
    "if (l1+l2) > l3 and (l1+l3) > l2 and (l3+l2) > l1:\n",
    "    print('Então os três segmentos podem formar um triângulo!')\n",
    "else:\n",
    "    print('Então os três segmentos não podem formar um triângulo!')\n"
   ]
  }
 ],
 "metadata": {
  "kernelspec": {
   "display_name": "Python 3",
   "language": "python",
   "name": "python3"
  },
  "varInspector": {
   "cols": {
    "lenName": 16,
    "lenType": 16,
    "lenVar": 40
   },
   "kernels_config": {
    "python": {
     "delete_cmd_postfix": "",
     "delete_cmd_prefix": "del ",
     "library": "var_list.py",
     "varRefreshCmd": "print(var_dic_list())"
    },
    "r": {
     "delete_cmd_postfix": ") ",
     "delete_cmd_prefix": "rm(",
     "library": "var_list.r",
     "varRefreshCmd": "cat(var_dic_list()) "
    }
   },
   "types_to_exclude": [
    "module",
    "function",
    "builtin_function_or_method",
    "instance",
    "_Feature"
   ],
   "window_display": false
  }
 },
 "nbformat": 4,
 "nbformat_minor": 5
}
