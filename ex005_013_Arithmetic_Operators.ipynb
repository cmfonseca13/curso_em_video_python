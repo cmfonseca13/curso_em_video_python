{
 "cells": [
  {
   "cell_type": "code",
   "execution_count": 8,
   "id": "e1d70deb",
   "metadata": {},
   "outputs": [
    {
     "name": "stdout",
     "output_type": "stream",
     "text": [
      "Qual é o seu nome?Paulo\n",
      "Prazer em te conhecer        Paulo        !\n"
     ]
    }
   ],
   "source": [
    "nome = input('Qual é o seu nome?')\n",
    "print (f'Prazer em te conhecer {nome:^20}!')"
   ]
  },
  {
   "cell_type": "code",
   "execution_count": 9,
   "id": "82c735a2",
   "metadata": {},
   "outputs": [
    {
     "name": "stdout",
     "output_type": "stream",
     "text": [
      "Qual é o seu nome?Carolina\n",
      "Prazer em te conhecer Carolina            !\n"
     ]
    }
   ],
   "source": [
    "nome = input('Qual é o seu nome?')\n",
    "print (f'Prazer em te conhecer {nome:<20}!')"
   ]
  },
  {
   "cell_type": "code",
   "execution_count": 10,
   "id": "df234ecd",
   "metadata": {},
   "outputs": [
    {
     "name": "stdout",
     "output_type": "stream",
     "text": [
      "Qual é o seu nome?Carolina\n",
      "Prazer em te conhecer ======Carolina======!\n"
     ]
    }
   ],
   "source": [
    "nome = input('Qual é o seu nome?')\n",
    "print (f'Prazer em te conhecer {nome:=^20}!')"
   ]
  },
  {
   "cell_type": "code",
   "execution_count": 19,
   "id": "4bd7fc3e",
   "metadata": {
    "scrolled": true
   },
   "outputs": [
    {
     "name": "stdout",
     "output_type": "stream",
     "text": [
      "Um valor: 4\n",
      "Outro valor: 3\n",
      "A soma é 7, \n",
      " o produto é 12 e a divisão é 1.333 Divisão inteira 1 e potência 64\n"
     ]
    }
   ],
   "source": [
    "n1 = int(input('Um valor: '))\n",
    "n2 = int(input('Outro valor: '))\n",
    "s = n1 + n2\n",
    "m = n1 * n2\n",
    "d = n1 / n2\n",
    "di = n1 // n2\n",
    "e = n1**n2\n",
    "\n",
    "print(f'A soma é {s}, \\n o produto é {m} e a divisão é {d:.3f}', end=' ')\n",
    "print(f'Divisão inteira {di} e potência {e}')"
   ]
  },
  {
   "cell_type": "markdown",
   "id": "924a21b3",
   "metadata": {},
   "source": [
    "# Desafios"
   ]
  },
  {
   "cell_type": "code",
   "execution_count": 24,
   "id": "2324344a",
   "metadata": {},
   "outputs": [
    {
     "name": "stdout",
     "output_type": "stream",
     "text": [
      "Digite um número inteiro: 4\n",
      "O antecessor de 4 é 3 e o sucessor de 4 é 5\n"
     ]
    }
   ],
   "source": [
    "# 5. Faça um programa que leia um número inteiro e mostre na tela o seu sucessor e seu antecessor.\n",
    "\n",
    "n = int(input('Digite um número inteiro: '))\n",
    "#ant = n-1\n",
    "#suc = n+1\n",
    "print(f'O antecessor de {n} é {n-1} e o sucessor de {n} é {n+1}')"
   ]
  },
  {
   "cell_type": "code",
   "execution_count": 30,
   "id": "13f28e6b",
   "metadata": {},
   "outputs": [
    {
     "name": "stdout",
     "output_type": "stream",
     "text": [
      "Digite um número: 4\n",
      "O dobro de 4 é 8, o triplo é 12 e a raiz quadrada é 2.00\n"
     ]
    }
   ],
   "source": [
    "# 6. Crie um algoritmo que leia o número e mostre o seu dobro, triplo e raiz quadrada.\n",
    "\n",
    "n = int(input('Digite um número: '))\n",
    "print(f'O dobro de {n} é {n*2}, o triplo é {n*3} e a raiz quadrada é {n**(1/2):.2f}')\n"
   ]
  },
  {
   "cell_type": "code",
   "execution_count": 65,
   "id": "a2120253",
   "metadata": {
    "ExecuteTime": {
     "end_time": "2021-05-19T13:45:28.202493Z",
     "start_time": "2021-05-19T13:45:17.894722Z"
    }
   },
   "outputs": [
    {
     "name": "stdout",
     "output_type": "stream",
     "text": [
      "Como te chamas? Carolina\n",
      "Olá Carolina, que nota final obteu no exame de Biologia e Geologia? 16.45\n",
      "E no de Matemática? 20.00\n",
      "Carolina, a nota média das suas notas de exame é 18.23.\n"
     ]
    }
   ],
   "source": [
    "# 7. Desenvolva um programa que leia as duas notas de um aluno, calcule e mostre sua média.\n",
    "\n",
    "n = input('Como te chamas? ')\n",
    "d1 = float(input(f'Olá {n}, que nota final obteu no exame de Biologia e Geologia? '))\n",
    "d2 = float(input('E no de Matemática? '))\n",
    "mean = (d1+d2)/2\n",
    "\n",
    "print(f'{n}, a nota média das suas notas de exame é {mean:.2f}.')"
   ]
  },
  {
   "cell_type": "code",
   "execution_count": 67,
   "id": "d1b2aef1",
   "metadata": {
    "ExecuteTime": {
     "end_time": "2021-05-19T13:46:19.690930Z",
     "start_time": "2021-05-19T13:46:18.115748Z"
    }
   },
   "outputs": [
    {
     "name": "stdout",
     "output_type": "stream",
     "text": [
      "Quanto medes em metros? 1.59\n",
      "A tua altura em centímetros é 159.0 e em milímetros é 1590.0\n"
     ]
    }
   ],
   "source": [
    "# 8. Escreva um programa que leia um valor em metros e o exiba convertido em centímetros e milímetros.\n",
    "\n",
    "df = float(input('Quanto medes em metros? '))\n",
    "\n",
    "print(f'A tua altura em centímetros é {df*100} e em milímetros é {df*1000}')\n"
   ]
  },
  {
   "cell_type": "code",
   "execution_count": 73,
   "id": "0790d1fa",
   "metadata": {
    "ExecuteTime": {
     "end_time": "2021-05-19T13:51:23.087719Z",
     "start_time": "2021-05-19T13:51:22.136328Z"
    }
   },
   "outputs": [
    {
     "name": "stdout",
     "output_type": "stream",
     "text": [
      "Insere um número para calcular a sua tabuada: 8\n",
      "------------\n",
      "8 x  1 = 8 \n",
      "8 x  2 = 16 \n",
      "8 x  3 = 24 \n",
      "8 x  4 = 32 \n",
      "8 x  5 = 40 \n",
      "8 x  6 = 48 \n",
      "8 x  7 = 56 \n",
      "8 x  8 = 64 \n",
      "8 x  9 = 72 \n",
      "8 x 10 = 80\n",
      "------------\n"
     ]
    }
   ],
   "source": [
    "# 9. Faça um programa que leia um número inteiro qualquer e mostre na tela a sua tabuada.\n",
    "\n",
    "n = int(input('Insere um número para calcular a sua tabuada: '))\n",
    "print('-'*12)\n",
    "print(f'{n} x  1 = {n*1} \\n{n} x  2 = {n*2} \\n{n} x  3 = {n*3} \\n{n} x  4 = {n*4} \\n{n} x  5 = {n*5} \\n{n} x  6 = {n*6} \\n{n} x  7 = {n*7} \\n{n} x  8 = {n*8} \\n{n} x  9 = {n*9} \\n{n} x 10 = {n*10}')\n",
    "print('-'*12)"
   ]
  },
  {
   "cell_type": "code",
   "execution_count": 74,
   "id": "fc722d0f",
   "metadata": {
    "ExecuteTime": {
     "end_time": "2021-05-19T13:52:05.887890Z",
     "start_time": "2021-05-19T13:52:00.850607Z"
    }
   },
   "outputs": [
    {
     "name": "stdout",
     "output_type": "stream",
     "text": [
      "Quanto dinheiro tens na carteira? R$19.88\n",
      "Então podes comprar US$6.08.\n"
     ]
    }
   ],
   "source": [
    "# 10. Crie um programa que leia quanto dinheiro uma pessoa tem na carteira e mostre quantos dólares ela pode comprar.\n",
    "## Considere US$1.00=R$3.27\n",
    "\n",
    "df = float(input('Quanto dinheiro tens na carteira? R$'))\n",
    "print(f'Então podes comprar US${df/3.27:.2f}.')"
   ]
  },
  {
   "cell_type": "code",
   "execution_count": 76,
   "id": "997e6912",
   "metadata": {
    "ExecuteTime": {
     "end_time": "2021-05-19T13:53:56.123414Z",
     "start_time": "2021-05-19T13:53:54.912297Z"
    },
    "scrolled": true
   },
   "outputs": [
    {
     "name": "stdout",
     "output_type": "stream",
     "text": [
      "Qual a largura da parede o teu quarto em metros? 5\n",
      "E a altura? 5\n",
      "Então terás de comprar 12.50 litros de tinta para pintar a área de 25.00 m2 que a parede tem.\n"
     ]
    }
   ],
   "source": [
    "# 11. Faça um programa que leia a largura e a altura de uma parede em metros. Calcure a sua área e a quantidade de tinta necessária para pintá-la, sabendo que cada litro de tinta pinta uma área de 2m2.\n",
    "\n",
    "l = float(input('Qual a largura da parede o teu quarto em metros? '))\n",
    "a = float(input('E a altura? '))\n",
    "area = l*a\n",
    "print(f'Então terás de comprar {area/2:.2f} litros de tinta para pintar a área de {area:.2f} m2 que a parede tem.')"
   ]
  },
  {
   "cell_type": "code",
   "execution_count": 78,
   "id": "1837c748",
   "metadata": {
    "ExecuteTime": {
     "end_time": "2021-05-19T13:55:27.483909Z",
     "start_time": "2021-05-19T13:55:24.708320Z"
    }
   },
   "outputs": [
    {
     "name": "stdout",
     "output_type": "stream",
     "text": [
      "Quanto custa o novo modelo Yaris? 100\n",
      "Então com 5% de desconto o valor é de 95.00 euros.\n"
     ]
    }
   ],
   "source": [
    "# 12. Faça um algoritmo que leia o preço de um produto e mostre seu novo preço, com 5% de desconto.\n",
    "\n",
    "df = float(input('Quanto custa o novo modelo Yaris? '))\n",
    "df_sale = df*0.95\n",
    "print(f'Então com 5% de desconto o valor é de {df_sale:.2f} euros.')"
   ]
  },
  {
   "cell_type": "code",
   "execution_count": 77,
   "id": "f71d4d15",
   "metadata": {
    "ExecuteTime": {
     "end_time": "2021-05-19T13:55:24.707820Z",
     "start_time": "2021-05-19T13:55:14.308591Z"
    }
   },
   "outputs": [
    {
     "name": "stdout",
     "output_type": "stream",
     "text": [
      "Qual é o seu salário? 10000\n",
      "Então com o aumento de 15% você vai passar a ganhar 11500.00 euros.\n"
     ]
    }
   ],
   "source": [
    "# 13. Faça um algoritmo que leia o salário de um funcionário e mostre seu novo salário, com 15% de aumento.\n",
    "\n",
    "df = float(input('Qual é o seu salário? '))\n",
    "df_raise = df*1.15\n",
    "print(f'Então com o aumento de 15% você vai passar a ganhar {df_raise:.2f} euros.')"
   ]
  },
  {
   "cell_type": "code",
   "execution_count": 81,
   "id": "93cd6e54",
   "metadata": {
    "ExecuteTime": {
     "end_time": "2021-05-19T13:59:35.174194Z",
     "start_time": "2021-05-19T13:59:27.339566Z"
    }
   },
   "outputs": [
    {
     "name": "stdout",
     "output_type": "stream",
     "text": [
      "Informe a temperatura em ºC: 31.5\n",
      "A temperatura de 31.5ºC corresponde a 88.7ºF!\n"
     ]
    }
   ],
   "source": [
    "# 14. Escreva um programa que converta uma temperatura dgitada em ºC e converta para ºF.\n",
    "\n",
    "df = float(input('Informe a temperatura em ºC: '))\n",
    "df_f = df*(9/5)+32\n",
    "print(f'A temperatura de {df:.1f}ºC corresponde a {df_f:.1f}ºF!')"
   ]
  },
  {
   "cell_type": "code",
   "execution_count": 83,
   "id": "95570be1",
   "metadata": {
    "ExecuteTime": {
     "end_time": "2021-05-19T14:04:02.172707Z",
     "start_time": "2021-05-19T14:03:58.282795Z"
    }
   },
   "outputs": [
    {
     "name": "stdout",
     "output_type": "stream",
     "text": [
      "Quantos dias alugado? 8\n",
      "Quantos km percorridos? 720\n",
      "O total a pagar é de R$588.00\n"
     ]
    }
   ],
   "source": [
    "# 15. Escreva um programa que pergunte a quantidade de Km percorridos por um carro alugdo e a quantidade de dias pelos quais ele foi alugado. Calcule o preço a pagar, sabendo que o carro custa R$60 por dia e R$0.15 por Km rodado.\n",
    "\n",
    "days = int(input('Quantos dias alugado? '))\n",
    "km = float(input('Quantos km percorridos? '))\n",
    "print(f'O total a pagar é de R${days*60+km*0.15:.2f}')\n"
   ]
  }
 ],
 "metadata": {
  "kernelspec": {
   "display_name": "Python 3",
   "language": "python",
   "name": "python3"
  },
  "language_info": {
   "codemirror_mode": {
    "name": "ipython",
    "version": 3
   },
   "file_extension": ".py",
   "mimetype": "text/x-python",
   "name": "python",
   "nbconvert_exporter": "python",
   "pygments_lexer": "ipython3",
   "version": "3.8.10"
  },
  "varInspector": {
   "cols": {
    "lenName": 16,
    "lenType": 16,
    "lenVar": 40
   },
   "kernels_config": {
    "python": {
     "delete_cmd_postfix": "",
     "delete_cmd_prefix": "del ",
     "library": "var_list.py",
     "varRefreshCmd": "print(var_dic_list())"
    },
    "r": {
     "delete_cmd_postfix": ") ",
     "delete_cmd_prefix": "rm(",
     "library": "var_list.r",
     "varRefreshCmd": "cat(var_dic_list()) "
    }
   },
   "types_to_exclude": [
    "module",
    "function",
    "builtin_function_or_method",
    "instance",
    "_Feature"
   ],
   "window_display": false
  }
 },
 "nbformat": 4,
 "nbformat_minor": 5
}
