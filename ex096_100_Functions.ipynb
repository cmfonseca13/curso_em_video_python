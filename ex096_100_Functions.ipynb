{
 "cells": [
  {
   "cell_type": "code",
   "execution_count": 5,
   "id": "a7958148",
   "metadata": {
    "ExecuteTime": {
     "end_time": "2021-06-04T13:30:26.496778Z",
     "start_time": "2021-06-04T13:30:26.479729Z"
    }
   },
   "outputs": [
    {
     "name": "stdout",
     "output_type": "stream",
     "text": [
      "------------------------------\n",
      "   Curso em Vídeo   \n",
      "------------------------------\n",
      "   Aprenda Python   \n",
      "------------------------------\n"
     ]
    }
   ],
   "source": [
    "def lin():\n",
    "    print('-'*30)\n",
    "    \n",
    "    \n",
    "# Programa principal\n",
    "lin()\n",
    "print('   Curso em Vídeo   ')\n",
    "lin()\n",
    "print('   Aprenda Python   ')\n",
    "lin()"
   ]
  },
  {
   "cell_type": "code",
   "execution_count": 6,
   "id": "e35ea053",
   "metadata": {
    "ExecuteTime": {
     "end_time": "2021-06-04T13:36:26.390865Z",
     "start_time": "2021-06-04T13:36:26.376352Z"
    }
   },
   "outputs": [
    {
     "name": "stdout",
     "output_type": "stream",
     "text": [
      "------------------------------\n",
      "SISTEMA DE ALUNOS\n",
      "------------------------------\n"
     ]
    }
   ],
   "source": [
    "def mensagem (msg):\n",
    "    print('-'*30)\n",
    "    print(msg)\n",
    "    print('-'*30)\n",
    "\n",
    "mensagem('SISTEMA DE ALUNOS')"
   ]
  },
  {
   "cell_type": "code",
   "execution_count": 8,
   "id": "a763e8b7",
   "metadata": {
    "ExecuteTime": {
     "end_time": "2021-06-04T13:41:16.884170Z",
     "start_time": "2021-06-04T13:41:16.868006Z"
    },
    "code_folding": []
   },
   "outputs": [
    {
     "name": "stdout",
     "output_type": "stream",
     "text": [
      "------------------------------\n",
      "   CURSO EM VIDEO    \n",
      "------------------------------\n",
      "------------------------------\n",
      "   APRENDA PYTHON    \n",
      "------------------------------\n",
      "------------------------------\n",
      "   GUSTAVO GUANABARA    \n",
      "------------------------------\n",
      "------------------------------\n",
      "Oi\n",
      "------------------------------\n"
     ]
    }
   ],
   "source": [
    "def titulo(txt):\n",
    "    print('-'*30)\n",
    "    print(txt)\n",
    "    print('-'*30)\n",
    "\n",
    "\n",
    "#Programa Principal\n",
    "titulo('   CURSO EM VIDEO    ')\n",
    "titulo('   APRENDA PYTHON    ')\n",
    "titulo('   GUSTAVO GUANABARA    ')\n",
    "titulo('Oi')"
   ]
  },
  {
   "cell_type": "code",
   "execution_count": 10,
   "id": "ecc268af",
   "metadata": {
    "ExecuteTime": {
     "end_time": "2021-06-04T13:44:31.134609Z",
     "start_time": "2021-06-04T13:44:31.125602Z"
    }
   },
   "outputs": [
    {
     "name": "stdout",
     "output_type": "stream",
     "text": [
      "9\n",
      "17\n",
      "3\n"
     ]
    }
   ],
   "source": [
    "a = 4\n",
    "b = 5\n",
    "s = a + b\n",
    "print(s)\n",
    "\n",
    "a = 8\n",
    "b = 9\n",
    "s = a + b\n",
    "print(s)\n",
    "\n",
    "a = 2\n",
    "b = 1\n",
    "s = a + b\n",
    "print(s)"
   ]
  },
  {
   "cell_type": "code",
   "execution_count": 12,
   "id": "3424fd18",
   "metadata": {
    "ExecuteTime": {
     "end_time": "2021-06-04T13:46:41.838317Z",
     "start_time": "2021-06-04T13:46:41.822612Z"
    }
   },
   "outputs": [
    {
     "name": "stdout",
     "output_type": "stream",
     "text": [
      "9\n",
      "17\n",
      "3\n"
     ]
    }
   ],
   "source": [
    "def soma(a, b):\n",
    "    s = a + b\n",
    "    print(s)\n",
    "\n",
    "#Programa principal\n",
    "soma(4, 5)\n",
    "soma(8, 9)\n",
    "soma(2, 1)\n"
   ]
  },
  {
   "cell_type": "code",
   "execution_count": 14,
   "id": "4b23d0f6",
   "metadata": {
    "ExecuteTime": {
     "end_time": "2021-06-04T13:49:23.568686Z",
     "start_time": "2021-06-04T13:49:23.556180Z"
    }
   },
   "outputs": [
    {
     "name": "stdout",
     "output_type": "stream",
     "text": [
      "A = 4 e B = 5\n",
      "A soma A + B = 9\n"
     ]
    }
   ],
   "source": [
    "def soma(a, b):\n",
    "    print(f'A = {a} e B = {b}')\n",
    "    s = a + b\n",
    "    print(f'A soma A + B = {s}')\n",
    "\n",
    "#Programa principal\n",
    "soma(a=4, b=5)"
   ]
  },
  {
   "cell_type": "code",
   "execution_count": 16,
   "id": "973dfa83",
   "metadata": {
    "ExecuteTime": {
     "end_time": "2021-06-04T13:50:05.944713Z",
     "start_time": "2021-06-04T13:50:05.933204Z"
    }
   },
   "outputs": [
    {
     "name": "stdout",
     "output_type": "stream",
     "text": [
      "A = 5 e B = 4\n",
      "A soma A + B = 9\n",
      "A = 7 e B = 2\n",
      "A soma A + B = 9\n"
     ]
    }
   ],
   "source": [
    "def soma(a, b):\n",
    "    print(f'A = {a} e B = {b}')\n",
    "    s = a + b\n",
    "    print(f'A soma A + B = {s}')\n",
    "\n",
    "#Programa principal\n",
    "soma(b=4, a=5)\n",
    "soma(7, 2)"
   ]
  },
  {
   "cell_type": "code",
   "execution_count": 19,
   "id": "ddd8887a",
   "metadata": {
    "ExecuteTime": {
     "end_time": "2021-06-04T13:55:51.611486Z",
     "start_time": "2021-06-04T13:55:51.601837Z"
    }
   },
   "outputs": [
    {
     "name": "stdout",
     "output_type": "stream",
     "text": [
      "(2, 1, 7)\n",
      "(8, 0)\n",
      "(4, 4, 7, 6, 2)\n"
     ]
    }
   ],
   "source": [
    "def contador(*num):\n",
    "    print(num)\n",
    "    \n",
    "\n",
    "contador(2, 1, 7)\n",
    "contador(8, 0)\n",
    "contador(4, 4 , 7, 6, 2)"
   ]
  },
  {
   "cell_type": "code",
   "execution_count": 21,
   "id": "2f2355c8",
   "metadata": {
    "ExecuteTime": {
     "end_time": "2021-06-04T13:56:50.234806Z",
     "start_time": "2021-06-04T13:56:50.222295Z"
    }
   },
   "outputs": [
    {
     "name": "stdout",
     "output_type": "stream",
     "text": [
      "2 1 7 FIM\n",
      "8 0 FIM\n",
      "4 4 7 6 2 FIM\n"
     ]
    }
   ],
   "source": [
    "def contador(*num):\n",
    "    for valor in num:\n",
    "        print(f'{valor} ', end='')\n",
    "    print('FIM')\n",
    "    \n",
    "\n",
    "contador(2, 1, 7)\n",
    "contador(8, 0)\n",
    "contador(4, 4 , 7, 6, 2)"
   ]
  },
  {
   "cell_type": "code",
   "execution_count": 22,
   "id": "244cee36",
   "metadata": {
    "ExecuteTime": {
     "end_time": "2021-06-04T13:59:29.790267Z",
     "start_time": "2021-06-04T13:59:29.783761Z"
    }
   },
   "outputs": [
    {
     "name": "stdout",
     "output_type": "stream",
     "text": [
      "Recebi os valores (2, 1, 7) e são ao todo 3 numeros\n",
      "Recebi os valores (8, 0) e são ao todo 2 numeros\n",
      "Recebi os valores (4, 4, 7, 6, 2) e são ao todo 5 numeros\n"
     ]
    }
   ],
   "source": [
    "def contador(*num):\n",
    "    tam = len(num)\n",
    "    print(f'Recebi os valores {num} e são ao todo {tam} numeros')\n",
    "    \n",
    "\n",
    "contador(2, 1, 7)\n",
    "contador(8, 0)\n",
    "contador(4, 4 , 7, 6, 2)"
   ]
  },
  {
   "cell_type": "code",
   "execution_count": 26,
   "id": "095efbe4",
   "metadata": {
    "ExecuteTime": {
     "end_time": "2021-06-04T14:09:09.803976Z",
     "start_time": "2021-06-04T14:09:09.786962Z"
    }
   },
   "outputs": [
    {
     "name": "stdout",
     "output_type": "stream",
     "text": [
      "[12, 6, 18, 2, 0, 4]\n"
     ]
    }
   ],
   "source": [
    "valores = [6, 3, 9, 1, 0, 2]\n",
    "\n",
    "def dobra(lst):\n",
    "    pos = 0\n",
    "    while pos < len(lst):\n",
    "        lst[pos] *=2\n",
    "        pos += 1\n",
    "    \n",
    "    \n",
    "dobra(valores)\n",
    "print(valores)"
   ]
  },
  {
   "cell_type": "code",
   "execution_count": 30,
   "id": "8b45bd15",
   "metadata": {
    "ExecuteTime": {
     "end_time": "2021-06-04T14:10:17.227411Z",
     "start_time": "2021-06-04T14:10:17.214901Z"
    },
    "scrolled": true
   },
   "outputs": [
    {
     "name": "stdout",
     "output_type": "stream",
     "text": [
      "Somando os valores (5, 2) temos 7\n",
      "Somando os valores (2, 9, 4) temos 15\n"
     ]
    }
   ],
   "source": [
    "def soma(*valores):\n",
    "    s = 0\n",
    "    for num in valores:\n",
    "        s += num\n",
    "    print(f'Somando os valores {valores} temos {s}')\n",
    "    \n",
    "\n",
    "soma(5, 2)\n",
    "soma(2, 9, 4)"
   ]
  },
  {
   "cell_type": "markdown",
   "id": "0a89fc87",
   "metadata": {},
   "source": [
    "# Desafios"
   ]
  },
  {
   "cell_type": "code",
   "execution_count": 3,
   "id": "cbfe25ab",
   "metadata": {
    "ExecuteTime": {
     "end_time": "2021-06-09T09:45:13.330362Z",
     "start_time": "2021-06-09T09:45:12.135799Z"
    }
   },
   "outputs": [
    {
     "name": "stdout",
     "output_type": "stream",
     "text": [
      "Controle de Terrenos\n",
      "------------------------------\n",
      "LARGURA (m): 5\n",
      "COMPRIMENTO (m): 4\n",
      "A área de um terreno 5.0x4.0 é de 20.0m2\n"
     ]
    }
   ],
   "source": [
    "# 96. Faça um programa que tenha uma função chamada área(), que receba as dimensões de um terreno retangular\n",
    "## (largura e comprimento) e mostre a área do terreno.\n",
    "\n",
    "def area(larg, comp):\n",
    "    a = larg*comp\n",
    "    print(f'A área de um terreno {larg}x{comp} é de {a}m2')\n",
    "\n",
    "    \n",
    "# Programa principal\n",
    "print('Controle de Terrenos')\n",
    "print('-'*30)\n",
    "l = float(input('LARGURA (m): '))\n",
    "c = float(input('COMPRIMENTO (m): '))   \n",
    "area(l, c)\n",
    "\n",
    "\n"
   ]
  },
  {
   "cell_type": "code",
   "execution_count": 6,
   "id": "d4189a2c",
   "metadata": {
    "ExecuteTime": {
     "end_time": "2021-06-09T09:48:53.510919Z",
     "start_time": "2021-06-09T09:48:53.501411Z"
    }
   },
   "outputs": [
    {
     "name": "stdout",
     "output_type": "stream",
     "text": [
      "~~~~~~~~~~~~~~~~~~~~~\n",
      "  Gustavo Guanabara\n",
      "~~~~~~~~~~~~~~~~~~~~~\n",
      "~~~~~~~~~~~~~~~~~~~~~~~~~~~~~~\n",
      "  Curso de Python no Youtube\n",
      "~~~~~~~~~~~~~~~~~~~~~~~~~~~~~~\n",
      "~~~~~~~\n",
      "  CeV\n",
      "~~~~~~~\n"
     ]
    }
   ],
   "source": [
    "# 97. Faça um programa que tenha uma função chamda escreva(), que receba um texto qualquer como parâmetro e mostre uma\n",
    "## mensagem com tamanho adaptável.\n",
    "## Ex: escreva('Olá Mundo!')\n",
    "## Saida: ------------\n",
    "##         Olá Mundo!\n",
    "##        ------------\n",
    "\n",
    "def escreva(txt):\n",
    "    tam=len(txt) + 4 \n",
    "    print('~'*tam)\n",
    "    print(f'  {txt}')\n",
    "    print('~'*tam)\n",
    "\n",
    "    \n",
    "# Programa principal\n",
    "escreva('Gustavo Guanabara')\n",
    "escreva('Curso de Python no Youtube')\n",
    "escreva('CeV')\n"
   ]
  },
  {
   "cell_type": "code",
   "execution_count": 79,
   "id": "bbacc528",
   "metadata": {
    "ExecuteTime": {
     "end_time": "2021-06-04T14:58:30.820372Z",
     "start_time": "2021-06-04T14:58:26.387793Z"
    },
    "scrolled": true
   },
   "outputs": [
    {
     "name": "stdout",
     "output_type": "stream",
     "text": [
      "-=-=-=-=-=-=-=-=-=-=-=-=-=-=-=-=-=-=-=-=-=-=-=-=-=-=-=-=-=-=\n",
      "Contagem de 1 até 10 de 1 em 1\n",
      "1 2 3 4 5 6 7 8 9 10 FIM!\n",
      "-=-=-=-=-=-=-=-=-=-=-=-=-=-=-=-=-=-=-=-=-=-=-=-=-=-=-=-=-=-=\n",
      "Contagem de 10 até 0 de 2 em 2\n",
      "10 8 6 4 2 0 FIM!\n",
      "-=-=-=-=-=-=-=-=-=-=-=-=-=-=-=-=-=-=-=-=-=-=-=-=-=-=-=-=-=-=\n",
      "Agora é sua vez de personalizar a contagem!\n",
      "Início: 5\n",
      "Fim: -5\n",
      "Passo: 1\n",
      "-=-=-=-=-=-=-=-=-=-=-=-=-=-=-=-=-=-=-=-=-=-=-=-=-=-=-=-=-=-=\n",
      "Contagem de 5 até -5 de 1 em 1\n",
      "5 4 3 2 1 0 -1 -2 -3 -4 -5 FIM!\n"
     ]
    }
   ],
   "source": [
    "# 98. Faça um programa que tenha um função chamada contador(), que receba três parâmetros: início, fim e passo e realize a contagem\n",
    "## Seu programa tem que realizar três contagens através da função criada:\n",
    "## a) De 1 até 10, de 1 em 1\n",
    "## b) De 10 até 0, de 2 em 2\n",
    "## c) Uma contagem personalizada.\n",
    "from time import sleep\n",
    "\n",
    "def contador(i, f, p):\n",
    "    print('-='*30)\n",
    "    print(f'Contagem de {i} até {f} de {abs(p)} em {abs(p)}')\n",
    "    if f > i and p>0:\n",
    "        for c in range (i, f+1, p):\n",
    "            print(f'{c} ', end='')\n",
    "    elif i > f and p>0:\n",
    "         for c in range (i, f-1, -p):\n",
    "            print(f'{c} ', end='')\n",
    "    elif p<0:\n",
    "        for c in range (i, f-1, p):\n",
    "            print(f'{c} ', end='')\n",
    "    elif p == 0:\n",
    "        for c in range (i, f-1, 1):\n",
    "            print(f'{c} ', end='')\n",
    "    print('FIM!')\n",
    "\n",
    "\n",
    "contador(1, 10, 1)\n",
    "contador(10, 0, 2)\n",
    "print('-='*30)\n",
    "print('Agora é sua vez de personalizar a contagem!')\n",
    "a = int(input('Início: '))\n",
    "b = int(input('Fim: '))\n",
    "c = int(input('Passo: '))\n",
    "contador(a, b, c)\n"
   ]
  },
  {
   "cell_type": "code",
   "execution_count": 13,
   "id": "59552b34",
   "metadata": {
    "ExecuteTime": {
     "end_time": "2021-06-09T10:01:47.377774Z",
     "start_time": "2021-06-09T10:01:25.169602Z"
    }
   },
   "outputs": [
    {
     "name": "stdout",
     "output_type": "stream",
     "text": [
      "-=-=-=-=-=-=-=-=-=-=-=-=-=-=-=-=-=-=-=-=-=-=-=-=-=-=-=-=-=-=\n",
      "Contagem de 1 até 10 de 1 em 1\n",
      "1 2 3 4 5 6 7 8 9 10 FIM!\n",
      "-=-=-=-=-=-=-=-=-=-=-=-=-=-=-=-=-=-=-=-=-=-=-=-=-=-=-=-=-=-=\n",
      "Contagem de 10 até 0 de 2 em 2\n",
      "10 8 6 4 2 0 FIM!\n",
      "-=-=-=-=-=-=-=-=-=-=-=-=-=-=-=-=-=-=-=-=-=-=-=-=-=-=-=-=-=-=\n",
      "Agora é sua vez de personalizar a contagem!\n",
      "Início: -10\n",
      "Fim: 10\n",
      "Passo: -4\n",
      "-=-=-=-=-=-=-=-=-=-=-=-=-=-=-=-=-=-=-=-=-=-=-=-=-=-=-=-=-=-=\n",
      "Contagem de -10 até 10 de -4 em -4\n",
      "-10 -6 -2 2 6 10 FIM!\n"
     ]
    }
   ],
   "source": [
    "# 98. Faça um programa que tenha um função chamada contador(), que receba três parâmetros: início, fim e passo e realize a contagem\n",
    "## Seu programa tem que realizar três contagens através da função criada:\n",
    "## a) De 1 até 10, de 1 em 1\n",
    "## b) De 10 até 0, de 2 em 2\n",
    "## c) Uma contagem personalizada.\n",
    "from time import sleep\n",
    "\n",
    "def contador(i, f, p):\n",
    "    if p<0:\n",
    "        p *= -1\n",
    "    if p == 0:\n",
    "        p = 1\n",
    "    print('-='*30)\n",
    "    print(f'Contagem de {i} até {f} de {p} em {p}')\n",
    "    sleep(1.5)  \n",
    "    if i < f and p>0:\n",
    "        cont=i\n",
    "        while cont <= f:\n",
    "            print(f'{cont} ', end='', flush=True)\n",
    "            sleep(0.25)\n",
    "            cont += p\n",
    "        print('FIM!')\n",
    "    else:\n",
    "        cont=i\n",
    "        while cont >=f:\n",
    "            print(f'{cont} ', end='', flush=True)\n",
    "            sleep(0.25)\n",
    "            cont -= p\n",
    "        print('FIM!')\n",
    "\n",
    "\n",
    "\n",
    "contador(1, 10, 1)\n",
    "contador(10, 0, 2)\n",
    "print('-='*30)\n",
    "print('Agora é sua vez de personalizar a contagem!')\n",
    "a = int(input('Início: '))\n",
    "b = int(input('Fim: '))\n",
    "c = int(input('Passo: '))\n",
    "contador(a, b, c)\n"
   ]
  },
  {
   "cell_type": "code",
   "execution_count": 85,
   "id": "f554c45a",
   "metadata": {
    "ExecuteTime": {
     "end_time": "2021-06-04T15:10:46.254131Z",
     "start_time": "2021-06-04T15:10:46.240119Z"
    },
    "scrolled": true
   },
   "outputs": [
    {
     "name": "stdout",
     "output_type": "stream",
     "text": [
      "-=-=-=-=-=-=-=-=-=-=-=-=-=-=-=-=-=-=-=-=-=-=-=-=-=-=-=-=-=-=\n",
      "Analisando os valores passados...\n",
      "Foram informados 6 valores ao todo.\n",
      "O maior valor informado foi 9.\n",
      "-=-=-=-=-=-=-=-=-=-=-=-=-=-=-=-=-=-=-=-=-=-=-=-=-=-=-=-=-=-=\n",
      "Analisando os valores passados...\n",
      "Foram informados 3 valores ao todo.\n",
      "O maior valor informado foi 7.\n",
      "-=-=-=-=-=-=-=-=-=-=-=-=-=-=-=-=-=-=-=-=-=-=-=-=-=-=-=-=-=-=\n",
      "Analisando os valores passados...\n",
      "Foram informados 2 valores ao todo.\n",
      "O maior valor informado foi 2.\n",
      "-=-=-=-=-=-=-=-=-=-=-=-=-=-=-=-=-=-=-=-=-=-=-=-=-=-=-=-=-=-=\n",
      "Analisando os valores passados...\n",
      "Foram informados 1 valores ao todo.\n",
      "O maior valor informado foi 6.\n",
      "-=-=-=-=-=-=-=-=-=-=-=-=-=-=-=-=-=-=-=-=-=-=-=-=-=-=-=-=-=-=\n",
      "Analisando os valores passados...\n",
      "Foram informados 0 valores ao todo.\n",
      "O maior valor informado foi 0.\n"
     ]
    }
   ],
   "source": [
    "# 99. Faça um programa que tenha uma função chamada maior(), que receba vários parâmetros com valores inteiros.\n",
    "## Seu programa tem que analisar todos od valores e dizer qual deles é o maior.\n",
    "\n",
    "def maior(*num):\n",
    "    c = maior = 0\n",
    "    print('-='*30)\n",
    "    print('Analisando os valores passados...')\n",
    "    if num == (''):\n",
    "        print(f'Foram informados 0 valores ao todo.')\n",
    "        print(f'O maior valor informado foi 0.')\n",
    "    while c != len(num):\n",
    "        for v in num:\n",
    "            if c == 0:\n",
    "                maior = v\n",
    "            else:\n",
    "                if v > maior:\n",
    "                    maior = v        \n",
    "        c += 1\n",
    "    print(f'Foram informados {len(num)} valores ao todo.')\n",
    "    print(f'O maior valor informado foi {maior}.')\n",
    "\n",
    "\n",
    "maior(2, 9, 4, 5, 7, 1)\n",
    "maior(4, 7, 0)\n",
    "maior(1, 2)\n",
    "maior(6)\n",
    "maior()"
   ]
  },
  {
   "cell_type": "code",
   "execution_count": 14,
   "id": "2a3432c1",
   "metadata": {
    "ExecuteTime": {
     "end_time": "2021-06-09T10:07:16.902995Z",
     "start_time": "2021-06-09T10:07:13.209104Z"
    }
   },
   "outputs": [
    {
     "name": "stdout",
     "output_type": "stream",
     "text": [
      "-=-=-=-=-=-=-=-=-=-=-=-=-=-=-=-=-=-=-=-=-=-=-=-=-=-=-=-=-=-=\n",
      "Analisando os valores passados...\n",
      "2 9 4 5 7 1 Foram informados 6 valores ao todo.\n",
      "O maior valor informado foi 9.\n",
      "-=-=-=-=-=-=-=-=-=-=-=-=-=-=-=-=-=-=-=-=-=-=-=-=-=-=-=-=-=-=\n",
      "Analisando os valores passados...\n",
      "4 7 0 Foram informados 3 valores ao todo.\n",
      "O maior valor informado foi 7.\n",
      "-=-=-=-=-=-=-=-=-=-=-=-=-=-=-=-=-=-=-=-=-=-=-=-=-=-=-=-=-=-=\n",
      "Analisando os valores passados...\n",
      "1 2 Foram informados 2 valores ao todo.\n",
      "O maior valor informado foi 2.\n",
      "-=-=-=-=-=-=-=-=-=-=-=-=-=-=-=-=-=-=-=-=-=-=-=-=-=-=-=-=-=-=\n",
      "Analisando os valores passados...\n",
      "6 Foram informados 1 valores ao todo.\n",
      "O maior valor informado foi 6.\n",
      "-=-=-=-=-=-=-=-=-=-=-=-=-=-=-=-=-=-=-=-=-=-=-=-=-=-=-=-=-=-=\n",
      "Analisando os valores passados...\n",
      "Foram informados 0 valores ao todo.\n",
      "O maior valor informado foi 0.\n"
     ]
    }
   ],
   "source": [
    "# 99. Faça um programa que tenha uma função chamada maior(), que receba vários parâmetros com valores inteiros.\n",
    "## Seu programa tem que analisar todos od valores e dizer qual deles é o maior.\n",
    "from time import sleep\n",
    "\n",
    "def maior(*num):\n",
    "    c = maior = 0\n",
    "    print('-='*30)\n",
    "    print('Analisando os valores passados...')\n",
    "    for v in num:\n",
    "        print(f'{v} ', end='', flush=True)\n",
    "        sleep(0.3)\n",
    "        if c == 0:\n",
    "            maior = v\n",
    "        else:\n",
    "            if v > maior:\n",
    "                maior = v        \n",
    "        c += 1\n",
    "    print(f'Foram informados {len(num)} valores ao todo.')\n",
    "    print(f'O maior valor informado foi {maior}.')\n",
    "\n",
    "\n",
    "maior(2, 9, 4, 5, 7, 1)\n",
    "maior(4, 7, 0)\n",
    "maior(1, 2)\n",
    "maior(6)\n",
    "maior()"
   ]
  },
  {
   "cell_type": "code",
   "execution_count": 16,
   "id": "ebc88bcb",
   "metadata": {
    "ExecuteTime": {
     "end_time": "2021-06-09T10:08:45.437027Z",
     "start_time": "2021-06-09T10:08:43.881725Z"
    }
   },
   "outputs": [
    {
     "name": "stdout",
     "output_type": "stream",
     "text": [
      "Sorteando 5 valores da lista: 4 5 2 5 2 PRONTO!\n",
      "Somando os valores pares de [4, 5, 2, 5, 2], temos 8\n"
     ]
    }
   ],
   "source": [
    "# 100. Faça um programa que tenha uma lista chamada números e duas funções chamadas sorteia() e somaPar().\n",
    "## A primeira função vai sortear 5 números e vai colocá-los dentro da lista e a segunda função vai mostrar a soma entre\n",
    "## todos os valores pares sorteados pela função anterior.\n",
    "from random import randint\n",
    "from time import sleep\n",
    "\n",
    "numeros = []\n",
    "even = []\n",
    "print('Sorteando 5 valores da lista: ', end='')\n",
    "def sorteia():\n",
    "    for c in range (0, 5):\n",
    "        numeros.append(randint(1, 10))\n",
    "    for v in numeros:\n",
    "        print(f'{v} ', end='', flush=True)\n",
    "        sleep(0.3)\n",
    "    print('PRONTO!')\n",
    "    \n",
    "def pares():\n",
    "    s = 0\n",
    "    for v in numeros:\n",
    "        if v%2 == 0:\n",
    "            even.append(v)\n",
    "            s += v\n",
    "    print(f'Somando os valores pares de {numeros}, temos {s}')\n",
    "    \n",
    "    \n",
    "sorteia()\n",
    "pares()\n"
   ]
  }
 ],
 "metadata": {
  "kernelspec": {
   "display_name": "Python 3",
   "language": "python",
   "name": "python3"
  },
  "language_info": {
   "codemirror_mode": {
    "name": "ipython",
    "version": 3
   },
   "file_extension": ".py",
   "mimetype": "text/x-python",
   "name": "python",
   "nbconvert_exporter": "python",
   "pygments_lexer": "ipython3",
   "version": "3.8.10"
  },
  "varInspector": {
   "cols": {
    "lenName": 16,
    "lenType": 16,
    "lenVar": 40
   },
   "kernels_config": {
    "python": {
     "delete_cmd_postfix": "",
     "delete_cmd_prefix": "del ",
     "library": "var_list.py",
     "varRefreshCmd": "print(var_dic_list())"
    },
    "r": {
     "delete_cmd_postfix": ") ",
     "delete_cmd_prefix": "rm(",
     "library": "var_list.r",
     "varRefreshCmd": "cat(var_dic_list()) "
    }
   },
   "types_to_exclude": [
    "module",
    "function",
    "builtin_function_or_method",
    "instance",
    "_Feature"
   ],
   "window_display": false
  }
 },
 "nbformat": 4,
 "nbformat_minor": 5
}
