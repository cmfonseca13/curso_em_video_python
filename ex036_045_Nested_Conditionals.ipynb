{
 "cells": [
  {
   "cell_type": "code",
   "execution_count": 7,
   "id": "3fccbe67",
   "metadata": {
    "ExecuteTime": {
     "end_time": "2021-05-21T17:54:39.295778Z",
     "start_time": "2021-05-21T17:54:36.492391Z"
    }
   },
   "outputs": [
    {
     "name": "stdout",
     "output_type": "stream",
     "text": [
      "Qual é seu nome? Ana\n",
      "Belo nome feminino.\n",
      "Tenha um bom dia, Ana!\n"
     ]
    }
   ],
   "source": [
    "nome = str(input('Qual é seu nome? '))\n",
    "if nome == 'Gustavo':\n",
    "    print('Que nome bonito!')\n",
    "elif nome == 'Pedro' or nome =='Maria' or nome == 'Paulo':\n",
    "    print('Seu nome é bem popular no Brail!')\n",
    "elif nome in 'Ana Cláudia Jéssica Juliana':\n",
    "    print('Belo nome feminino.')\n",
    "else:\n",
    "    print('Seu nome é bem normal.')\n",
    "print(f'Tenha um bom dia, {nome}!')"
   ]
  },
  {
   "cell_type": "code",
   "execution_count": 9,
   "id": "7a924c04",
   "metadata": {
    "ExecuteTime": {
     "end_time": "2021-05-21T17:55:19.911938Z",
     "start_time": "2021-05-21T17:55:15.465268Z"
    }
   },
   "outputs": [
    {
     "name": "stdout",
     "output_type": "stream",
     "text": [
      "Qual é seu nome? Paula\n",
      "Tenha um bom dia, Paula!\n"
     ]
    }
   ],
   "source": [
    "nome = str(input('Qual é seu nome? '))\n",
    "if nome == 'Gustavo':\n",
    "    print('Que nome bonito!')\n",
    "elif nome == 'Pedro' or nome =='Maria' or nome == 'Paulo':\n",
    "    print('Seu nome é bem popular no Brail!')\n",
    "elif nome in 'Ana Cláudia Jéssica Juliana':\n",
    "    print('Belo nome feminino.')\n",
    "print(f'Tenha um bom dia, {nome}!')"
   ]
  },
  {
   "cell_type": "markdown",
   "id": "983a60ba",
   "metadata": {},
   "source": [
    "# Desafios"
   ]
  },
  {
   "cell_type": "code",
   "execution_count": 21,
   "id": "13309a8d",
   "metadata": {
    "ExecuteTime": {
     "end_time": "2021-05-22T14:39:05.825254Z",
     "start_time": "2021-05-22T14:39:01.305766Z"
    }
   },
   "outputs": [
    {
     "name": "stdout",
     "output_type": "stream",
     "text": [
      "Para determinar os detalhes do seu empréstimo bancário necessito de saber, qual o valor da casa? 80000\n",
      "Qual é o seu salário? 1600\n",
      "E em quantos anos vai pagar o seu empréstimo? 7\n",
      "Para pagar uma casa de 80000.00€, a sua prestação será 952.38€ e o seu salário mensal é de 1600.00. \n",
      "Infelizmente o seu empréstimo não pode ser finaciado.\n"
     ]
    }
   ],
   "source": [
    "# 36. Escreva um programa para aprovar o empréstimo bancário para a compra de uma casa.\n",
    "## O programa vai perguntar o valor da casa, o salário do comprador e em quantos anos ele vai pagar.\n",
    "## Calcule o valor da prestação mensal, sabendo que ele não pode exceder 30% do salário ou então o empréstimo será negado.\n",
    "\n",
    "house = float(input('Para determinar os detalhes do seu empréstimo bancário necessito de saber, qual o valor da casa? '))\n",
    "salary = float(input('Qual é o seu salário? '))\n",
    "years = int(input('E em quantos anos vai pagar o seu empréstimo? '))\n",
    "month_pay = house / years / 12\n",
    "if month_pay < salary*0.3:\n",
    "    print(f'Parabéns! A sua casa será financiada a {years} anos, com uma prestação mensal de {month_pay:.2f}€')\n",
    "else:\n",
    "    print(f'Para pagar uma casa de {house:.2f}€, a sua prestação será {month_pay:.2f}€ e o seu salário mensal é de {salary:.2f}€. \\nInfelizmente o seu empréstimo não pode ser finaciado.')\n"
   ]
  },
  {
   "cell_type": "code",
   "execution_count": 29,
   "id": "47bb856e",
   "metadata": {
    "ExecuteTime": {
     "end_time": "2021-05-22T14:56:16.089410Z",
     "start_time": "2021-05-22T14:56:13.020697Z"
    }
   },
   "outputs": [
    {
     "name": "stdout",
     "output_type": "stream",
     "text": [
      "Digite um número inteiro: 93\n",
      "Escolha uma das bases para conversão:\n",
      "[ 1 ] converter para BINÁRIO\n",
      "[ 2 ] converter para OCTAL\n",
      "[ 3 ] converter para HEXADECIMAL\n",
      "Sua opção: 1\n",
      "93 convertido para BINÁRIO é igual a 1011101\n"
     ]
    }
   ],
   "source": [
    "# 37. Escreva um programa que leia um número inteiro qualquer e peça para o usuário escolher qual será a base de conversão:\n",
    "## 1 para binário\n",
    "## 2 para octal\n",
    "## 3 para hexadecimal\n",
    "\n",
    "n = int(input('Digite um número inteiro: '))\n",
    "print('''Escolha uma das bases para conversão:\n",
    "[ 1 ] converter para BINÁRIO\n",
    "[ 2 ] converter para OCTAL\n",
    "[ 3 ] converter para HEXADECIMAL''')\n",
    "option = int(input('Sua opção: '))\n",
    "binary = bin(n)\n",
    "octal = oct(n)\n",
    "hexadec = hex(n)\n",
    "if option == 1:\n",
    "    print(f'{n} convertido para BINÁRIO é igual a {binary[2:]}')\n",
    "elif option == 2:\n",
    "    print(f'{n} convertido para OCTAL é igual a {octal[2:]}')\n",
    "elif option == 3:\n",
    "    print(f'{n} convertido para HEXADECIMAL é igual a {hexadec[2:]}')\n",
    "else:\n",
    "    (print('Opção inválida. Tente novamente.'))"
   ]
  },
  {
   "cell_type": "code",
   "execution_count": 10,
   "id": "74a35b41",
   "metadata": {
    "ExecuteTime": {
     "end_time": "2021-05-21T21:20:40.854950Z",
     "start_time": "2021-05-21T21:20:39.491459Z"
    }
   },
   "outputs": [
    {
     "name": "stdout",
     "output_type": "stream",
     "text": [
      "Digite um número: 5\n",
      "Digite outro número: 5\n",
      "Não existe valor maior, os dois são iguais.\n"
     ]
    }
   ],
   "source": [
    "# 38. Escreva um programa que leia dois números inteiros e compare-os, mostrando na tela uma mensagem:\n",
    "## O primeiro valor é maior.\n",
    "## O segundo valor é maior.\n",
    "## Não existe valor maior, os dois são iguais.\n",
    "\n",
    "first = int(input('Digite um número: '))\n",
    "second = int(input('Digite outro número: '))\n",
    "if first>second:\n",
    "    print('O primeiro valor é maior.')\n",
    "elif second>first:\n",
    "    print('O segundo valor é maior.')\n",
    "else:\n",
    "    print('Não existe valor maior, os dois são iguais.')\n"
   ]
  },
  {
   "cell_type": "code",
   "execution_count": 30,
   "id": "07a2b2ca",
   "metadata": {
    "ExecuteTime": {
     "end_time": "2021-05-22T14:58:23.524629Z",
     "start_time": "2021-05-22T14:58:22.013435Z"
    }
   },
   "outputs": [
    {
     "name": "stdout",
     "output_type": "stream",
     "text": [
      "Em que ano você nasceu? 2000\n",
      "Já passaram 3 anos da hora de se alistar!\n"
     ]
    }
   ],
   "source": [
    "# 39. Faça um programa que leia o ano de nascimento de um jovem e informe, de acordo com sua idade:\n",
    "## Se ele ainda vai se alistar ao serviço militar.\n",
    "## Se é a hora de se alistar.\n",
    "## Se já passou do tempo do alistamento.\n",
    "## Seu programa também deverá mostrar o tempo que falta ou que passou do prazo.\n",
    "## Idade de alistamento = 18\n",
    "import datetime\n",
    "\n",
    "year = int(input('Em que ano você nasceu? '))\n",
    "age = datetime.datetime.now().year-year\n",
    "time = abs(age-18)\n",
    "if age<18:\n",
    "    print(f'Volte daqui a {time} anos, ainda não está na altura de se alistar!')\n",
    "elif age==18:\n",
    "    print('Bem-vindo! Está na hora de se alistar!')\n",
    "else:\n",
    "    print(f'Já passaram {time} anos da hora de se alistar!')"
   ]
  },
  {
   "cell_type": "code",
   "execution_count": 31,
   "id": "4ce8edc8",
   "metadata": {
    "ExecuteTime": {
     "end_time": "2021-05-22T15:00:54.219777Z",
     "start_time": "2021-05-22T15:00:51.339275Z"
    }
   },
   "outputs": [
    {
     "name": "stdout",
     "output_type": "stream",
     "text": [
      "Qual foi a sua nota no exame de Biologia e Geologia? 6.9\n",
      "E no de Matemática? 6.9\n",
      "RECUPERAÇÃO!\n"
     ]
    }
   ],
   "source": [
    "# 40. Crie um programa que leia duas notas de um aluno e calcule a sua média, mostrando uma mensagem no final, de acordo com a média atingida:\n",
    "## Média abaixo de 5.0: REPROVADO\n",
    "## Média entre 5.0 e 6.9: RECUPERAÇÃO\n",
    "## Média 7.0 ou superior: APROVADO\n",
    "\n",
    "n1 = float(input('Qual foi a sua nota no exame de Biologia e Geologia? '))\n",
    "n2 = float(input('E no de Matemática? '))\n",
    "if (n1+n2)/2 <5.0:\n",
    "    print('REPROVADO!')\n",
    "elif (n1+n2)/2>=5 and (n1+n2)/2<=6.9:\n",
    "    print('RECUPERAÇÃO!')\n",
    "else:\n",
    "    print('APROVADO!')\n"
   ]
  },
  {
   "cell_type": "code",
   "execution_count": 32,
   "id": "c94a15d7",
   "metadata": {
    "ExecuteTime": {
     "end_time": "2021-05-22T15:02:41.409414Z",
     "start_time": "2021-05-22T15:02:37.000673Z"
    }
   },
   "outputs": [
    {
     "name": "stdout",
     "output_type": "stream",
     "text": [
      "Em que ano nasceu? 2003\n",
      "O atleta tem 18 anos.\n",
      "Classificação: JÚNIOR\n"
     ]
    }
   ],
   "source": [
    "# 41. A Confederação Nacional de Natação precisa de um programa que leia o ano de nascimento de um atleta e mostre sua categoria, de acordo com a idade:\n",
    "## Até 9 anos : MIRIM\n",
    "## Até 14 anos : INFANTIL\n",
    "## Até 19 anos : JÚNIOR\n",
    "## Até 30 anos : SÉNIOR\n",
    "## Acima : MASTER\n",
    "import datetime\n",
    "year =  int(input('Em que ano nasceu? '))\n",
    "age = datetime.datetime.now().year-year\n",
    "print(f'O atleta tem {age} anos.')\n",
    "if age <9:\n",
    "    print('Classificação: MIRIM')\n",
    "elif age >=9 and age<14:\n",
    "    print('Classificação: INFANTIL')\n",
    "elif age >=14 and age<19:\n",
    "    print('Classificação: JÚNIOR')\n",
    "elif age >=19 and age<25:\n",
    "    print('Classificação: SÉNIOR')\n",
    "else:\n",
    "    print('Classificação: MASTER')"
   ]
  },
  {
   "cell_type": "code",
   "execution_count": 30,
   "id": "5faae84f",
   "metadata": {
    "ExecuteTime": {
     "end_time": "2021-05-21T21:49:47.200680Z",
     "start_time": "2021-05-21T21:49:44.391571Z"
    }
   },
   "outputs": [
    {
     "name": "stdout",
     "output_type": "stream",
     "text": [
      "-=--=--=--=--=--=--=--=--=--=--=--=--=--=--=--=--=--=--=--=-\n",
      "Analisador de Triângulos\n",
      "-=--=--=--=--=--=--=--=--=--=--=--=--=--=--=--=--=--=--=--=-\n",
      "Primeiro segmento: 5\n",
      "Segundo segmento: 4\n",
      "Terceito segmento: 3\n",
      "Então os três segmentos podem formar um triângulo! E esse triângulo será escaleno!\n"
     ]
    }
   ],
   "source": [
    "# 42. Refaça o desafio #035 dos triângulos, acrescentando o recurso de mostrar que tipo de triângulo será formado:\n",
    "## Equilátero\n",
    "## Isósceles\n",
    "## Escaleno\n",
    "## Assistir resolução\n",
    "\n",
    "print('-=-'*20)\n",
    "print('Analisador de Triângulos')\n",
    "print('-=-'*20)\n",
    "\n",
    "l1 = float(input('Primeiro segmento: '))\n",
    "l2 = float(input('Segundo segmento: '))\n",
    "l3 = float(input('Terceito segmento: '))\n",
    "if (l1+l2) > l3 and (l1+l3) > l2 and (l3+l2) > l1 and l1==l2 and l2==l3:\n",
    "    print('Então os três segmentos podem formar um triângulo! E esse triângulo será equilátero!')\n",
    "elif (l1+l2) > l3 and (l1+l3) > l2 and (l3+l2) > l1 and l1==l2 or l2==l3 or l1==l3:\n",
    "    print('Então os três segmentos podem formar um triângulo! E esse triângulo será isósceles!')\n",
    "elif (l1+l2) > l3 and (l1+l3) > l2 and (l3+l2) > l1 and l1!=l2 and l2!=l3 and l1!=l3:\n",
    "    print('Então os três segmentos podem formar um triângulo! E esse triângulo será escaleno!')\n",
    "else:\n",
    "    print('Então os três segmentos não podem formar um triângulo!')\n"
   ]
  },
  {
   "cell_type": "code",
   "execution_count": 38,
   "id": "a032b734",
   "metadata": {
    "ExecuteTime": {
     "end_time": "2021-05-22T15:09:47.363485Z",
     "start_time": "2021-05-22T15:09:45.796684Z"
    }
   },
   "outputs": [
    {
     "name": "stdout",
     "output_type": "stream",
     "text": [
      "-=--=--=--=--=--=--=--=--=--=--=--=--=--=--=--=--=--=--=--=-\n",
      "Analisador de Triângulos\n",
      "-=--=--=--=--=--=--=--=--=--=--=--=--=--=--=--=--=--=--=--=-\n",
      "Primeiro segmento: 4\n",
      "Segundo segmento: 2\n",
      "Terceito segmento: 4\n",
      "Então os três segmentos podem formar um triângulo!\n",
      "ISÓSCELES!\n"
     ]
    }
   ],
   "source": [
    "# 42. Refaça o desafio #035 dos triângulos, acrescentando o recurso de mostrar que tipo de triângulo será formado:\n",
    "## Equilátero\n",
    "## Isósceles\n",
    "## Escaleno\n",
    "## Assistir resolução\n",
    "\n",
    "print('-=-'*20)\n",
    "print('Analisador de Triângulos')\n",
    "print('-=-'*20)\n",
    "\n",
    "l1 = float(input('Primeiro segmento: '))\n",
    "l2 = float(input('Segundo segmento: '))\n",
    "l3 = float(input('Terceito segmento: '))\n",
    "if (l1+l2) > l3 and (l1+l3) > l2 and (l3+l2) > l1:\n",
    "    print('Então os três segmentos podem formar um triângulo!')\n",
    "    if l1==l2 ==l3:\n",
    "        print('EQUILÁTERO!')\n",
    "    elif l1 != l2 != l3 != l1:\n",
    "        print('ESCALENO!')\n",
    "    else:\n",
    "        print('ISÓSCELES!')\n",
    "else:\n",
    "    print('Então os três segmentos não podem formar um triângulo!')"
   ]
  },
  {
   "cell_type": "code",
   "execution_count": 37,
   "id": "06197a7d",
   "metadata": {
    "ExecuteTime": {
     "end_time": "2021-05-21T21:57:05.056134Z",
     "start_time": "2021-05-21T21:57:01.492465Z"
    }
   },
   "outputs": [
    {
     "name": "stdout",
     "output_type": "stream",
     "text": [
      "Qual é a sua altura? 1.52\n",
      "Qual é o seu peso? 80\n",
      "Tem de perder peso. Tem obesidade.\n"
     ]
    }
   ],
   "source": [
    "# 43. Desenvolva uma lógica que leia o peso e a altura de uma pessoa, colcule seu IMC e mostre seu status, de acordo com a tabela abaixo:\n",
    "## Abaixo de 18.5: Abaixo de Peso\n",
    "## Entre 18.5 e 25: Peso ideal\n",
    "## 25 até 30: Sobrepeso\n",
    "## 30 a 40: Obesidade\n",
    "## Acima de 40: Obesidade mórbida\n",
    "## IMC = Peso ÷ (altura x altura)\n",
    "height = float(input('Qual é a sua altura? (Kg) '))\n",
    "weight = float(input('Qual é o seu peso? (m) '))\n",
    "imc = weight/(height**2)\n",
    "if imc < 18.5:\n",
    "    print('Está abaixo do peso desejável.')\n",
    "elif imc >=18.5 and imc<25:\n",
    "    print('Tem o peso ideal! Parabéns!')\n",
    "elif imc >=25 and imc<30:\n",
    "    print('Infelizmente está com sobrepeso.')\n",
    "elif imc >=30 and imc<40:\n",
    "    print('Tem de perder peso. Tem obesidade.')\n",
    "else:\n",
    "    print('Tem de perder peso urgentemente pois tem obesidade mórbida.')\n",
    "\n"
   ]
  },
  {
   "cell_type": "code",
   "execution_count": 15,
   "id": "ff8b08d7",
   "metadata": {
    "ExecuteTime": {
     "end_time": "2021-05-22T14:32:43.701586Z",
     "start_time": "2021-05-22T14:32:22.950857Z"
    }
   },
   "outputs": [
    {
     "name": "stdout",
     "output_type": "stream",
     "text": [
      "Quanto custa o produto? 1250\n",
      "Qual será o método de pagamento? cartõa\n",
      "Irá pagar à vista ou a prestações? pretações\n",
      "Muito bem, faremos o parcelamento.\n",
      "Em quantas prestações?3\n",
      "Muito bem, terá de pagar 1500.0€ , uma vez que acrescenta 20% de juros.\n"
     ]
    }
   ],
   "source": [
    "# 44. Elabora um programa que calcule o valor a ser pago por um produto, considerando o seu preço normal e condição de pagamento:\n",
    "## à vista dinheiro/cheque: 10% de desconto\n",
    "## à vista no cartão: 5% de desconto\n",
    "## em até 2x no cartão: preço normal\n",
    "## 3x ou mais no cartão: 20% de juros no valor total\n",
    "\n",
    "price = float(input('Quanto custa o produto? '))\n",
    "payment = str(input('Qual será o método de pagamento? '))\n",
    "if payment == 'dinheiro' or payment == 'cheque':\n",
    "    print('Muito bem, terá de pagar {price:.2f}€ sem juros.')\n",
    "elif payment == 'cartão':\n",
    "    print('Muito bem, fazemos o pagamento em ca rtão. Mas preciso de mais algumas informações.')\n",
    "card = str(input('Irá pagar à vista ou a prestações? ').lower())\n",
    "if card == 'à vista':\n",
    "    print('Muito bem, terá de pagar {}€'.format(price*0.95))\n",
    "else:\n",
    "    print('Muito bem, faremos o parcelamento.')\n",
    "stages = int(input('Em quantas prestações?'))\n",
    "if stages <=2:\n",
    "    print(f'Muito bem, terá de pagar {price}€ sem juros.')\n",
    "else:\n",
    "    print('Muito bem, terá de pagar {}€ , uma vez que acrescenta 20% de juros.'.format(price*1.2))"
   ]
  },
  {
   "cell_type": "code",
   "execution_count": 8,
   "id": "0872ce8f",
   "metadata": {
    "ExecuteTime": {
     "end_time": "2021-05-23T12:15:30.253130Z",
     "start_time": "2021-05-23T12:15:24.693514Z"
    }
   },
   "outputs": [
    {
     "name": "stdout",
     "output_type": "stream",
     "text": [
      "Preço das compras: R$5\n",
      "Formas de pagamento:\n",
      "[ 1 ] à vista dinheiro/cheque\n",
      "[ 2 ] à vista cartão\n",
      "[ 3 ] 2x no cartão\n",
      "[ 4 ] 3x ou mais no cartão\n",
      "Qual é a opção?5\n",
      "OPÇÃO INVÁLIDA  de pagamento. Tente novamente!\n",
      "Sua compra de R$5.00 vai custar R$0.00.\n"
     ]
    }
   ],
   "source": [
    "# 44. Elabora um programa que calcule o valor a ser pago por um produto, considerando o seu preço normal e condição de pagamento:\n",
    "## à vista dinheiro/cheque: 10% de desconto\n",
    "## à vista no cartão: 5% de desconto\n",
    "## em até 2x no cartão: preço normal\n",
    "## 3x ou mais no cartão: 20% de juros no valor total\n",
    "\n",
    "price = float(input('Preço das compras: R$'))\n",
    "print('''Formas de pagamento:\n",
    "[ 1 ] à vista dinheiro/cheque\n",
    "[ 2 ] à vista cartão\n",
    "[ 3 ] 2x no cartão\n",
    "[ 4 ] 3x ou mais no cartão''')\n",
    "payment = int(input('Qual é a opção?'))\n",
    "\n",
    "if payment == 1:\n",
    "    total = price*0.90\n",
    "elif payment == 2:\n",
    "    total = price*0.95\n",
    "elif payment ==3:\n",
    "    total = price\n",
    "    parcela = total/2\n",
    "    print(f'Sua compra será parcelada em 2x de R${parcela:.2f} SEM JUROS')\n",
    "elif payment ==4:\n",
    "    total = price*1.2\n",
    "    totpac = int(input('Quantas parcelas? '))\n",
    "    parcela = total/totpac\n",
    "    print(f'Sua compra será parcelada em {totpac}x de R${parcela:.2f} COM JUROS.')\n",
    "else:\n",
    "    total = price\n",
    "    print('OPÇÃO INVÁLIDA  de pagamento. Tente novamente!')\n",
    "  \n",
    "print(f'Sua compra de R${price:.2f} vai custar R${total:.2f}.')\n"
   ]
  },
  {
   "cell_type": "code",
   "execution_count": 23,
   "id": "79dc9286",
   "metadata": {
    "ExecuteTime": {
     "end_time": "2021-05-23T12:32:24.904549Z",
     "start_time": "2021-05-23T12:32:19.943394Z"
    }
   },
   "outputs": [
    {
     "name": "stdout",
     "output_type": "stream",
     "text": [
      "Vamos jogar Jokenpô! \n",
      "[ 0 ] Pedra\n",
      "[ 1 ] Papel\n",
      "[ 2 ] Tesoura\n",
      "Qual é sua jogada? 2\n",
      "JO\n",
      "KEN\n",
      "PO!!!!\n",
      "-=-=-=-=-=-=-=-=-=-=-=-=-=-=-=-=-=-=-=-=\n",
      "Computador jogou Tesoura\n",
      "Jogador jogou Tesoura\n",
      "-=-=-=-=-=-=-=-=-=-=-=-=-=-=-=-=-=-=-=-=\n",
      "EMPATE!\n"
     ]
    }
   ],
   "source": [
    "# 45. Crie um programa que faça o computador jogar Jokenpô (pedra, papel, tesoura) com você.\n",
    "import random\n",
    "from time import sleep\n",
    "print('''Vamos jogar Jokenpô! \n",
    "[ 0 ] Pedra\n",
    "[ 1 ] Papel\n",
    "[ 2 ] Tesoura''')\n",
    "player_1 = int(input('Qual é sua jogada? '))\n",
    "player_2 = random.randint(0,2)\n",
    "\n",
    "sleep(1)\n",
    "print('JO')\n",
    "sleep(1)\n",
    "print('KEN')\n",
    "sleep(1)\n",
    "print('PO!!!!')\n",
    "sleep(1)\n",
    "print('-='*20)\n",
    "if player_2 == 0:\n",
    "    print('Computador jogou Pedra')\n",
    "elif player_2 ==1:\n",
    "    print('Computador jogou Papel')\n",
    "else:\n",
    "    print('Computador jogou Tesoura')\n",
    "if player_1 == 0:\n",
    "    print('Jogador jogou Pedra')\n",
    "elif player_1 ==1:\n",
    "    print('Jogador jogou Papel')\n",
    "else:\n",
    "    print('Jogador jogou Tesoura')\n",
    "print('-='*20)\n",
    "\n",
    "if player_1 == player_2:\n",
    "    print('EMPATE!')\n",
    "elif player_1 == 0 and player_2 ==1:\n",
    "    print('JOGADOR VENCE!')\n",
    "elif player_1 == 2 and player_2 ==0:\n",
    "    print('COMPUTADOR VENCE!')\n",
    "elif player_1 == 1 and player_2 ==2:\n",
    "    print('COMPUTADOR VENCE!')\n",
    "else:\n",
    "    print('JOGADOR VENCE!')"
   ]
  },
  {
   "cell_type": "code",
   "execution_count": 30,
   "id": "495d9b14",
   "metadata": {
    "ExecuteTime": {
     "end_time": "2021-05-23T13:26:26.973638Z",
     "start_time": "2021-05-23T13:26:21.652698Z"
    }
   },
   "outputs": [
    {
     "name": "stdout",
     "output_type": "stream",
     "text": [
      "Vamos jogar Jokenpô! \n",
      "[ 0 ] Pedra\n",
      "[ 1 ] Papel\n",
      "[ 2 ] Tesoura\n",
      "Qual é sua jogada? 0\n",
      "JO\n",
      "KEN\n",
      "PO!!!!\n",
      "-=-=-=-=-=-=-=-=-=-=-=-=-=-=-=-=-=-=-=-=\n",
      "O computador escolheu Pedra\n",
      "O jogador escolheu Pedra\n",
      "-=-=-=-=-=-=-=-=-=-=-=-=-=-=-=-=-=-=-=-=\n",
      "EMPATE!\n"
     ]
    }
   ],
   "source": [
    "# 45. Crie um programa que faça o computador jogar Jokenpô (pedra, papel, tesoura) com você.\n",
    "import random\n",
    "from time import sleep\n",
    "print('''Vamos jogar Jokenpô! \n",
    "[ 0 ] Pedra\n",
    "[ 1 ] Papel\n",
    "[ 2 ] Tesoura''')\n",
    "player_1 = int(input('Qual é sua jogada? '))\n",
    "player_2 = random.randint(0,2)\n",
    "item = ('Pedra', 'Papel', 'Tesoura')\n",
    "sleep(1)\n",
    "print('JO')\n",
    "sleep(1)\n",
    "print('KEN')\n",
    "sleep(1)\n",
    "print('PO!!!!')\n",
    "sleep(1)\n",
    "print('-='*20)\n",
    "print('O computador escolheu {}'.format(item[player_2]))\n",
    "print('O jogador escolheu {}'.format(item[player_1]))\n",
    "print('-='*20)\n",
    "\n",
    "if player_2 == 0:   #computador jogou PEDRA\n",
    "    if player_1 == 0:\n",
    "        print('EMPATE!')        \n",
    "    elif player_1 ==1:\n",
    "        print('JOGADOR VENCE!')    \n",
    "    elif player_1 ==2:\n",
    "        print('COMPUTADOR VENCE!')  \n",
    "    else:\n",
    "        print('JOGADA INVÁLIDA!')\n",
    "elif player_2 == 1:    #computador jogou PAPEL\n",
    "    if player_1 == 0:\n",
    "        print('COMPUTADOR VENCE!') \n",
    "    elif player_1 ==1:\n",
    "        print('EMPATE!')\n",
    "    elif player_1 ==2:\n",
    "        print('JOGADOR VENCE!')   \n",
    "    else:\n",
    "        print('JOGADA INVÁLIDA!')\n",
    "elif player_2 == 2:    #computador jogou TESOURA\n",
    "    if player_1 == 0:\n",
    "        print('JOGADOR VENCE!')   \n",
    "    elif player_1 ==1:\n",
    "        print('COMPUTADOR VENCE!')\n",
    "    elif player_1 ==2:\n",
    "        print('EMPATE!')\n",
    "    else:\n",
    "        print('JOGADA INVÁLIDA!') \n"
   ]
  }
 ],
 "metadata": {
  "kernelspec": {
   "display_name": "Python 3",
   "language": "python",
   "name": "python3"
  },
  "language_info": {
   "codemirror_mode": {
    "name": "ipython",
    "version": 3
   },
   "file_extension": ".py",
   "mimetype": "text/x-python",
   "name": "python",
   "nbconvert_exporter": "python",
   "pygments_lexer": "ipython3",
   "version": "3.8.10"
  },
  "varInspector": {
   "cols": {
    "lenName": 16,
    "lenType": 16,
    "lenVar": 40
   },
   "kernels_config": {
    "python": {
     "delete_cmd_postfix": "",
     "delete_cmd_prefix": "del ",
     "library": "var_list.py",
     "varRefreshCmd": "print(var_dic_list())"
    },
    "r": {
     "delete_cmd_postfix": ") ",
     "delete_cmd_prefix": "rm(",
     "library": "var_list.r",
     "varRefreshCmd": "cat(var_dic_list()) "
    }
   },
   "types_to_exclude": [
    "module",
    "function",
    "builtin_function_or_method",
    "instance",
    "_Feature"
   ],
   "window_display": false
  }
 },
 "nbformat": 4,
 "nbformat_minor": 5
}
