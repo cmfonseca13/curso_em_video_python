{
 "cells": [
  {
   "cell_type": "code",
   "execution_count": 2,
   "id": "ca85145c",
   "metadata": {
    "ExecuteTime": {
     "end_time": "2021-05-31T15:00:46.298970Z",
     "start_time": "2021-05-31T15:00:46.294467Z"
    }
   },
   "outputs": [
    {
     "name": "stdout",
     "output_type": "stream",
     "text": [
      "[2, 5, 9, 1]\n"
     ]
    }
   ],
   "source": [
    "num = [2, 5, 9, 1]\n",
    "\n",
    "print(num)"
   ]
  },
  {
   "cell_type": "code",
   "execution_count": 3,
   "id": "48a9b49a",
   "metadata": {
    "ExecuteTime": {
     "end_time": "2021-05-31T15:00:57.521083Z",
     "start_time": "2021-05-31T15:00:57.515579Z"
    }
   },
   "outputs": [
    {
     "name": "stdout",
     "output_type": "stream",
     "text": [
      "[2, 5, 3, 1]\n"
     ]
    }
   ],
   "source": [
    "num = [2, 5, 9, 1]\n",
    "num [2] = 3\n",
    "print(num)"
   ]
  },
  {
   "cell_type": "code",
   "execution_count": 1,
   "id": "35807edd",
   "metadata": {
    "ExecuteTime": {
     "end_time": "2021-06-29T12:00:10.366856Z",
     "start_time": "2021-06-29T12:00:10.355354Z"
    }
   },
   "outputs": [
    {
     "ename": "IndexError",
     "evalue": "list assignment index out of range",
     "output_type": "error",
     "traceback": [
      "\u001b[0;31m---------------------------------------------------------------------------\u001b[0m",
      "\u001b[0;31mIndexError\u001b[0m                                Traceback (most recent call last)",
      "\u001b[0;32m<ipython-input-1-60019e297c75>\u001b[0m in \u001b[0;36m<module>\u001b[0;34m\u001b[0m\n\u001b[1;32m      1\u001b[0m \u001b[0mnum\u001b[0m \u001b[0;34m=\u001b[0m \u001b[0;34m[\u001b[0m\u001b[0;36m2\u001b[0m\u001b[0;34m,\u001b[0m \u001b[0;36m5\u001b[0m\u001b[0;34m,\u001b[0m \u001b[0;36m9\u001b[0m\u001b[0;34m,\u001b[0m \u001b[0;36m1\u001b[0m\u001b[0;34m]\u001b[0m\u001b[0;34m\u001b[0m\u001b[0;34m\u001b[0m\u001b[0m\n\u001b[0;32m----> 2\u001b[0;31m \u001b[0mnum\u001b[0m \u001b[0;34m[\u001b[0m\u001b[0;36m4\u001b[0m\u001b[0;34m]\u001b[0m \u001b[0;34m=\u001b[0m \u001b[0;36m7\u001b[0m\u001b[0;34m\u001b[0m\u001b[0;34m\u001b[0m\u001b[0m\n\u001b[0m\u001b[1;32m      3\u001b[0m \u001b[0mprint\u001b[0m\u001b[0;34m(\u001b[0m\u001b[0mnum\u001b[0m\u001b[0;34m)\u001b[0m\u001b[0;34m\u001b[0m\u001b[0;34m\u001b[0m\u001b[0m\n",
      "\u001b[0;31mIndexError\u001b[0m: list assignment index out of range"
     ]
    }
   ],
   "source": [
    "num = [2, 5, 9, 1]\n",
    "num [4] = 7\n",
    "print(num)"
   ]
  },
  {
   "cell_type": "code",
   "execution_count": 5,
   "id": "49bd2183",
   "metadata": {
    "ExecuteTime": {
     "end_time": "2021-05-31T15:01:35.668026Z",
     "start_time": "2021-05-31T15:01:35.662021Z"
    }
   },
   "outputs": [
    {
     "name": "stdout",
     "output_type": "stream",
     "text": [
      "[2, 5, 9, 1, 7]\n"
     ]
    }
   ],
   "source": [
    "num = [2, 5, 9, 1]\n",
    "num.append(7)\n",
    "print(num)"
   ]
  },
  {
   "cell_type": "code",
   "execution_count": 6,
   "id": "7e89c39a",
   "metadata": {
    "ExecuteTime": {
     "end_time": "2021-05-31T15:01:50.101897Z",
     "start_time": "2021-05-31T15:01:50.098394Z"
    }
   },
   "outputs": [
    {
     "name": "stdout",
     "output_type": "stream",
     "text": [
      "[1, 2, 5, 9]\n"
     ]
    }
   ],
   "source": [
    "num = [2, 5, 9, 1]\n",
    "num.sort()\n",
    "print(num)"
   ]
  },
  {
   "cell_type": "code",
   "execution_count": 11,
   "id": "2271c2a8",
   "metadata": {
    "ExecuteTime": {
     "end_time": "2021-05-31T15:03:45.146143Z",
     "start_time": "2021-05-31T15:03:45.130192Z"
    }
   },
   "outputs": [
    {
     "name": "stdout",
     "output_type": "stream",
     "text": [
      "[7, 5, 3, 2, 1]\n",
      "Esta lista tem 5 elementos.\n"
     ]
    }
   ],
   "source": [
    "num = [2, 5, 9, 1]\n",
    "num [2] = 3\n",
    "num.append(7)\n",
    "num.sort(reverse=True)\n",
    "print(num)\n",
    "print(f'Esta lista tem {len(num)} elementos.')"
   ]
  },
  {
   "cell_type": "code",
   "execution_count": 59,
   "id": "8802451b",
   "metadata": {
    "ExecuteTime": {
     "end_time": "2021-05-31T17:42:05.679877Z",
     "start_time": "2021-05-31T17:42:05.664574Z"
    }
   },
   "outputs": [
    {
     "name": "stdout",
     "output_type": "stream",
     "text": [
      "[7, 5, 0, 3, 2, 1]\n",
      "Esta lista tem 6 elementos.\n"
     ]
    }
   ],
   "source": [
    "num = [2, 5, 9, 1]\n",
    "num [2] = 3\n",
    "num.append(7)\n",
    "num.sort(reverse=True)\n",
    "num.insert(2, 0)\n",
    "print(num)\n",
    "print(f'Esta lista tem {len(num)} elementos.')"
   ]
  },
  {
   "cell_type": "code",
   "execution_count": 13,
   "id": "234493e1",
   "metadata": {
    "ExecuteTime": {
     "end_time": "2021-05-31T15:04:22.508348Z",
     "start_time": "2021-05-31T15:04:22.498339Z"
    }
   },
   "outputs": [
    {
     "name": "stdout",
     "output_type": "stream",
     "text": [
      "[7, 5, 0, 3, 2]\n",
      "Esta lista tem 5 elementos.\n"
     ]
    }
   ],
   "source": [
    "num = [2, 5, 9, 1]\n",
    "num [2] = 3 # Troca o elemento que está na posição 2 por 3\n",
    "num.append(7) # Adiciona o elemento 7 na posição 0\n",
    "num.sort(reverse=True) # Ordena de forma descendente\n",
    "num.insert(2, 0)  # Insere na posição 2 o elemento 0\n",
    "num.pop() # Elimina o elemento que está na última posição\n",
    "print(num)\n",
    "print(f'Esta lista tem {len(num)} elementos.')"
   ]
  },
  {
   "cell_type": "code",
   "execution_count": 14,
   "id": "e209859f",
   "metadata": {
    "ExecuteTime": {
     "end_time": "2021-05-31T15:04:28.607730Z",
     "start_time": "2021-05-31T15:04:28.594218Z"
    }
   },
   "outputs": [
    {
     "name": "stdout",
     "output_type": "stream",
     "text": [
      "[7, 5, 3, 2, 1]\n",
      "Esta lista tem 5 elementos.\n"
     ]
    }
   ],
   "source": [
    "num = [2, 5, 9, 1]\n",
    "num [2] = 3\n",
    "num.append(7)\n",
    "num.sort(reverse=True)\n",
    "num.insert(2, 0) \n",
    "num.pop(2) # Elimina o elemento que está na posição 2\n",
    "print(num)\n",
    "print(f'Esta lista tem {len(num)} elementos.')"
   ]
  },
  {
   "cell_type": "code",
   "execution_count": 18,
   "id": "0a7ba2bb",
   "metadata": {
    "ExecuteTime": {
     "end_time": "2021-05-31T15:07:42.437278Z",
     "start_time": "2021-05-31T15:07:42.428270Z"
    }
   },
   "outputs": [
    {
     "name": "stdout",
     "output_type": "stream",
     "text": [
      "[7, 5, 3, 2, 1]\n",
      "Esta lista tem 5 elementos.\n"
     ]
    }
   ],
   "source": [
    "num = [2, 5, 9, 1]\n",
    "num [2] = 3 # Troca o elemento que está na posição 2 por 3\n",
    "num.append(7) # Adiciona o elemento 7 na posição 0\n",
    "num.sort(reverse=True) # Ordena de forma descendente\n",
    "num.insert(2, 2)  # Insere na posição 2 o elemento 2\n",
    "num.remove(2) # Elimina o primeiro elemento 2 (a primeira ocorrência, dá para remover todos com laços\n",
    "print(num)\n",
    "print(f'Esta lista tem {len(num)} elementos.')"
   ]
  },
  {
   "cell_type": "code",
   "execution_count": 19,
   "id": "3d93d411",
   "metadata": {
    "ExecuteTime": {
     "end_time": "2021-05-31T15:09:42.319934Z",
     "start_time": "2021-05-31T15:09:42.304416Z"
    }
   },
   "outputs": [
    {
     "name": "stdout",
     "output_type": "stream",
     "text": [
      "Não achei o número 4.\n",
      "[7, 5, 2, 3, 2, 1]\n",
      "Esta lista tem 6 elementos.\n"
     ]
    }
   ],
   "source": [
    "num = [2, 5, 9, 1]\n",
    "num [2] = 3 # Troca o elemento que está na posição 2 por 3\n",
    "num.append(7) # Adiciona o elemento 7 na posição 0\n",
    "num.sort(reverse=True) # Ordena de forma descendente\n",
    "num.insert(2, 2)  # Insere na posição 2 o elemento 2\n",
    "if 4 in num:\n",
    "    num.remove(4) # Elimina o elemento 4 se ele existir na lista\n",
    "else:\n",
    "    print('Não achei o número 4.')\n",
    "print(num)\n",
    "print(f'Esta lista tem {len(num)} elementos.')"
   ]
  },
  {
   "cell_type": "code",
   "execution_count": 21,
   "id": "611b7b79",
   "metadata": {
    "ExecuteTime": {
     "end_time": "2021-05-31T15:10:17.209946Z",
     "start_time": "2021-05-31T15:10:17.193957Z"
    }
   },
   "outputs": [
    {
     "name": "stdout",
     "output_type": "stream",
     "text": [
      "[7, 2, 3, 2, 1]\n",
      "Esta lista tem 5 elementos.\n"
     ]
    }
   ],
   "source": [
    "num = [2, 5, 9, 1]\n",
    "num [2] = 3 # Troca o elemento que está na posição 2 por 3\n",
    "num.append(7) # Adiciona o elemento 7 na posição 0\n",
    "num.sort(reverse=True) # Ordena de forma descendente\n",
    "num.insert(2, 2)  # Insere na posição 2 o elemento 2\n",
    "if 5 in num:\n",
    "    num.remove(5) # Elimina o elemento 5 se ele existir na lista\n",
    "else:\n",
    "    print('Não achei o número 5.')\n",
    "print(num)\n",
    "print(f'Esta lista tem {len(num)} elementos.')"
   ]
  },
  {
   "cell_type": "code",
   "execution_count": 24,
   "id": "f6961244",
   "metadata": {
    "ExecuteTime": {
     "end_time": "2021-05-31T15:12:03.674720Z",
     "start_time": "2021-05-31T15:12:03.659707Z"
    }
   },
   "outputs": [
    {
     "name": "stdout",
     "output_type": "stream",
     "text": [
      "5...9...4..."
     ]
    }
   ],
   "source": [
    "# Fazer o print da lista com output personalizado \n",
    "valores = []\n",
    "valores.append(5)\n",
    "valores.append(9)\n",
    "valores.append(4)\n",
    "\n",
    "for v in valores:\n",
    "    print(f'{v}...', end='')\n"
   ]
  },
  {
   "cell_type": "code",
   "execution_count": 27,
   "id": "960f4558",
   "metadata": {
    "ExecuteTime": {
     "end_time": "2021-05-31T15:13:25.256960Z",
     "start_time": "2021-05-31T15:13:25.240446Z"
    }
   },
   "outputs": [
    {
     "name": "stdout",
     "output_type": "stream",
     "text": [
      "Na posição 0 encontrei o valor 5!\n",
      "Na posição 1 encontrei o valor 9!\n",
      "Na posição 2 encontrei o valor 4!\n",
      "Cheguei ao final da lista.\n"
     ]
    }
   ],
   "source": [
    "valores = []\n",
    "valores.append(5)\n",
    "valores.append(9)\n",
    "valores.append(4)\n",
    "\n",
    "for c, v in enumerate(valores):\n",
    "    print(f'Na posição {c} encontrei o valor {v}!')\n",
    "print('Cheguei ao final da lista.')"
   ]
  },
  {
   "cell_type": "code",
   "execution_count": 29,
   "id": "6b91e1fb",
   "metadata": {
    "ExecuteTime": {
     "end_time": "2021-05-31T15:22:07.743284Z",
     "start_time": "2021-05-31T15:22:07.732305Z"
    }
   },
   "outputs": [
    {
     "name": "stdout",
     "output_type": "stream",
     "text": [
      "Lista a: [2, 3, 8, 7]\n",
      "Lista b: [2, 3, 8, 7]\n"
     ]
    }
   ],
   "source": [
    "# A partir do momento que se iguala aas listas, o Python cria uma ligação entre elas\n",
    "## Qualquer alteração que seja feita em b, também será automaticamente feita em a\n",
    "a = [2, 3, 4, 7]\n",
    "b = a\n",
    "b[2] = 8  \n",
    "print(f'Lista a: {a}')\n",
    "print(f'Lista b: {b}')"
   ]
  },
  {
   "cell_type": "code",
   "execution_count": 30,
   "id": "cae633c6",
   "metadata": {
    "ExecuteTime": {
     "end_time": "2021-05-31T15:24:05.108029Z",
     "start_time": "2021-05-31T15:24:05.099022Z"
    }
   },
   "outputs": [
    {
     "name": "stdout",
     "output_type": "stream",
     "text": [
      "Lista a: [2, 3, 4, 7]\n",
      "Lista b: [2, 3, 8, 7]\n"
     ]
    }
   ],
   "source": [
    "# Como fazer cópia de lista, sem elas estarem ligadas entre si:\n",
    "a = [2, 3, 4, 7]\n",
    "b = a[:]   # b recebe todos os elementos de a (faz cópia)\n",
    "b[2] = 8  \n",
    "print(f'Lista a: {a}')\n",
    "print(f'Lista b: {b}')"
   ]
  },
  {
   "cell_type": "markdown",
   "id": "8b14849a",
   "metadata": {},
   "source": [
    "# Desafios"
   ]
  },
  {
   "cell_type": "code",
   "execution_count": 37,
   "id": "18a04905",
   "metadata": {
    "ExecuteTime": {
     "end_time": "2021-05-31T15:58:21.841090Z",
     "start_time": "2021-05-31T15:58:18.597970Z"
    }
   },
   "outputs": [
    {
     "name": "stdout",
     "output_type": "stream",
     "text": [
      "Digite um valor para a posição 0: 1\n",
      "Digite um valor para a posição 1: 8\n",
      "Digite um valor para a posição 2: 3\n",
      "Digite um valor para a posição 3: 8\n",
      "Digite um valor para a posição 4: 1\n",
      "=-=-=-=-=-=-=-=-=-=-=-=-=-=-=-=-=-=-=-=-=-=-=-=-=-=-=-=-=-=-\n",
      "Você digitou os valores [1, 8, 3, 8, 1]\n",
      "O maior valor digitado foi 8 nas posições 1... 3... \n",
      "O menor valor digitado foi 1 nas posições 0... 4... "
     ]
    }
   ],
   "source": [
    "# 78. Faça um programa que leia 5 valores numéricos e guarde-os em uma lista.\n",
    "## No final, mostre qual foi o maior e o menor valor digitado e as suas respetivas posições na lista.\n",
    "\n",
    "n = []\n",
    "for c in range (0,5):\n",
    "    n.append(int(input(f'Digite um valor para a posição {c}: ')))\n",
    "print('=-'*30)\n",
    "print(f'Você digitou os valores {n}')\n",
    "print(f'O maior valor digitado foi {max(n)} nas posições ', end='')\n",
    "for c , v in enumerate(n):\n",
    "    if v == max(n):\n",
    "        print(f'{c}... ', end='')\n",
    "print(f'\\nO menor valor digitado foi {min(n)} nas posições ', end='')\n",
    "for c, v in enumerate(n):\n",
    "    if v == min(n):\n",
    "        print(f'{c}... ', end='')\n"
   ]
  },
  {
   "cell_type": "code",
   "execution_count": 41,
   "id": "5430c168",
   "metadata": {
    "ExecuteTime": {
     "end_time": "2021-05-31T16:15:06.582475Z",
     "start_time": "2021-05-31T16:14:27.880864Z"
    }
   },
   "outputs": [
    {
     "name": "stdout",
     "output_type": "stream",
     "text": [
      "Digite um valor: 1\n",
      "Valor adicionado com sucesso...\n",
      "Quer continuar? [S/N]s\n",
      "Digite um valor: 6\n",
      "Valor adicionado com sucesso...\n",
      "Quer continuar? [S/N]s\n",
      "Digite um valor: 9\n",
      "Valor adicionado com sucesso...\n",
      "Quer continuar? [S/N]s\n",
      "Digite um valor: 6\n",
      "Valor duplicado! Não vou adicionar...\n",
      "Quer continuar? [S/N]s\n",
      "Digite um valor: 1\n",
      "Valor duplicado! Não vou adicionar...\n",
      "Quer continuar? [S/N]n\n",
      "-=-=-=-=-=-=-=-=-=-=-=-=-=-=-=-=-=-=-=-=-=-=-=-=-=-=-=-=-=-=\n",
      "Você digitou os valores [1, 6, 9]\n"
     ]
    }
   ],
   "source": [
    "# 79. Crie um programa onde o usuário possa digitar vários valores numéricos e cadastre-os em uma lista.\n",
    "## Caso o número já exista lá dentro, ele não será adicionado.\n",
    "## No final, serão exibidos todos os valores únicos digitados, em ordem crescente.\n",
    "val = []\n",
    "con = ' '\n",
    "while con not in 'nN':\n",
    "    n = int(input('Digite um valor: '))\n",
    "    if n not in val:\n",
    "        val.append(n)\n",
    "        print('Valor adicionado com sucesso...')\n",
    "    else:\n",
    "        print('Valor duplicado! Não vou adicionar...')\n",
    "    con = str(input('Quer continuar? [S/N]'))\n",
    "print('-='*30)\n",
    "print(f'Você digitou os valores {val}')\n"
   ]
  },
  {
   "cell_type": "code",
   "execution_count": 50,
   "id": "820bb199",
   "metadata": {
    "ExecuteTime": {
     "end_time": "2021-05-31T17:30:46.149977Z",
     "start_time": "2021-05-31T17:30:24.746642Z"
    }
   },
   "outputs": [
    {
     "name": "stdout",
     "output_type": "stream",
     "text": [
      "Digite um valor: 8\n",
      "Adicionado no final da lista...\n",
      "Digite um valor: 1\n",
      "Adicionado na posição 0 da lista...\n",
      "Digite um valor: 7\n",
      "Adicionado na posição 1 da lista...\n",
      "Digite um valor: 10\n",
      "Adicionado no final da lista...\n",
      "Digite um valor: 0\n",
      "Adicionado na posição 0 da lista...\n",
      "-=-=-=-=-=-=-=-=-=-=-=-=-=-=-=-=-=-=-=-=-=-=-=-=-=-=-=-=-=-=\n",
      "Os valores digitados em ordem foram [0, 1, 7, 8, 10].\n"
     ]
    }
   ],
   "source": [
    "# 80. Crie um programa onde o usuário possa digitar cindo valores numéricos e cadastre-os em uma lista, já na posição correta de inserção (sem user o sort()).\n",
    "## No final, mostre a lista ordenada na tela.\n",
    "\n",
    "val = []\n",
    "for c in range (0,5):\n",
    "    n = int(input('Digite um valor: '))\n",
    "    if c == 0 or n > val[-1]:\n",
    "        val.append(n)\n",
    "        print('Adicionado no final da lista...')\n",
    "    else:\n",
    "        pos = 0\n",
    "        while pos < len(val):\n",
    "            if n<= val[pos]:\n",
    "                val.insert(pos, n)\n",
    "                print(f'Adicionado na posição {pos} da lista...')\n",
    "                break\n",
    "            pos += 1\n",
    "print('-='*30)\n",
    "print(f'Os valores digitados em ordem foram {val}.')"
   ]
  },
  {
   "cell_type": "code",
   "execution_count": 61,
   "id": "59f50497",
   "metadata": {
    "ExecuteTime": {
     "end_time": "2021-05-31T17:43:16.332062Z",
     "start_time": "2021-05-31T17:43:06.221742Z"
    }
   },
   "outputs": [
    {
     "name": "stdout",
     "output_type": "stream",
     "text": [
      "Digite um valor: 7\n",
      "Quer continuar? [S/N]s\n",
      "Digite um valor: 2\n",
      "Quer continuar? [S/N]s\n",
      "Digite um valor: 5\n",
      "Quer continuar? [S/N]s\n",
      "Digite um valor: 9\n",
      "Quer continuar? [S/N]s\n",
      "Digite um valor: 1\n",
      "Quer continuar? [S/N]n\n",
      "-=-=-=-=-=-=-=-=-=-=-=-=-=-=-=-=-=-=-=-=-=-=-=-=-=-=-=-=-=-=\n",
      "Você digitou 5 elementos.\n",
      "Os valores em ordem decrescente são [9, 7, 5, 2, 1]\n",
      "O valor 5 faz parte da lista!\n"
     ]
    }
   ],
   "source": [
    "# 81. Crie um programa que vai ler vários números e colocar em uma lista.\n",
    "## Depois disso, mostre:\n",
    "## a) quantos números foram digitados.\n",
    "## b) a lista de valores, ordenada de forma decrescente\n",
    "## c) se o valor 5 foi digitado e está ou não na lista.\n",
    "\n",
    "n = []\n",
    "con = ' '\n",
    "while con not in 'nN':\n",
    "    n.append(int(input('Digite um valor: ')))\n",
    "    con = str(input('Quer continuar? [S/N]'))\n",
    "print('-='*30)\n",
    "print(f'Você digitou {len(n)} elementos.')\n",
    "n.sort(reverse=True)\n",
    "print(f'Os valores em ordem decrescente são {n}')\n",
    "if 5 in n:\n",
    "    print('O valor 5 faz parte da lista!')\n",
    "else:\n",
    "    print('O valor 5 não foi encontrado na lista!')"
   ]
  },
  {
   "cell_type": "code",
   "execution_count": 66,
   "id": "c1ac5521",
   "metadata": {
    "ExecuteTime": {
     "end_time": "2021-05-31T18:01:09.864615Z",
     "start_time": "2021-05-31T18:00:53.574362Z"
    }
   },
   "outputs": [
    {
     "name": "stdout",
     "output_type": "stream",
     "text": [
      "Digite um número: 7\n",
      "Quer continuar? [S/N] s\n",
      "Digite um número: 9\n",
      "Quer continuar? [S/N] s\n",
      "Digite um número: 2\n",
      "Quer continuar? [S/N] s\n",
      "Digite um número: 6\n",
      "Quer continuar? [S/N] s\n",
      "Digite um número: 8\n",
      "Quer continuar? [S/N] n\n",
      "-=-=-=-=-=-=-=-=-=-=-=-=-=-=-=-=-=-=-=-=-=-=-=-=-=-=-=-=-=-=\n",
      "A lista completa é [7, 9, 2, 6, 8]\n",
      "A lista de pares é [2, 6, 8]\n",
      "A lista de ímpares é [7, 9]\n"
     ]
    }
   ],
   "source": [
    "# 82. Crie um programa que vai ler vários números e colocar em uma lista.\n",
    "## Depois disso, crie duas listas extras que vão conter apenas os valores pares e os valores ímpares digitados, respectivamente.\n",
    "## No final, mostre o conteúdo das três listas geradas.\n",
    "\n",
    "n = []\n",
    "par = []\n",
    "impar = []\n",
    "while True:\n",
    "    n.append(int(input('Digite um número: ')))\n",
    "    con = str(input('Quer continuar? [S/N] '))\n",
    "    if con in 'Nn':\n",
    "        break\n",
    "for pos, val in enumerate(n):\n",
    "    if val%2 == 0:\n",
    "        par.append(val)\n",
    "    else:\n",
    "        impar.append(val)\n",
    "print('-='*30)\n",
    "print(f'A lista completa é {n}')\n",
    "print(f'A lista de pares é {par}')\n",
    "print(f'A lista de ímpares é {impar}')"
   ]
  },
  {
   "cell_type": "code",
   "execution_count": 73,
   "id": "5f238778",
   "metadata": {
    "ExecuteTime": {
     "end_time": "2021-05-31T18:19:53.480279Z",
     "start_time": "2021-05-31T18:19:45.199296Z"
    }
   },
   "outputs": [
    {
     "name": "stdout",
     "output_type": "stream",
     "text": [
      "Digite a expressão: (x(y(z))\n",
      "Sua expressão está errada!\n"
     ]
    }
   ],
   "source": [
    "# 83. Crie um programa onde o usuário digite uma expressão qualquer que use parêntesis.\n",
    "## Seu aplicativo deverá analisar se a expressão passada está com os parêntesis abertos e fechados na ordem correta.\n",
    "\n",
    "exp = []\n",
    "n = str(input('Digite a expressão: '))\n",
    "for simb in n:\n",
    "    if simb == '(':\n",
    "        exp.append('(')\n",
    "    elif simb == ')':\n",
    "        if len(exp) > 0:\n",
    "            exp.pop()\n",
    "        else:\n",
    "            exp.append(')')\n",
    "            break\n",
    "if len(exp) == 0:\n",
    "    print('Sua expressão está válida!')\n",
    "else:\n",
    "    print('Sua expressão está errada!')"
   ]
  }
 ],
 "metadata": {
  "kernelspec": {
   "display_name": "Python 3",
   "language": "python",
   "name": "python3"
  },
  "language_info": {
   "codemirror_mode": {
    "name": "ipython",
    "version": 3
   },
   "file_extension": ".py",
   "mimetype": "text/x-python",
   "name": "python",
   "nbconvert_exporter": "python",
   "pygments_lexer": "ipython3",
   "version": "3.8.10"
  },
  "varInspector": {
   "cols": {
    "lenName": 16,
    "lenType": 16,
    "lenVar": 40
   },
   "kernels_config": {
    "python": {
     "delete_cmd_postfix": "",
     "delete_cmd_prefix": "del ",
     "library": "var_list.py",
     "varRefreshCmd": "print(var_dic_list())"
    },
    "r": {
     "delete_cmd_postfix": ") ",
     "delete_cmd_prefix": "rm(",
     "library": "var_list.r",
     "varRefreshCmd": "cat(var_dic_list()) "
    }
   },
   "types_to_exclude": [
    "module",
    "function",
    "builtin_function_or_method",
    "instance",
    "_Feature"
   ],
   "window_display": false
  }
 },
 "nbformat": 4,
 "nbformat_minor": 5
}
