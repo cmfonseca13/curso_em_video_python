{
 "cells": [
  {
   "cell_type": "code",
   "execution_count": 2,
   "id": "8ba7a4cb",
   "metadata": {
    "ExecuteTime": {
     "end_time": "2021-06-10T09:18:36.277871Z",
     "start_time": "2021-06-10T09:18:36.270365Z"
    }
   },
   "outputs": [
    {
     "name": "stdout",
     "output_type": "stream",
     "text": [
      "Forward raw_input to frontends\n",
      "\n",
      "        Raises\n",
      "        ------\n",
      "        StdinNotImplentedError if active frontend doesn't support stdin.\n",
      "        \n"
     ]
    }
   ],
   "source": [
    "print(input.__doc__)"
   ]
  },
  {
   "cell_type": "code",
   "execution_count": 3,
   "id": "b082012d",
   "metadata": {
    "ExecuteTime": {
     "end_time": "2021-06-10T09:26:53.840181Z",
     "start_time": "2021-06-10T09:26:53.823520Z"
    }
   },
   "outputs": [
    {
     "name": "stdout",
     "output_type": "stream",
     "text": [
      "Help on function contador in module __main__:\n",
      "\n",
      "contador(i, f, p)\n",
      "    Faz uma contagem e mostra na tela.\n",
      "    -param i: início da contagem.\n",
      "\n"
     ]
    }
   ],
   "source": [
    "def contador (i, f, p):\n",
    "    \"\"\"\n",
    "    Faz uma contagem e mostra na tela.\n",
    "    -param i: início da contagem.\n",
    "    \"\"\"\n",
    "    c=i\n",
    "\n",
    "help(contador)"
   ]
  },
  {
   "cell_type": "code",
   "execution_count": 4,
   "id": "84aeed9b",
   "metadata": {
    "ExecuteTime": {
     "end_time": "2021-06-10T09:41:19.110203Z",
     "start_time": "2021-06-10T09:41:19.101696Z"
    },
    "scrolled": true
   },
   "outputs": [
    {
     "name": "stdout",
     "output_type": "stream",
     "text": [
      "N1 dentro vale 4\n",
      "N1 fora vale 2\n"
     ]
    }
   ],
   "source": [
    "def funcao():\n",
    "    n1 = 4\n",
    "    print(f'N1 dentro vale {n1}')  # escopo local\n",
    "    \n",
    "# Programa principal\n",
    "n1 = 2\n",
    "funcao()\n",
    "print(f'N1 fora vale {n1}')    # escopo global"
   ]
  },
  {
   "cell_type": "code",
   "execution_count": 5,
   "id": "880e1e49",
   "metadata": {
    "ExecuteTime": {
     "end_time": "2021-06-10T09:44:29.787449Z",
     "start_time": "2021-06-10T09:44:29.779942Z"
    }
   },
   "outputs": [
    {
     "name": "stdout",
     "output_type": "stream",
     "text": [
      "A dentro vale 8\n",
      "B dentro vale 9\n",
      "C dentro vale 2\n",
      "A fora vale 5\n"
     ]
    }
   ],
   "source": [
    "def teste (b):\n",
    "    a = 8      # Cria uma nova variável 'a' com escopo local. Diferente da variável 'a' do programa principal.\n",
    "    b += 4\n",
    "    c = 2\n",
    "    print(f'A dentro vale {a}')\n",
    "    print(f'B dentro vale {b}')\n",
    "    print(f'C dentro vale {c}')\n",
    "    \n",
    "# Programa principal\n",
    "a =5 \n",
    "teste(a)\n",
    "print(f'A fora vale {a}')"
   ]
  },
  {
   "cell_type": "code",
   "execution_count": 6,
   "id": "c03cfd60",
   "metadata": {
    "ExecuteTime": {
     "end_time": "2021-06-10T09:44:33.834095Z",
     "start_time": "2021-06-10T09:44:33.825083Z"
    }
   },
   "outputs": [
    {
     "name": "stdout",
     "output_type": "stream",
     "text": [
      "A dentro vale 8\n",
      "B dentro vale 9\n",
      "C dentro vale 2\n",
      "A fora vale 8\n"
     ]
    }
   ],
   "source": [
    "def teste (b):\n",
    "    global a    # Define que a variável 'a' que se está a usar é a global, ou seja, a que pertence ao programa pincipal\n",
    "    a = 8\n",
    "    b += 4\n",
    "    c = 2\n",
    "    print(f'A dentro vale {a}')\n",
    "    print(f'B dentro vale {b}')\n",
    "    print(f'C dentro vale {c}')\n",
    "    \n",
    "# Programa principal\n",
    "a =5 \n",
    "teste(a)\n",
    "print(f'A fora vale {a}')"
   ]
  },
  {
   "cell_type": "code",
   "execution_count": 7,
   "id": "8d002bc2",
   "metadata": {
    "ExecuteTime": {
     "end_time": "2021-06-10T09:47:05.607402Z",
     "start_time": "2021-06-10T09:47:05.603398Z"
    }
   },
   "outputs": [
    {
     "name": "stdout",
     "output_type": "stream",
     "text": [
      "A soma vale 10\n",
      "A soma vale 4\n",
      "A soma vale 6\n"
     ]
    }
   ],
   "source": [
    "# Retornando valores\n",
    "\n",
    "def somar (a=0, b=0, c=0):\n",
    "    s = a + b + c\n",
    "    return s      # faz com que o valor de 's' retorne à chamada da função no programa principal. \n",
    "                  # Neste caso, a variável 'resp' vai valer 's'\n",
    "    \n",
    "resp = somar(3, 2, 5)\n"
   ]
  },
  {
   "cell_type": "code",
   "execution_count": 8,
   "id": "4709efc8",
   "metadata": {
    "ExecuteTime": {
     "end_time": "2021-06-10T09:50:33.211406Z",
     "start_time": "2021-06-10T09:50:33.208905Z"
    }
   },
   "outputs": [
    {
     "name": "stdout",
     "output_type": "stream",
     "text": [
      "Meus cálculos deram 10, 8 e 4.\n"
     ]
    }
   ],
   "source": [
    "# Retornando valores\n",
    "\n",
    "def somar (a=0, b=0, c=0):\n",
    "    s = a + b + c\n",
    "    return s      # faz com que o valor de 's' retorne à chamada da função no programa principal. \n",
    "                  # Neste caso, as variáveis 'r1', 'r2' e 'r3' vão valer as respectivas somas 's'\n",
    "    \n",
    "r1 = somar(3, 2, 5)\n",
    "r2 = somar(1, 7)\n",
    "r3 = somar(4)\n",
    "print(f'Meus cálculos deram {r1}, {r2} e {r3}.')"
   ]
  },
  {
   "cell_type": "code",
   "execution_count": 9,
   "id": "c7095d34",
   "metadata": {
    "ExecuteTime": {
     "end_time": "2021-06-10T09:52:20.086036Z",
     "start_time": "2021-06-10T09:52:18.183532Z"
    }
   },
   "outputs": [
    {
     "name": "stdout",
     "output_type": "stream",
     "text": [
      "Digite um número:2\n",
      "O fatorial de 2 é igual a 2\n"
     ]
    }
   ],
   "source": [
    "def fatorial(num = 1):\n",
    "    f = 1\n",
    "    for c in range(num, 0, -1):\n",
    "        f *= c\n",
    "    return f\n",
    "\n",
    "n = int(input('Digite um número:'))\n",
    "print(f'O fatorial de {n} é igual a {fatorial(n)}')"
   ]
  },
  {
   "cell_type": "code",
   "execution_count": 10,
   "id": "0fb38b32",
   "metadata": {
    "ExecuteTime": {
     "end_time": "2021-06-10T09:53:12.398322Z",
     "start_time": "2021-06-10T09:53:12.388815Z"
    }
   },
   "outputs": [
    {
     "name": "stdout",
     "output_type": "stream",
     "text": [
      "Os resultados são 120, 24, 1\n"
     ]
    }
   ],
   "source": [
    "def fatorial(num = 1):\n",
    "    f = 1\n",
    "    for c in range(num, 0, -1):\n",
    "        f *= c\n",
    "    return f\n",
    "\n",
    "f1 = fatorial(5)\n",
    "f2 = fatorial(4)\n",
    "f3 = fatorial()\n",
    "print(f'Os resultados são {f1}, {f2}, {f3}')"
   ]
  },
  {
   "cell_type": "code",
   "execution_count": 13,
   "id": "289802ba",
   "metadata": {
    "ExecuteTime": {
     "end_time": "2021-06-10T09:54:25.836578Z",
     "start_time": "2021-06-10T09:54:25.341704Z"
    }
   },
   "outputs": [
    {
     "name": "stdout",
     "output_type": "stream",
     "text": [
      "Digite um número: 4\n",
      "True\n"
     ]
    }
   ],
   "source": [
    "def par(n=0):\n",
    "    if n%2 == 0:\n",
    "        return True\n",
    "    else:\n",
    "        return False\n",
    "    \n",
    "num = int(input('Digite um número: '))\n",
    "print(par(num))"
   ]
  },
  {
   "cell_type": "code",
   "execution_count": 14,
   "id": "60dd4b2e",
   "metadata": {
    "ExecuteTime": {
     "end_time": "2021-06-10T09:55:26.623085Z",
     "start_time": "2021-06-10T09:55:25.452584Z"
    }
   },
   "outputs": [
    {
     "name": "stdout",
     "output_type": "stream",
     "text": [
      "Digite um número: 5\n",
      "Não é par!\n"
     ]
    }
   ],
   "source": [
    "def par(n=0):\n",
    "    if n%2 == 0:\n",
    "        return True\n",
    "    else:\n",
    "        return False\n",
    "    \n",
    "num = int(input('Digite um número: '))\n",
    "if par(num):\n",
    "    print('É par!')\n",
    "else:\n",
    "    print('Não é par!')"
   ]
  },
  {
   "cell_type": "markdown",
   "id": "8c85ee09",
   "metadata": {},
   "source": [
    "# Desafios"
   ]
  },
  {
   "cell_type": "code",
   "execution_count": 28,
   "id": "e605ec20",
   "metadata": {
    "ExecuteTime": {
     "end_time": "2021-06-10T19:27:40.439894Z",
     "start_time": "2021-06-10T19:27:37.889211Z"
    }
   },
   "outputs": [
    {
     "name": "stdout",
     "output_type": "stream",
     "text": [
      "------------------------------\n",
      "Em que ano você nasceu? 2004\n"
     ]
    },
    {
     "data": {
      "text/plain": [
       "'Com 17 anos: VOTO OPCIONAL'"
      ]
     },
     "execution_count": 28,
     "metadata": {},
     "output_type": "execute_result"
    }
   ],
   "source": [
    "# 101. Crie um programa que tenha uma função chamada voto() que vai receber como parâmetro o ano de nascimento de uma pessoa,\n",
    "## retornando um valor literal indicando se uma pessoa tem voto NEGADO, OPCIONAL ou OBRIGATÓRIO nas eleições.\n",
    "\n",
    "def voto(num):\n",
    "    import datetime\n",
    "    now = datetime.date.today().year\n",
    "    ano =  now - num\n",
    "    if ano <16:\n",
    "        return f'Com {ano} anos: VOTO NEGADO'\n",
    "    elif 16 <= ano <18 or ano > 65:\n",
    "        return f'Com {ano} anos: VOTO OPCIONAL'\n",
    "    else:\n",
    "        return f'Com {ano} anos: VOTO OBRIGATÓRIO'\n",
    "\n",
    "print('-'*30)\n",
    "n = int(input('Em que ano você nasceu? '))\n",
    "voto(n)"
   ]
  },
  {
   "cell_type": "code",
   "execution_count": 3,
   "id": "27257ca2",
   "metadata": {
    "ExecuteTime": {
     "end_time": "2021-06-11T22:00:32.520183Z",
     "start_time": "2021-06-11T22:00:32.512177Z"
    }
   },
   "outputs": [
    {
     "name": "stdout",
     "output_type": "stream",
     "text": [
      "------------------------------\n",
      "5 x 4 x 3 x 2 x 1 = "
     ]
    },
    {
     "data": {
      "text/plain": [
       "120"
      ]
     },
     "execution_count": 3,
     "metadata": {},
     "output_type": "execute_result"
    }
   ],
   "source": [
    "# 102. Crie um programa que tenha uma função fatorial() que receba dois parâmetros: o primeiro que indique o número a calcular\n",
    "## e o outro chamado show, que será um valor lógico(opcional) indicando se será mostrado ou não na tela o processo de \n",
    "## cálculo do fatorial.\n",
    "\n",
    "def fatorial(n, show = False):\n",
    "    \"\"\"\n",
    "    -> Calcula o Fatorial de um número.\n",
    "    :param num: O número a ser calculado.\n",
    "    :param show: (opcional) Mostrar ou não a conta.\n",
    "    :return: O valor do Fatorial de um número n.\n",
    "    \"\"\"\n",
    "    f = 1\n",
    "    for c in range (n, 0, -1):\n",
    "        if show:\n",
    "            print(f'{c}', end='')\n",
    "            print(' x ' if c > 1 else ' = ', end='')\n",
    "        f = f*c\n",
    "    return f\n",
    "         \n",
    "print('-'*30)\n",
    "fatorial(5, True)\n",
    "\n"
   ]
  },
  {
   "cell_type": "code",
   "execution_count": 19,
   "id": "f65165f0",
   "metadata": {
    "ExecuteTime": {
     "end_time": "2021-06-11T22:15:13.244056Z",
     "start_time": "2021-06-11T22:15:09.708805Z"
    }
   },
   "outputs": [
    {
     "name": "stdout",
     "output_type": "stream",
     "text": [
      "Nome do Jogador: Paulo\n",
      "Número de Golos: t\n",
      "O jogador Paulo fez 0 golo(s) no campeonato.\n"
     ]
    }
   ],
   "source": [
    "# 103. Faça um programa que tenha uma função chamada ficha, que receba dois parâmetros opcionais: o nome de um jogador e \n",
    "## quantos golos ele marcou.\n",
    "## O programa deverá ser capaz de mostrar a ficha do jogador, mesmo que algum dado não tenha sido informado corretamente.\n",
    "\n",
    "def ficha (nome = '<desconhecido>', golos=0):\n",
    "    print(f'O jogador {nome} fez {golos} golo(s) no campeonato.')\n",
    "\n",
    "n = str(input('Nome do Jogador: '))\n",
    "g = str(input('Número de Golos: '))\n",
    "if g.isnumeric():\n",
    "    g = int(g)\n",
    "else:\n",
    "    g = 0\n",
    "if n.strip() == '':\n",
    "    ficha(golos = g)\n",
    "else:\n",
    "    ficha(n, g)\n"
   ]
  },
  {
   "cell_type": "code",
   "execution_count": 28,
   "id": "38b5ff2a",
   "metadata": {
    "ExecuteTime": {
     "end_time": "2021-06-11T22:26:43.668200Z",
     "start_time": "2021-06-11T22:26:39.514165Z"
    }
   },
   "outputs": [
    {
     "name": "stdout",
     "output_type": "stream",
     "text": [
      "Digite um número: t\n",
      "\u001b[0;31mERRO! Digite um número inteiro válido.\u001b[m\n",
      "Digite um número: 12\n",
      "Você acabou de digitar o número 12\n"
     ]
    }
   ],
   "source": [
    "# 104. Crie um programa que tenha a função leiaInt(), que vai funcionar de forma semelhante à função input do Python, só que\n",
    "## fazendo a validação para aceitar apenas um valor numérico.\n",
    "## Ex: n=leiaInt('Digite um n')\n",
    "\n",
    "def leiaInt(val):\n",
    "    num = str(input(val))\n",
    "    while num.isnumeric() is False:\n",
    "        print('\\033[0;31mERRO! Digite um número inteiro válido.\\033[m')\n",
    "        num = str(input(val))\n",
    "    return num\n",
    "n=leiaInt('Digite um número: ')\n",
    "print(f'Você acabou de digitar o número {n}')"
   ]
  },
  {
   "cell_type": "code",
   "execution_count": 46,
   "id": "91540a67",
   "metadata": {
    "ExecuteTime": {
     "end_time": "2021-06-11T22:53:27.832399Z",
     "start_time": "2021-06-11T22:53:27.817895Z"
    }
   },
   "outputs": [
    {
     "name": "stdout",
     "output_type": "stream",
     "text": [
      "{'total': 4, 'maior': 10, 'menor': 2.5, 'média': 6.875, 'situação': 'RAZOÁVEL'}\n"
     ]
    }
   ],
   "source": [
    "# 105.Faça um programa que tenha uma função notas() que pode receber várias notas de alunos e vai retornar um dicionário com\n",
    "## as seguintes informações:\n",
    "## - Quantidade de notas\n",
    "## - A maior nota\n",
    "## - A menor nota\n",
    "## - A média da turma\n",
    "## - A situação (opcional)\n",
    "## Adicione também as dosctrings da função\n",
    "\n",
    "def notas (*n, sit = False):\n",
    "    \"\"\"\n",
    "    -> Função para analisar notas de situações de vários alunos.\n",
    "    :param n: uma ou mais notas dos alunos(aceita várias)\n",
    "    :param sit: valor opcional, indicando se deve ou não adicionar a situação\n",
    "    :return: dicionário com várias informações sobre a situação da turma.\n",
    "    \"\"\"\n",
    "    aluno={}\n",
    "    aluno['total'] = len(n)\n",
    "    aluno['maior'] = max(n)\n",
    "    aluno['menor'] = min(n)\n",
    "    aluno['média'] = sum(n)/len(n)\n",
    "    if sit:  \n",
    "        if aluno['média'] >= 7:\n",
    "            aluno['situação'] = 'BOA'\n",
    "        elif aluno['média'] >= 5:\n",
    "            aluno['situação'] = 'RAZOÁVEL'\n",
    "        else:\n",
    "            aluno['situação'] = 'RUIM'\n",
    "    return aluno\n",
    "\n",
    "resp = notas(9, 2.5, 10, 6, sit=True)\n",
    "print(resp)"
   ]
  }
 ],
 "metadata": {
  "kernelspec": {
   "display_name": "Python 3",
   "language": "python",
   "name": "python3"
  },
  "varInspector": {
   "cols": {
    "lenName": 16,
    "lenType": 16,
    "lenVar": 40
   },
   "kernels_config": {
    "python": {
     "delete_cmd_postfix": "",
     "delete_cmd_prefix": "del ",
     "library": "var_list.py",
     "varRefreshCmd": "print(var_dic_list())"
    },
    "r": {
     "delete_cmd_postfix": ") ",
     "delete_cmd_prefix": "rm(",
     "library": "var_list.r",
     "varRefreshCmd": "cat(var_dic_list()) "
    }
   },
   "types_to_exclude": [
    "module",
    "function",
    "builtin_function_or_method",
    "instance",
    "_Feature"
   ],
   "window_display": false
  }
 },
 "nbformat": 4,
 "nbformat_minor": 5
}
