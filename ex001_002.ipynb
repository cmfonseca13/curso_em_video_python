{
 "cells": [
  {
   "cell_type": "code",
   "execution_count": 3,
   "id": "07ca6cbe",
   "metadata": {
    "ExecuteTime": {
     "end_time": "2021-06-29T11:50:08.112689Z",
     "start_time": "2021-06-29T11:50:08.110331Z"
    }
   },
   "outputs": [
    {
     "name": "stdout",
     "output_type": "stream",
     "text": [
      "Olá, Mundo!\n"
     ]
    }
   ],
   "source": [
    "print('Olá, Mundo!')"
   ]
  },
  {
   "cell_type": "code",
   "execution_count": 1,
   "id": "b28da0c7",
   "metadata": {
    "ExecuteTime": {
     "end_time": "2021-06-29T11:49:54.537563Z",
     "start_time": "2021-06-29T11:49:48.285000Z"
    }
   },
   "outputs": [
    {
     "name": "stdout",
     "output_type": "stream",
     "text": [
      "Qual é o seu nome? Carolina\n",
      "Quantos anos você tem? 31\n",
      "Quanto você pesa? 58\n"
     ]
    }
   ],
   "source": [
    "nome = input('Qual é o seu nome? ')\n",
    "idade = input('Quantos anos você tem? ')\n",
    "peso = input('Quanto você pesa? ')"
   ]
  },
  {
   "cell_type": "code",
   "execution_count": 2,
   "id": "660bf996",
   "metadata": {
    "ExecuteTime": {
     "end_time": "2021-06-29T11:49:57.002070Z",
     "start_time": "2021-06-29T11:49:56.999446Z"
    }
   },
   "outputs": [
    {
     "name": "stdout",
     "output_type": "stream",
     "text": [
      "Carolina 31 58\n"
     ]
    }
   ],
   "source": [
    "print (nome, idade, peso)"
   ]
  },
  {
   "cell_type": "code",
   "execution_count": 4,
   "id": "b26aac8b",
   "metadata": {
    "ExecuteTime": {
     "end_time": "2021-06-29T11:50:28.939173Z",
     "start_time": "2021-06-29T11:50:26.332005Z"
    }
   },
   "outputs": [
    {
     "name": "stdout",
     "output_type": "stream",
     "text": [
      "Qual é o seu nome? Carolina\n",
      "Olá Carolina seja bem-vindo!\n"
     ]
    }
   ],
   "source": [
    "nome=input('Qual é o seu nome? ')\n",
    "print ('Olá', nome, 'seja bem-vindo!')"
   ]
  },
  {
   "cell_type": "code",
   "execution_count": 5,
   "id": "2b2e8b4d",
   "metadata": {
    "ExecuteTime": {
     "end_time": "2021-06-29T11:50:37.503027Z",
     "start_time": "2021-06-29T11:50:35.823078Z"
    }
   },
   "outputs": [
    {
     "name": "stdout",
     "output_type": "stream",
     "text": [
      "Digite o seu nome: Carolina\n",
      "É um prazer te conhecer, Carolina !\n"
     ]
    }
   ],
   "source": [
    "nome = input('Digite o seu nome: ')\n",
    "print('É um prazer te conhecer,', nome,'!')"
   ]
  },
  {
   "cell_type": "code",
   "execution_count": 7,
   "id": "f532f442",
   "metadata": {
    "ExecuteTime": {
     "end_time": "2021-06-29T11:51:01.389770Z",
     "start_time": "2021-06-29T11:50:59.268600Z"
    }
   },
   "outputs": [
    {
     "name": "stdout",
     "output_type": "stream",
     "text": [
      "Digite o seu nome: Carolina\n",
      "É um prazer te conhecer, Carolina!\n"
     ]
    }
   ],
   "source": [
    "nome = input('Digite o seu nome: ')\n",
    "print('É um prazer te conhecer, {}!'.format(nome))"
   ]
  }
 ],
 "metadata": {
  "interpreter": {
   "hash": "5889dfd8d4222d6bba799440eb1d92809e81da6d875298ce2316b0ab5952bb29"
  },
  "kernelspec": {
   "display_name": "Python 3",
   "language": "python",
   "name": "python3"
  },
  "varInspector": {
   "cols": {
    "lenName": 16,
    "lenType": 16,
    "lenVar": 40
   },
   "kernels_config": {
    "python": {
     "delete_cmd_postfix": "",
     "delete_cmd_prefix": "del ",
     "library": "var_list.py",
     "varRefreshCmd": "print(var_dic_list())"
    },
    "r": {
     "delete_cmd_postfix": ") ",
     "delete_cmd_prefix": "rm(",
     "library": "var_list.r",
     "varRefreshCmd": "cat(var_dic_list()) "
    }
   },
   "types_to_exclude": [
    "module",
    "function",
    "builtin_function_or_method",
    "instance",
    "_Feature"
   ],
   "window_display": false
  }
 },
 "nbformat": 4,
 "nbformat_minor": 5
}
