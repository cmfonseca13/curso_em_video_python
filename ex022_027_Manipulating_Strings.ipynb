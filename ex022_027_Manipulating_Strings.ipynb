{
 "cells": [
  {
   "cell_type": "code",
   "execution_count": 1,
   "id": "c70f96cb",
   "metadata": {
    "ExecuteTime": {
     "end_time": "2021-05-19T16:11:28.554952Z",
     "start_time": "2021-05-19T16:11:28.545945Z"
    }
   },
   "outputs": [
    {
     "data": {
      "text/plain": [
       "True"
      ]
     },
     "execution_count": 1,
     "metadata": {},
     "output_type": "execute_result"
    }
   ],
   "source": [
    "frase = 'Curso em Vídeo Python'\n",
    "'Curso' in frase"
   ]
  },
  {
   "cell_type": "code",
   "execution_count": 3,
   "id": "a4f85756",
   "metadata": {
    "ExecuteTime": {
     "end_time": "2021-05-19T17:28:12.171363Z",
     "start_time": "2021-05-19T17:28:12.168860Z"
    }
   },
   "outputs": [
    {
     "name": "stdout",
     "output_type": "stream",
     "text": [
      "s\n"
     ]
    }
   ],
   "source": [
    "frase = 'Curso em Vídeo Python'\n",
    "print(frase[3])"
   ]
  },
  {
   "cell_type": "code",
   "execution_count": 4,
   "id": "e5c97657",
   "metadata": {
    "ExecuteTime": {
     "end_time": "2021-05-19T17:28:28.575371Z",
     "start_time": "2021-05-19T17:28:28.561808Z"
    }
   },
   "outputs": [
    {
     "name": "stdout",
     "output_type": "stream",
     "text": [
      "so em Víde\n"
     ]
    }
   ],
   "source": [
    "frase = 'Curso em Vídeo Python'\n",
    "print(frase[3:13])"
   ]
  },
  {
   "cell_type": "code",
   "execution_count": 5,
   "id": "0b8e1ba6",
   "metadata": {
    "ExecuteTime": {
     "end_time": "2021-05-19T17:28:40.841537Z",
     "start_time": "2021-05-19T17:28:40.833530Z"
    }
   },
   "outputs": [
    {
     "name": "stdout",
     "output_type": "stream",
     "text": [
      "Curso em Víde\n"
     ]
    }
   ],
   "source": [
    "frase = 'Curso em Vídeo Python'\n",
    "print(frase[:13])"
   ]
  },
  {
   "cell_type": "code",
   "execution_count": 7,
   "id": "77544358",
   "metadata": {
    "ExecuteTime": {
     "end_time": "2021-05-19T17:29:22.691061Z",
     "start_time": "2021-05-19T17:29:22.687558Z"
    }
   },
   "outputs": [
    {
     "name": "stdout",
     "output_type": "stream",
     "text": [
      "us mVdo\n"
     ]
    }
   ],
   "source": [
    "frase = 'Curso em Vídeo Python'\n",
    "print(frase[1:15:2])"
   ]
  },
  {
   "cell_type": "code",
   "execution_count": 8,
   "id": "a8ec00f2",
   "metadata": {
    "ExecuteTime": {
     "end_time": "2021-05-19T17:29:50.136747Z",
     "start_time": "2021-05-19T17:29:50.122735Z"
    }
   },
   "outputs": [
    {
     "name": "stdout",
     "output_type": "stream",
     "text": [
      "Croe íe yhn\n"
     ]
    }
   ],
   "source": [
    "frase = 'Curso em Vídeo Python'\n",
    "print(frase[::2])\n",
    "\n",
    "print('oi')"
   ]
  },
  {
   "cell_type": "code",
   "execution_count": 54,
   "id": "28cfe49f",
   "metadata": {
    "ExecuteTime": {
     "end_time": "2021-05-19T19:28:45.614027Z",
     "start_time": "2021-05-19T19:28:45.610024Z"
    }
   },
   "outputs": [
    {
     "name": "stdout",
     "output_type": "stream",
     "text": [
      "Croe íe yhn\n"
     ]
    }
   ],
   "source": [
    "frase = 'Curso em Vídeo Python'\n",
    "print(frase[::2])"
   ]
  },
  {
   "cell_type": "code",
   "execution_count": 53,
   "id": "81e6d409",
   "metadata": {
    "ExecuteTime": {
     "end_time": "2021-05-19T19:28:42.947353Z",
     "start_time": "2021-05-19T19:28:42.943358Z"
    }
   },
   "outputs": [
    {
     "name": "stdout",
     "output_type": "stream",
     "text": [
      "Curso em Víde\n"
     ]
    }
   ],
   "source": [
    "frase = 'Curso em Vídeo Python'\n",
    "print(frase[:13])"
   ]
  },
  {
   "cell_type": "code",
   "execution_count": 9,
   "id": "4722bd0f",
   "metadata": {
    "ExecuteTime": {
     "end_time": "2021-05-19T17:32:33.660051Z",
     "start_time": "2021-05-19T17:32:33.651044Z"
    }
   },
   "outputs": [
    {
     "name": "stdout",
     "output_type": "stream",
     "text": [
      "The OAE2, represented by the Black radiolaritic shales Mb., is characterized by a dominance of: (i) marine phytoplankton-derived AOM; (ii) plate-like bacterial AOM; and, (iii) sheet-like bacterial AOM with a cratered aspect (0.36—31.48 wt.% TOC).\n",
      "Choanoflagelates (with high degree of amorphization) at the base of the unit, zooclasts, sporomorphs, and solid bitumen are also present.\n",
      "The change in the organic facies suggests the occurrence of a transgressive phase.\n",
      "This organic facies is indicative of a relative sea level rise, with O2 conditions deteriorating with the emplacement of reducing conditions, possibly related to an increase in primary productivity.\n"
     ]
    }
   ],
   "source": [
    "print('''The OAE2, represented by the Black radiolaritic shales Mb., is characterized by a dominance of: (i) marine phytoplankton-derived AOM; (ii) plate-like bacterial AOM; and, (iii) sheet-like bacterial AOM with a cratered aspect (0.36—31.48 wt.% TOC).\n",
    "Choanoflagelates (with high degree of amorphization) at the base of the unit, zooclasts, sporomorphs, and solid bitumen are also present.\n",
    "The change in the organic facies suggests the occurrence of a transgressive phase.\n",
    "This organic facies is indicative of a relative sea level rise, with O2 conditions deteriorating with the emplacement of reducing conditions, possibly related to an increase in primary productivity.''')"
   ]
  },
  {
   "cell_type": "code",
   "execution_count": 10,
   "id": "42f077a5",
   "metadata": {
    "ExecuteTime": {
     "end_time": "2021-05-19T17:33:08.071244Z",
     "start_time": "2021-05-19T17:33:08.059740Z"
    }
   },
   "outputs": [
    {
     "name": "stdout",
     "output_type": "stream",
     "text": [
      "3\n"
     ]
    }
   ],
   "source": [
    "frase = 'Curso em Vídeo Python'\n",
    "print(frase.count('o'))"
   ]
  },
  {
   "cell_type": "code",
   "execution_count": 12,
   "id": "d1bd762e",
   "metadata": {
    "ExecuteTime": {
     "end_time": "2021-05-19T17:33:46.638737Z",
     "start_time": "2021-05-19T17:33:46.625537Z"
    }
   },
   "outputs": [
    {
     "name": "stdout",
     "output_type": "stream",
     "text": [
      "1\n"
     ]
    }
   ],
   "source": [
    "frase = 'Curso em Vídeo Python'\n",
    "print(frase.count('o', 0, 13))"
   ]
  },
  {
   "cell_type": "code",
   "execution_count": 13,
   "id": "92d56c54",
   "metadata": {
    "ExecuteTime": {
     "end_time": "2021-05-19T17:34:09.268302Z",
     "start_time": "2021-05-19T17:34:09.252665Z"
    }
   },
   "outputs": [
    {
     "name": "stdout",
     "output_type": "stream",
     "text": [
      "3\n"
     ]
    }
   ],
   "source": [
    "frase = 'Curso em Vídeo Python'\n",
    "print(frase.upper().count('O'))"
   ]
  },
  {
   "cell_type": "code",
   "execution_count": 16,
   "id": "2d4adc45",
   "metadata": {
    "ExecuteTime": {
     "end_time": "2021-05-19T17:34:53.228980Z",
     "start_time": "2021-05-19T17:34:53.217532Z"
    }
   },
   "outputs": [
    {
     "name": "stdout",
     "output_type": "stream",
     "text": [
      "21\n"
     ]
    }
   ],
   "source": [
    "frase = '   Curso em Vídeo Python  '\n",
    "print(len(frase.strip()))"
   ]
  },
  {
   "cell_type": "code",
   "execution_count": 17,
   "id": "38ae2a6e",
   "metadata": {
    "ExecuteTime": {
     "end_time": "2021-05-19T17:35:12.604280Z",
     "start_time": "2021-05-19T17:35:12.601778Z"
    }
   },
   "outputs": [
    {
     "name": "stdout",
     "output_type": "stream",
     "text": [
      "21\n"
     ]
    }
   ],
   "source": [
    "frase = 'Curso em Vídeo Python'\n",
    "print(len(frase))"
   ]
  },
  {
   "cell_type": "code",
   "execution_count": 18,
   "id": "530b67a2",
   "metadata": {
    "ExecuteTime": {
     "end_time": "2021-05-19T17:35:46.035049Z",
     "start_time": "2021-05-19T17:35:46.020537Z"
    }
   },
   "outputs": [
    {
     "name": "stdout",
     "output_type": "stream",
     "text": [
      "Curso em Vídeo Android\n"
     ]
    }
   ],
   "source": [
    "frase = 'Curso em Vídeo Python'\n",
    "print(frase.replace('Python', 'Android'))"
   ]
  },
  {
   "cell_type": "code",
   "execution_count": 19,
   "id": "73d599ba",
   "metadata": {
    "ExecuteTime": {
     "end_time": "2021-05-19T18:45:07.370418Z",
     "start_time": "2021-05-19T18:45:07.359909Z"
    }
   },
   "outputs": [
    {
     "name": "stdout",
     "output_type": "stream",
     "text": [
      "0\n"
     ]
    }
   ],
   "source": [
    "frase = 'Curso em Vídeo Python'\n",
    "print(frase.find('Curso'))"
   ]
  },
  {
   "cell_type": "code",
   "execution_count": 21,
   "id": "2908cfc2",
   "metadata": {
    "ExecuteTime": {
     "end_time": "2021-05-19T18:45:57.299351Z",
     "start_time": "2021-05-19T18:45:57.283701Z"
    }
   },
   "outputs": [
    {
     "name": "stdout",
     "output_type": "stream",
     "text": [
      "9\n"
     ]
    }
   ],
   "source": [
    "frase = 'Curso em Vídeo Python'\n",
    "print(frase.lower().find('vídeo'))"
   ]
  },
  {
   "cell_type": "code",
   "execution_count": 22,
   "id": "05872d29",
   "metadata": {
    "ExecuteTime": {
     "end_time": "2021-05-19T18:46:49.333820Z",
     "start_time": "2021-05-19T18:46:49.317321Z"
    }
   },
   "outputs": [
    {
     "name": "stdout",
     "output_type": "stream",
     "text": [
      "['Curso', 'em', 'Vídeo', 'Python']\n"
     ]
    }
   ],
   "source": [
    "frase = 'Curso em Vídeo Python'\n",
    "print(frase.split())"
   ]
  },
  {
   "cell_type": "code",
   "execution_count": 24,
   "id": "4962a0ab",
   "metadata": {
    "ExecuteTime": {
     "end_time": "2021-05-19T18:48:00.629356Z",
     "start_time": "2021-05-19T18:48:00.612442Z"
    }
   },
   "outputs": [
    {
     "name": "stdout",
     "output_type": "stream",
     "text": [
      "C-u-r-s-o- -e-m- -V-í-d-e-o- -P-y-t-h-o-n\n"
     ]
    }
   ],
   "source": [
    "frase = 'Curso em Vídeo Python'\n",
    "dividido = (frase.split())\n",
    "print('-'.join(frase))"
   ]
  },
  {
   "cell_type": "code",
   "execution_count": 29,
   "id": "cfaa6053",
   "metadata": {
    "ExecuteTime": {
     "end_time": "2021-05-19T18:49:04.874041Z",
     "start_time": "2021-05-19T18:49:04.859529Z"
    }
   },
   "outputs": [
    {
     "name": "stdout",
     "output_type": "stream",
     "text": [
      "Vídeo\n"
     ]
    }
   ],
   "source": [
    "frase = 'Curso em Vídeo Python'\n",
    "dividido = (frase.split())\n",
    "print(dividido[2])"
   ]
  },
  {
   "cell_type": "code",
   "execution_count": 28,
   "id": "2c3381ae",
   "metadata": {
    "ExecuteTime": {
     "end_time": "2021-05-19T18:49:03.127516Z",
     "start_time": "2021-05-19T18:49:03.120510Z"
    }
   },
   "outputs": [
    {
     "name": "stdout",
     "output_type": "stream",
     "text": [
      "e\n"
     ]
    }
   ],
   "source": [
    "frase = 'Curso em Vídeo Python'\n",
    "dividido = (frase.split())\n",
    "print(dividido[2] [3])"
   ]
  },
  {
   "cell_type": "markdown",
   "id": "695c5aef",
   "metadata": {},
   "source": [
    "# Desafios"
   ]
  },
  {
   "cell_type": "code",
   "execution_count": 92,
   "id": "8f923b2f",
   "metadata": {
    "ExecuteTime": {
     "end_time": "2021-05-19T21:39:36.079870Z",
     "start_time": "2021-05-19T21:39:33.403904Z"
    }
   },
   "outputs": [
    {
     "name": "stdout",
     "output_type": "stream",
     "text": [
      "Digite o seu nome completo na tela: Carolina Fonseca\n",
      "O nome com todas as letras maiúsculas: CAROLINA FONSECA\n",
      "O nome com todas as letras minúsculas: carolina fonseca\n",
      "Quantas letras ao todo tem o seu nome (sem considerar espaços): 15\n",
      "Quantas letras tem o primeiro nome: 8\n"
     ]
    }
   ],
   "source": [
    "# 22. Crie um programa que leia o nome completo de uma pessoa e mostre:\n",
    "## O nome com todas as letras maiúsculas\n",
    "## O nome com todas as letras minúsculas\n",
    "## Quantas letras ao todo (sem considerar espaços)\n",
    "## Quantas letras tem o primeiro nome\n",
    "\n",
    "name = input('Digite o seu nome completo na tela: ')\n",
    "name_no_space = name.replace(\" \", \"\")\n",
    "name_spl = name.split()\n",
    "first_name = name_spl[0]\n",
    "print(f'O nome com todas as letras maiúsculas: {name.upper()}')\n",
    "print(f'O nome com todas as letras minúsculas: {name.lower()}')\n",
    "print(f'Quantas letras ao todo tem o seu nome (sem considerar espaços): {len(name_no_space)}')\n",
    "print(f'Quantas letras tem o primeiro nome: {len(first_name)}')"
   ]
  },
  {
   "cell_type": "code",
   "execution_count": 100,
   "id": "d329e18b",
   "metadata": {
    "ExecuteTime": {
     "end_time": "2021-05-19T21:49:52.854319Z",
     "start_time": "2021-05-19T21:49:51.018312Z"
    }
   },
   "outputs": [
    {
     "name": "stdout",
     "output_type": "stream",
     "text": [
      "Digite um número entre 0 e 9999: 1234\n",
      "Analisando o número 1234:\n",
      "Unidade: 4\n",
      "Dezena: 3\n",
      "Centena: 2\n",
      "Milhar: 1\n"
     ]
    }
   ],
   "source": [
    "# 23. Faça um programa que leia um número de 0 a 9999 e mostre na tela cada um dos digitos separados.\n",
    "## Digite um número:1834\n",
    "## unidade:4\n",
    "## dezena:3\n",
    "## centena:8\n",
    "## milhar:1\n",
    "\n",
    "num = int(input('Digite um número entre 0 e 9999: '))\n",
    "u = num // 1 % 10\n",
    "d = num // 10 % 10\n",
    "c = num // 100 % 10\n",
    "m = num // 1000 % 10\n",
    "\n",
    "print(f'Analisando o número {num}:')\n",
    "print(f'Unidade: {u}')\n",
    "print(f'Dezena: {d}')\n",
    "print(f'Centena: {c}')\n",
    "print(f'Milhar: {m}')"
   ]
  },
  {
   "cell_type": "code",
   "execution_count": 103,
   "id": "039bd892",
   "metadata": {
    "ExecuteTime": {
     "end_time": "2021-05-19T21:58:40.795540Z",
     "start_time": "2021-05-19T21:58:37.380130Z"
    }
   },
   "outputs": [
    {
     "name": "stdout",
     "output_type": "stream",
     "text": [
      "Em que cidade você mora? Santo antonio\n",
      "True\n"
     ]
    }
   ],
   "source": [
    "# 24. Crie um programa que leia o nome de uma cidade e diga se ela começa ou não com o nome 'Santo'.\n",
    "\n",
    "## Em que cidade você mora?\n",
    "\n",
    "#cid = input('Em que cidade você mora? ')\n",
    "#cid_split = cid.split()\n",
    "#cid_Santo = 'Santo' in cid_split[0]\n",
    "#print(f'O nome da cidade começa pelo nome Santo? {cid_Santo}')\n",
    "\n",
    "cid = str(input('Em que cidade você mora? ')).strip()\n",
    "print(cid[:5].upper() == 'SANTO')"
   ]
  },
  {
   "cell_type": "code",
   "execution_count": 119,
   "id": "64f53dba",
   "metadata": {
    "ExecuteTime": {
     "end_time": "2021-05-19T22:05:36.719519Z",
     "start_time": "2021-05-19T22:05:32.071246Z"
    }
   },
   "outputs": [
    {
     "name": "stdout",
     "output_type": "stream",
     "text": [
      "Qual é o seu nome? Carolina SiLva\n",
      "Você é Silva? True\n"
     ]
    }
   ],
   "source": [
    "# 25. Crie um programa que leia o nome de uma pessoa e diga se ela tem 'Silva' no nome.\n",
    "\n",
    "name = str(input('Qual é o seu nome? ')).strip().lower().split()\n",
    "n_Silva = 'silva' in name\n",
    "print(f'Você é Silva? {n_Silva}')"
   ]
  },
  {
   "cell_type": "code",
   "execution_count": 120,
   "id": "7a63d851",
   "metadata": {
    "ExecuteTime": {
     "end_time": "2021-05-19T22:06:47.431496Z",
     "start_time": "2021-05-19T22:06:41.857926Z"
    }
   },
   "outputs": [
    {
     "name": "stdout",
     "output_type": "stream",
     "text": [
      "Digite uma frase: Carolina Maria FLores\n",
      "Quantas vezes aparece a letra a: 4\n",
      "Em que posição ela aparece a primeira vez: 2\n",
      "Em que posição ela aparece pela última vez: 14\n"
     ]
    }
   ],
   "source": [
    "# 26. Faça um programa que leia uma frase pelo teclado e mostre:\n",
    "## Quantas vezes aparece a letra 'a'.\n",
    "## Em que posição ela aparece a primeira vez. left\n",
    "## Em que posição ela aparece a última vez. right\n",
    "\n",
    "frase = str(input('Digite uma frase: ')).upper().strip()\n",
    "letra_a = frase.count('A')\n",
    "first_a = frase.find('A')\n",
    "last_a = frase.rfind('A')\n",
    "print(f'Quantas vezes aparece a letra a: {letra_a}')\n",
    "print(f'Em que posição ela aparece a primeira vez: {first_a+1}')\n",
    "print(f'Em que posição ela aparece pela última vez: {last_a+1}')"
   ]
  },
  {
   "cell_type": "code",
   "execution_count": 126,
   "id": "1191da52",
   "metadata": {
    "ExecuteTime": {
     "end_time": "2021-05-19T22:11:41.437805Z",
     "start_time": "2021-05-19T22:11:37.714809Z"
    }
   },
   "outputs": [
    {
     "name": "stdout",
     "output_type": "stream",
     "text": [
      "Qual é o seu nome? Carolina Maria Flores\n",
      "primeiro = Carolina\n",
      "último =Flores\n"
     ]
    }
   ],
   "source": [
    "# 27. Faça um programa que leia o nome completo de uma pessoa, mostrando em seguida o primeiro e o último nome separadamente.\n",
    "## Ana Maria de Souza\n",
    "## primeiro = Ana\n",
    "## último = Souza\n",
    "\n",
    "name = input('Qual é o seu nome? ').strip()\n",
    "name_spl = name.split()\n",
    "name_first = name_spl[0]\n",
    "name_last = name_spl[len(name_spl)-1]\n",
    "print(f'primeiro = {name_first}')\n",
    "print(f'último = {name_last}')\n"
   ]
  }
 ],
 "metadata": {
  "kernelspec": {
   "display_name": "Python 3",
   "language": "python",
   "name": "python3"
  },
  "varInspector": {
   "cols": {
    "lenName": 16,
    "lenType": 16,
    "lenVar": 40
   },
   "kernels_config": {
    "python": {
     "delete_cmd_postfix": "",
     "delete_cmd_prefix": "del ",
     "library": "var_list.py",
     "varRefreshCmd": "print(var_dic_list())"
    },
    "r": {
     "delete_cmd_postfix": ") ",
     "delete_cmd_prefix": "rm(",
     "library": "var_list.r",
     "varRefreshCmd": "cat(var_dic_list()) "
    }
   },
   "types_to_exclude": [
    "module",
    "function",
    "builtin_function_or_method",
    "instance",
    "_Feature"
   ],
   "window_display": false
  }
 },
 "nbformat": 4,
 "nbformat_minor": 5
}
